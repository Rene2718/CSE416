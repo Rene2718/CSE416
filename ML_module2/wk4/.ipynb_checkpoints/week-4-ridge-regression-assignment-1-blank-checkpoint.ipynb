{
 "cells": [
  {
   "cell_type": "markdown",
   "metadata": {},
   "source": [
    "# Regression Week 4: Ridge Regression (interpretation)"
   ]
  },
  {
   "cell_type": "markdown",
   "metadata": {},
   "source": [
    "In this notebook, we will run ridge regression multiple times with different L2 penalties to see which one produces the best fit. We will revisit the example of polynomial regression as a means to see the effect of L2 regularization. In particular, we will:\n",
    "* Use a pre-built implementation of regression (GraphLab Create) to run polynomial regression\n",
    "* Use matplotlib to visualize polynomial regressions\n",
    "* Use a pre-built implementation of regression (GraphLab Create) to run polynomial regression, this time with L2 penalty\n",
    "* Use matplotlib to visualize polynomial regressions under L2 regularization\n",
    "* Choose best L2 penalty using cross-validation.\n",
    "* Assess the final fit using test data.\n",
    "\n",
    "We will continue to use the House data from previous notebooks.  (In the next programming assignment for this module, you will implement your own ridge regression learning algorithm using gradient descent.)"
   ]
  },
  {
   "cell_type": "markdown",
   "metadata": {},
   "source": [
    "# Fire up graphlab create"
   ]
  },
  {
   "cell_type": "code",
   "execution_count": 1,
   "metadata": {},
   "outputs": [],
   "source": [
    "import graphlab\n",
    "import pandas as pd\n",
    "import numpy as np"
   ]
  },
  {
   "cell_type": "markdown",
   "metadata": {},
   "source": [
    "# Polynomial regression, revisited"
   ]
  },
  {
   "cell_type": "markdown",
   "metadata": {},
   "source": [
    "We build on the material from Week 3, where we wrote the function to produce an SFrame with columns containing the powers of a given input. Copy and paste the function `polynomial_sframe` from Week 3:"
   ]
  },
  {
   "cell_type": "code",
   "execution_count": 2,
   "metadata": {},
   "outputs": [],
   "source": [
    "def polynomial_sframe(feature, degree):\n",
    "    # assume that degree >= 1\n",
    "    # initialize the SFrame:\n",
    "    poly_sframe = pd.DataFrame()\n",
    "    # and set poly_sframe['power_1'] equal to the passed feature\n",
    "    poly_sframe['power_1']= feature\n",
    "    # first check if degree > 1\n",
    "    if degree > 1:\n",
    "        # then loop over the remaining degrees:\n",
    "        # range usually starts at 0 and stops at the endpoint-1. We want it to start at 2 and stop at degree\n",
    "        for power in range(2, degree+1): \n",
    "            # first we'll give the column a name:\n",
    "            name = 'power_' + str(power)\n",
    "            # then assign poly_sframe[name] to the appropriate power of feature\n",
    "            poly_sframe[name]=poly_sframe['power_1'].apply(lambda x: x**power)\n",
    "\n",
    "    return poly_sframe\n",
    "    "
   ]
  },
  {
   "cell_type": "markdown",
   "metadata": {},
   "source": [
    "Let's use matplotlib to visualize what a polynomial regression looks like on the house data."
   ]
  },
  {
   "cell_type": "code",
   "execution_count": 3,
   "metadata": {},
   "outputs": [
    {
     "name": "stdout",
     "output_type": "stream",
     "text": [
      "This non-commercial license of GraphLab Create for academic use is assigned to rene2718@uw.edu and will expire on September 03, 2020.\n"
     ]
    },
    {
     "name": "stderr",
     "output_type": "stream",
     "text": [
      "[INFO] graphlab.cython.cy_server: GraphLab Create v2.1 started. Logging: /tmp/graphlab_server_1570914444.log\n"
     ]
    }
   ],
   "source": [
    "import matplotlib.pyplot as plt\n",
    "%matplotlib inline"
   ]
  },
  {
   "cell_type": "code",
   "execution_count": 5,
   "metadata": {},
   "outputs": [],
   "source": [
    "\n",
    "dtype_dict = {'bathrooms':float, 'waterfront':int, 'sqft_above':int, 'sqft_living15':float, 'grade':int, 'yr_renovated':int, 'price':float, 'bedrooms':float, 'zipcode':str, 'long':float, 'sqft_lot15':float, 'sqft_living':float, 'floors':float, 'condition':int, 'lat':float, 'date':str, 'sqft_basement':int, 'yr_built':int, 'id':str, 'sqft_lot':int, 'view':int}\n",
    "\n",
    "sales = pd.read_csv('kc_house_data.csv', dtype=dtype_dict)\n",
    "sales = sales.sort_values(['sqft_living','price'])"
   ]
  },
  {
   "cell_type": "code",
   "execution_count": null,
   "metadata": {},
   "outputs": [],
   "source": [
    "sales = graphlab.SFrame('kc_house_data.gl/')"
   ]
  },
  {
   "cell_type": "markdown",
   "metadata": {},
   "source": [
    "As in Week 3, we will use the sqft_living variable. For plotting purposes (connecting the dots), you'll need to sort by the values of sqft_living. For houses with identical square footage, we break the tie by their prices."
   ]
  },
  {
   "cell_type": "code",
   "execution_count": null,
   "metadata": {},
   "outputs": [],
   "source": [
    "sales = sales.sort(['sqft_living','price'])"
   ]
  },
  {
   "cell_type": "markdown",
   "metadata": {},
   "source": [
    "Let us revisit the 15th-order polynomial model using the 'sqft_living' input. Generate polynomial features up to degree 15 using `polynomial_sframe()` and fit a model with these features. When fitting the model, use an L2 penalty of `1e-5`:"
   ]
  },
  {
   "cell_type": "code",
   "execution_count": 6,
   "metadata": {},
   "outputs": [],
   "source": [
    "l2_small_penalty = 1e-5"
   ]
  },
  {
   "cell_type": "markdown",
   "metadata": {},
   "source": [
    "Note: When we have so many features and so few data points, the solution can become highly numerically unstable, which can sometimes lead to strange unpredictable results.  Thus, rather than using no regularization, we will introduce a tiny amount of regularization (`l2_penalty=1e-5`) to make the solution numerically stable.  (In lecture, we discussed the fact that regularization can also help with numerical stability, and here we are seeing a practical example.)\n",
    "\n",
    "With the L2 penalty specified above, fit the model and print out the learned weights.\n",
    "\n",
    "Hint: make sure to add 'price' column to the new SFrame before calling `graphlab.linear_regression.create()`. Also, make sure GraphLab Create doesn't create its own validation set by using the option `validation_set=None` in this call."
   ]
  },
  {
   "cell_type": "code",
   "execution_count": 7,
   "metadata": {},
   "outputs": [
    {
     "data": {
      "text/plain": [
       "Ridge(alpha=1e-05, copy_X=True, fit_intercept=True, max_iter=None,\n",
       "   normalize=True, random_state=None, solver='auto', tol=0.001)"
      ]
     },
     "execution_count": 7,
     "metadata": {},
     "output_type": "execute_result"
    }
   ],
   "source": [
    "from sklearn import linear_model\n",
    "import numpy as np\n",
    "\n",
    "poly15_data = polynomial_sframe(sales['sqft_living'], 15) # use equivalent of `polynomial_sframe`\n",
    "model = linear_model.Ridge(alpha=l2_small_penalty, normalize=True)\n",
    "model.fit(poly15_data, sales['price'])\n"
   ]
  },
  {
   "cell_type": "code",
   "execution_count": 12,
   "metadata": {},
   "outputs": [
    {
     "data": {
      "text/plain": [
       "array([ 1.74425503e+02, -7.83644074e-02,  3.73280427e-05, -2.85554311e-09,\n",
       "       -2.37487557e-13,  9.70529709e-18,  1.77791834e-21,  9.76993158e-26,\n",
       "        7.78897288e-31, -3.83833667e-34, -4.52940095e-38, -3.16694117e-42,\n",
       "       -1.24102475e-46,  4.53456467e-51,  1.63425896e-54])"
      ]
     },
     "execution_count": 12,
     "metadata": {},
     "output_type": "execute_result"
    }
   ],
   "source": [
    "len(model.fit(poly15_data, sales['price']).coef_)\n",
    "model.fit(poly15_data, sales['price']).coef_"
   ]
  },
  {
   "cell_type": "markdown",
   "metadata": {},
   "source": [
    "***QUIZ QUESTION:  What's the learned value for the coefficient of feature `power_1`?***"
   ]
  },
  {
   "cell_type": "markdown",
   "metadata": {},
   "source": [
    "# Observe overfitting"
   ]
  },
  {
   "cell_type": "markdown",
   "metadata": {},
   "source": [
    "Recall from Week 3 that the polynomial fit of degree 15 changed wildly whenever the data changed. In particular, when we split the sales data into four subsets and fit the model of degree 15, the result came out to be very different for each subset. The model had a *high variance*. We will see in a moment that ridge regression reduces such variance. But first, we must reproduce the experiment we did in Week 3."
   ]
  },
  {
   "cell_type": "markdown",
   "metadata": {},
   "source": [
    "First, split the data into split the sales data into four subsets of roughly equal size and call them `set_1`, `set_2`, `set_3`, and `set_4`. Use `.random_split` function and make sure you set `seed=0`. "
   ]
  },
  {
   "cell_type": "code",
   "execution_count": 19,
   "metadata": {},
   "outputs": [],
   "source": [
    "set_1 = pd.read_csv('wk3_kc_house_set_1_data.csv', dtype=dtype_dict)\n",
    "set_2 = pd.read_csv('wk3_kc_house_set_2_data.csv', dtype=dtype_dict)\n",
    "set_3 = pd.read_csv('wk3_kc_house_set_3_data.csv', dtype=dtype_dict)\n",
    "set_4 = pd.read_csv('wk3_kc_house_set_4_data.csv', dtype=dtype_dict)"
   ]
  },
  {
   "cell_type": "markdown",
   "metadata": {},
   "source": [
    "Next, fit a 15th degree polynomial on `set_1`, `set_2`, `set_3`, and `set_4`, using 'sqft_living' to predict prices. Print the weights and make a plot of the resulting model.\n",
    "\n",
    "Hint: When calling `graphlab.linear_regression.create()`, use the same L2 penalty as before (i.e. `l2_small_penalty`).  Also, make sure GraphLab Create doesn't create its own validation set by using the option `validation_set = None` in this call."
   ]
  },
  {
   "cell_type": "code",
   "execution_count": 20,
   "metadata": {},
   "outputs": [],
   "source": [
    "l2_small_penalty=1e-9"
   ]
  },
  {
   "cell_type": "code",
   "execution_count": 124,
   "metadata": {
    "scrolled": false
   },
   "outputs": [
    {
     "data": {
      "text/plain": [
       "544.6693903291846"
      ]
     },
     "execution_count": 124,
     "metadata": {},
     "output_type": "execute_result"
    }
   ],
   "source": [
    "poly_1 = polynomial_sframe(set_1['sqft_living'], 15)\n",
    "poly_2 = polynomial_sframe(set_2['sqft_living'], 15)\n",
    "poly_3 = polynomial_sframe(set_3['sqft_living'], 15)\n",
    "poly_4 = polynomial_sframe(set_4['sqft_living'], 15)# use equivalent of `polynomial_sframe`\n",
    "model = linear_model.Ridge(alpha=l2_small_penalty, normalize=True)\n",
    "model1= model.fit(poly_1, set_1['price'])\n",
    "# model2= model.fit(poly_2, set_2['price'])\n",
    "# model3= model.fit(poly_3, set_3['price'])\n",
    "# model4= model.fit(poly_4, set_4['price'])\n",
    "model1.coef_[0]"
   ]
  },
  {
   "cell_type": "code",
   "execution_count": 125,
   "metadata": {},
   "outputs": [
    {
     "data": {
      "text/plain": [
       "859.3626475978917"
      ]
     },
     "execution_count": 125,
     "metadata": {},
     "output_type": "execute_result"
    }
   ],
   "source": [
    "model2= model.fit(poly_2, set_2['price'])\n",
    "model2.coef_[0]"
   ]
  },
  {
   "cell_type": "code",
   "execution_count": 126,
   "metadata": {},
   "outputs": [
    {
     "data": {
      "text/plain": [
       "-755.3959047401938"
      ]
     },
     "execution_count": 126,
     "metadata": {},
     "output_type": "execute_result"
    }
   ],
   "source": [
    "model3= model.fit(poly_3, set_3['price'])\n",
    "model3.coef_[0]"
   ]
  },
  {
   "cell_type": "code",
   "execution_count": 127,
   "metadata": {},
   "outputs": [
    {
     "data": {
      "text/plain": [
       "1119.4457483861213"
      ]
     },
     "execution_count": 127,
     "metadata": {},
     "output_type": "execute_result"
    }
   ],
   "source": [
    "model4= model.fit(poly_4, set_4['price'])\n",
    "\n",
    "model4.coef_[0]"
   ]
  },
  {
   "cell_type": "code",
   "execution_count": 81,
   "metadata": {},
   "outputs": [
    {
     "data": {
      "text/plain": [
       "array([ 525203.86613591,  525394.22999686,  525418.46787149, ...,\n",
       "        811422.9537882 ,  821997.62146415, 1065880.04623581])"
      ]
     },
     "execution_count": 81,
     "metadata": {},
     "output_type": "execute_result"
    }
   ],
   "source": [
    "#model4.coef_[0]\n",
    "model4.predict(poly_4)"
   ]
  },
  {
   "cell_type": "markdown",
   "metadata": {},
   "source": [
    "The four curves should differ from one another a lot, as should the coefficients you learned.\n",
    "\n",
    "***QUIZ QUESTION:  For the models learned in each of these training sets, what are the smallest and largest values you learned for the coefficient of feature `power_1`?***  (For the purpose of answering this question, negative numbers are considered \"smaller\" than positive numbers. So -5 is smaller than -3, and -3 is smaller than 5 and so forth.)"
   ]
  },
  {
   "cell_type": "markdown",
   "metadata": {},
   "source": [
    "# Ridge regression comes to rescue"
   ]
  },
  {
   "cell_type": "markdown",
   "metadata": {},
   "source": [
    "Generally, whenever we see weights change so much in response to change in data, we believe the variance of our estimate to be large. Ridge regression aims to address this issue by penalizing \"large\" weights. (Weights of `model15` looked quite small, but they are not that small because 'sqft_living' input is in the order of thousands.)\n",
    "\n",
    "With the argument `l2_penalty=1e5`, fit a 15th-order polynomial model on `set_1`, `set_2`, `set_3`, and `set_4`. Other than the change in the `l2_penalty` parameter, the code should be the same as the experiment above. Also, make sure GraphLab Create doesn't create its own validation set by using the option `validation_set = None` in this call."
   ]
  },
  {
   "cell_type": "code",
   "execution_count": 53,
   "metadata": {
    "scrolled": false
   },
   "outputs": [
    {
     "data": {
      "text/plain": [
       "2.328068029579326"
      ]
     },
     "execution_count": 53,
     "metadata": {},
     "output_type": "execute_result"
    }
   ],
   "source": [
    "l2_large_penalty=1.23e2\n",
    "model = linear_model.Ridge(alpha=l2_large_penalty, normalize=True)\n",
    "model1= model.fit(poly_1, set_1['price'])\n",
    "model1.coef_[0]"
   ]
  },
  {
   "cell_type": "code",
   "execution_count": 54,
   "metadata": {
    "scrolled": false
   },
   "outputs": [
    {
     "data": {
      "text/plain": [
       "2.097569027778555"
      ]
     },
     "execution_count": 54,
     "metadata": {},
     "output_type": "execute_result"
    }
   ],
   "source": [
    "model2= model.fit(poly_2, set_2['price'])\n",
    "model2.coef_[0]"
   ]
  },
  {
   "cell_type": "code",
   "execution_count": 55,
   "metadata": {},
   "outputs": [
    {
     "data": {
      "text/plain": [
       "2.289062581189205"
      ]
     },
     "execution_count": 55,
     "metadata": {},
     "output_type": "execute_result"
    }
   ],
   "source": [
    "model3= model.fit(poly_3, set_3['price'])\n",
    "model3.coef_[0]"
   ]
  },
  {
   "cell_type": "code",
   "execution_count": 56,
   "metadata": {},
   "outputs": [
    {
     "data": {
      "text/plain": [
       "2.0859619409193066"
      ]
     },
     "execution_count": 56,
     "metadata": {},
     "output_type": "execute_result"
    }
   ],
   "source": [
    "model4= model.fit(poly_4, set_4['price'])\n",
    "model4.coef_[0]"
   ]
  },
  {
   "cell_type": "markdown",
   "metadata": {},
   "source": [
    "These curves should vary a lot less, now that you applied a high degree of regularization.\n",
    "\n",
    "***QUIZ QUESTION:  For the models learned with the high level of regularization in each of these training sets, what are the smallest and largest values you learned for the coefficient of feature `power_1`?*** (For the purpose of answering this question, negative numbers are considered \"smaller\" than positive numbers. So -5 is smaller than -3, and -3 is smaller than 5 and so forth.)"
   ]
  },
  {
   "cell_type": "markdown",
   "metadata": {},
   "source": [
    "# Selecting an L2 penalty via cross-validation"
   ]
  },
  {
   "cell_type": "markdown",
   "metadata": {},
   "source": [
    "Just like the polynomial degree, the L2 penalty is a \"magic\" parameter we need to select. We could use the validation set approach as we did in the last module, but that approach has a major disadvantage: it leaves fewer observations available for training. **Cross-validation** seeks to overcome this issue by using all of the training set in a smart way.\n",
    "\n",
    "We will implement a kind of cross-validation called **k-fold cross-validation**. The method gets its name because it involves dividing the training set into k segments of roughtly equal size. Similar to the validation set method, we measure the validation error with one of the segments designated as the validation set. The major difference is that we repeat the process k times as follows:\n",
    "\n",
    "Set aside segment 0 as the validation set, and fit a model on rest of data, and evalutate it on this validation set<br>\n",
    "Set aside segment 1 as the validation set, and fit a model on rest of data, and evalutate it on this validation set<br>\n",
    "...<br>\n",
    "Set aside segment k-1 as the validation set, and fit a model on rest of data, and evalutate it on this validation set\n",
    "\n",
    "After this process, we compute the average of the k validation errors, and use it as an estimate of the generalization error. Notice that  all observations are used for both training and validation, as we iterate over segments of data. \n",
    "\n",
    "To estimate the generalization error well, it is crucial to shuffle the training data before dividing them into segments. GraphLab Create has a utility function for shuffling a given SFrame. We reserve 10% of the data as the test set and shuffle the remainder. (Make sure to use `seed=1` to get consistent answer.)"
   ]
  },
  {
   "cell_type": "code",
   "execution_count": 57,
   "metadata": {},
   "outputs": [],
   "source": [
    "train_valid_shuffled = pd.read_csv('wk3_kc_house_train_valid_shuffled.csv', dtype=dtype_dict)\n",
    "test = pd.read_csv('wk3_kc_house_test_data.csv', dtype=dtype_dict)"
   ]
  },
  {
   "cell_type": "markdown",
   "metadata": {},
   "source": [
    "Once the data is shuffled, we divide it into equal segments. Each segment should receive `n/k` elements, where `n` is the number of observations in the training set and `k` is the number of segments. Since the segment 0 starts at index 0 and contains `n/k` elements, it ends at index `(n/k)-1`. The segment 1 starts where the segment 0 left off, at index `(n/k)`. With `n/k` elements, the segment 1 ends at index `(n*2/k)-1`. Continuing in this fashion, we deduce that the segment `i` starts at index `(n*i/k)` and ends at `(n*(i+1)/k)-1`."
   ]
  },
  {
   "cell_type": "markdown",
   "metadata": {},
   "source": [
    "With this pattern in mind, we write a short loop that prints the starting and ending indices of each segment, just to make sure you are getting the splits right."
   ]
  },
  {
   "cell_type": "code",
   "execution_count": 58,
   "metadata": {},
   "outputs": [
    {
     "name": "stdout",
     "output_type": "stream",
     "text": [
      "0 (0, 1938)\n",
      "1 (1939, 3878)\n",
      "2 (3879, 5817)\n",
      "3 (5818, 7757)\n",
      "4 (7758, 9697)\n",
      "5 (9698, 11636)\n",
      "6 (11637, 13576)\n",
      "7 (13577, 15515)\n",
      "8 (15516, 17455)\n",
      "9 (17456, 19395)\n"
     ]
    }
   ],
   "source": [
    "n = len(train_valid_shuffled)\n",
    "k = 10 # 10-fold cross-validation\n",
    "\n",
    "for i in xrange(k):\n",
    "    start = (n*i)/k\n",
    "    end = (n*(i+1))/k-1\n",
    "    print i, (start, end)"
   ]
  },
  {
   "cell_type": "markdown",
   "metadata": {},
   "source": [
    "Let us familiarize ourselves with array slicing with SFrame. To extract a continuous slice from an SFrame, use colon in square brackets. For instance, the following cell extracts rows 0 to 9 of `train_valid_shuffled`. Notice that the first index (0) is included in the slice but the last index (10) is omitted."
   ]
  },
  {
   "cell_type": "code",
   "execution_count": 65,
   "metadata": {},
   "outputs": [
    {
     "data": {
      "text/html": [
       "<div>\n",
       "<style scoped>\n",
       "    .dataframe tbody tr th:only-of-type {\n",
       "        vertical-align: middle;\n",
       "    }\n",
       "\n",
       "    .dataframe tbody tr th {\n",
       "        vertical-align: top;\n",
       "    }\n",
       "\n",
       "    .dataframe thead th {\n",
       "        text-align: right;\n",
       "    }\n",
       "</style>\n",
       "<table border=\"1\" class=\"dataframe\">\n",
       "  <thead>\n",
       "    <tr style=\"text-align: right;\">\n",
       "      <th></th>\n",
       "      <th>id</th>\n",
       "      <th>date</th>\n",
       "      <th>price</th>\n",
       "      <th>bedrooms</th>\n",
       "      <th>bathrooms</th>\n",
       "      <th>sqft_living</th>\n",
       "      <th>sqft_lot</th>\n",
       "      <th>floors</th>\n",
       "      <th>waterfront</th>\n",
       "      <th>view</th>\n",
       "      <th>...</th>\n",
       "      <th>grade</th>\n",
       "      <th>sqft_above</th>\n",
       "      <th>sqft_basement</th>\n",
       "      <th>yr_built</th>\n",
       "      <th>yr_renovated</th>\n",
       "      <th>zipcode</th>\n",
       "      <th>lat</th>\n",
       "      <th>long</th>\n",
       "      <th>sqft_living15</th>\n",
       "      <th>sqft_lot15</th>\n",
       "    </tr>\n",
       "  </thead>\n",
       "  <tbody>\n",
       "    <tr>\n",
       "      <th>0</th>\n",
       "      <td>2780400035</td>\n",
       "      <td>20140505T000000</td>\n",
       "      <td>665000.0</td>\n",
       "      <td>4.0</td>\n",
       "      <td>2.50</td>\n",
       "      <td>2800.0</td>\n",
       "      <td>5900</td>\n",
       "      <td>1.0</td>\n",
       "      <td>0</td>\n",
       "      <td>0</td>\n",
       "      <td>...</td>\n",
       "      <td>8</td>\n",
       "      <td>1660</td>\n",
       "      <td>1140</td>\n",
       "      <td>1963</td>\n",
       "      <td>0</td>\n",
       "      <td>98115</td>\n",
       "      <td>47.6809</td>\n",
       "      <td>-122.286</td>\n",
       "      <td>2580.0</td>\n",
       "      <td>5900.0</td>\n",
       "    </tr>\n",
       "    <tr>\n",
       "      <th>1</th>\n",
       "      <td>1703050500</td>\n",
       "      <td>20150321T000000</td>\n",
       "      <td>645000.0</td>\n",
       "      <td>3.0</td>\n",
       "      <td>2.50</td>\n",
       "      <td>2490.0</td>\n",
       "      <td>5978</td>\n",
       "      <td>2.0</td>\n",
       "      <td>0</td>\n",
       "      <td>0</td>\n",
       "      <td>...</td>\n",
       "      <td>9</td>\n",
       "      <td>2490</td>\n",
       "      <td>0</td>\n",
       "      <td>2003</td>\n",
       "      <td>0</td>\n",
       "      <td>98074</td>\n",
       "      <td>47.6298</td>\n",
       "      <td>-122.022</td>\n",
       "      <td>2710.0</td>\n",
       "      <td>6629.0</td>\n",
       "    </tr>\n",
       "    <tr>\n",
       "      <th>2</th>\n",
       "      <td>5700002325</td>\n",
       "      <td>20140605T000000</td>\n",
       "      <td>640000.0</td>\n",
       "      <td>3.0</td>\n",
       "      <td>1.75</td>\n",
       "      <td>2340.0</td>\n",
       "      <td>4206</td>\n",
       "      <td>1.0</td>\n",
       "      <td>0</td>\n",
       "      <td>0</td>\n",
       "      <td>...</td>\n",
       "      <td>7</td>\n",
       "      <td>1170</td>\n",
       "      <td>1170</td>\n",
       "      <td>1917</td>\n",
       "      <td>0</td>\n",
       "      <td>98144</td>\n",
       "      <td>47.5759</td>\n",
       "      <td>-122.288</td>\n",
       "      <td>1360.0</td>\n",
       "      <td>4725.0</td>\n",
       "    </tr>\n",
       "    <tr>\n",
       "      <th>3</th>\n",
       "      <td>0475000510</td>\n",
       "      <td>20141118T000000</td>\n",
       "      <td>594000.0</td>\n",
       "      <td>3.0</td>\n",
       "      <td>1.00</td>\n",
       "      <td>1320.0</td>\n",
       "      <td>5000</td>\n",
       "      <td>1.0</td>\n",
       "      <td>0</td>\n",
       "      <td>0</td>\n",
       "      <td>...</td>\n",
       "      <td>7</td>\n",
       "      <td>1090</td>\n",
       "      <td>230</td>\n",
       "      <td>1920</td>\n",
       "      <td>0</td>\n",
       "      <td>98107</td>\n",
       "      <td>47.6674</td>\n",
       "      <td>-122.365</td>\n",
       "      <td>1700.0</td>\n",
       "      <td>5000.0</td>\n",
       "    </tr>\n",
       "    <tr>\n",
       "      <th>4</th>\n",
       "      <td>0844001052</td>\n",
       "      <td>20150128T000000</td>\n",
       "      <td>365000.0</td>\n",
       "      <td>4.0</td>\n",
       "      <td>2.50</td>\n",
       "      <td>1904.0</td>\n",
       "      <td>8200</td>\n",
       "      <td>2.0</td>\n",
       "      <td>0</td>\n",
       "      <td>0</td>\n",
       "      <td>...</td>\n",
       "      <td>7</td>\n",
       "      <td>1904</td>\n",
       "      <td>0</td>\n",
       "      <td>1999</td>\n",
       "      <td>0</td>\n",
       "      <td>98010</td>\n",
       "      <td>47.3107</td>\n",
       "      <td>-122.001</td>\n",
       "      <td>1560.0</td>\n",
       "      <td>12426.0</td>\n",
       "    </tr>\n",
       "    <tr>\n",
       "      <th>5</th>\n",
       "      <td>2781280290</td>\n",
       "      <td>20150427T000000</td>\n",
       "      <td>305000.0</td>\n",
       "      <td>3.0</td>\n",
       "      <td>2.50</td>\n",
       "      <td>1610.0</td>\n",
       "      <td>3516</td>\n",
       "      <td>2.0</td>\n",
       "      <td>0</td>\n",
       "      <td>0</td>\n",
       "      <td>...</td>\n",
       "      <td>8</td>\n",
       "      <td>1610</td>\n",
       "      <td>0</td>\n",
       "      <td>2006</td>\n",
       "      <td>0</td>\n",
       "      <td>98055</td>\n",
       "      <td>47.4491</td>\n",
       "      <td>-122.188</td>\n",
       "      <td>1610.0</td>\n",
       "      <td>3056.0</td>\n",
       "    </tr>\n",
       "    <tr>\n",
       "      <th>6</th>\n",
       "      <td>2214800630</td>\n",
       "      <td>20141105T000000</td>\n",
       "      <td>239950.0</td>\n",
       "      <td>3.0</td>\n",
       "      <td>2.25</td>\n",
       "      <td>1560.0</td>\n",
       "      <td>8280</td>\n",
       "      <td>2.0</td>\n",
       "      <td>0</td>\n",
       "      <td>0</td>\n",
       "      <td>...</td>\n",
       "      <td>7</td>\n",
       "      <td>1560</td>\n",
       "      <td>0</td>\n",
       "      <td>1979</td>\n",
       "      <td>0</td>\n",
       "      <td>98001</td>\n",
       "      <td>47.3393</td>\n",
       "      <td>-122.259</td>\n",
       "      <td>1920.0</td>\n",
       "      <td>8120.0</td>\n",
       "    </tr>\n",
       "    <tr>\n",
       "      <th>7</th>\n",
       "      <td>2114700540</td>\n",
       "      <td>20141021T000000</td>\n",
       "      <td>366000.0</td>\n",
       "      <td>3.0</td>\n",
       "      <td>2.50</td>\n",
       "      <td>1320.0</td>\n",
       "      <td>4320</td>\n",
       "      <td>1.0</td>\n",
       "      <td>0</td>\n",
       "      <td>0</td>\n",
       "      <td>...</td>\n",
       "      <td>6</td>\n",
       "      <td>660</td>\n",
       "      <td>660</td>\n",
       "      <td>1918</td>\n",
       "      <td>0</td>\n",
       "      <td>98106</td>\n",
       "      <td>47.5327</td>\n",
       "      <td>-122.347</td>\n",
       "      <td>1190.0</td>\n",
       "      <td>4200.0</td>\n",
       "    </tr>\n",
       "    <tr>\n",
       "      <th>8</th>\n",
       "      <td>2596400050</td>\n",
       "      <td>20140730T000000</td>\n",
       "      <td>375000.0</td>\n",
       "      <td>3.0</td>\n",
       "      <td>1.00</td>\n",
       "      <td>1960.0</td>\n",
       "      <td>7955</td>\n",
       "      <td>1.0</td>\n",
       "      <td>0</td>\n",
       "      <td>0</td>\n",
       "      <td>...</td>\n",
       "      <td>7</td>\n",
       "      <td>1260</td>\n",
       "      <td>700</td>\n",
       "      <td>1963</td>\n",
       "      <td>0</td>\n",
       "      <td>98177</td>\n",
       "      <td>47.7641</td>\n",
       "      <td>-122.364</td>\n",
       "      <td>1850.0</td>\n",
       "      <td>8219.0</td>\n",
       "    </tr>\n",
       "    <tr>\n",
       "      <th>9</th>\n",
       "      <td>4140900050</td>\n",
       "      <td>20150126T000000</td>\n",
       "      <td>440000.0</td>\n",
       "      <td>4.0</td>\n",
       "      <td>1.75</td>\n",
       "      <td>2180.0</td>\n",
       "      <td>10200</td>\n",
       "      <td>1.0</td>\n",
       "      <td>0</td>\n",
       "      <td>2</td>\n",
       "      <td>...</td>\n",
       "      <td>8</td>\n",
       "      <td>2000</td>\n",
       "      <td>180</td>\n",
       "      <td>1966</td>\n",
       "      <td>0</td>\n",
       "      <td>98028</td>\n",
       "      <td>47.7638</td>\n",
       "      <td>-122.270</td>\n",
       "      <td>2590.0</td>\n",
       "      <td>10445.0</td>\n",
       "    </tr>\n",
       "  </tbody>\n",
       "</table>\n",
       "<p>10 rows × 21 columns</p>\n",
       "</div>"
      ],
      "text/plain": [
       "           id             date     price  bedrooms  bathrooms  sqft_living  \\\n",
       "0  2780400035  20140505T000000  665000.0       4.0       2.50       2800.0   \n",
       "1  1703050500  20150321T000000  645000.0       3.0       2.50       2490.0   \n",
       "2  5700002325  20140605T000000  640000.0       3.0       1.75       2340.0   \n",
       "3  0475000510  20141118T000000  594000.0       3.0       1.00       1320.0   \n",
       "4  0844001052  20150128T000000  365000.0       4.0       2.50       1904.0   \n",
       "5  2781280290  20150427T000000  305000.0       3.0       2.50       1610.0   \n",
       "6  2214800630  20141105T000000  239950.0       3.0       2.25       1560.0   \n",
       "7  2114700540  20141021T000000  366000.0       3.0       2.50       1320.0   \n",
       "8  2596400050  20140730T000000  375000.0       3.0       1.00       1960.0   \n",
       "9  4140900050  20150126T000000  440000.0       4.0       1.75       2180.0   \n",
       "\n",
       "   sqft_lot  floors  waterfront  view  ...  grade  sqft_above  sqft_basement  \\\n",
       "0      5900     1.0           0     0  ...      8        1660           1140   \n",
       "1      5978     2.0           0     0  ...      9        2490              0   \n",
       "2      4206     1.0           0     0  ...      7        1170           1170   \n",
       "3      5000     1.0           0     0  ...      7        1090            230   \n",
       "4      8200     2.0           0     0  ...      7        1904              0   \n",
       "5      3516     2.0           0     0  ...      8        1610              0   \n",
       "6      8280     2.0           0     0  ...      7        1560              0   \n",
       "7      4320     1.0           0     0  ...      6         660            660   \n",
       "8      7955     1.0           0     0  ...      7        1260            700   \n",
       "9     10200     1.0           0     2  ...      8        2000            180   \n",
       "\n",
       "   yr_built  yr_renovated  zipcode      lat     long  sqft_living15  \\\n",
       "0      1963             0    98115  47.6809 -122.286         2580.0   \n",
       "1      2003             0    98074  47.6298 -122.022         2710.0   \n",
       "2      1917             0    98144  47.5759 -122.288         1360.0   \n",
       "3      1920             0    98107  47.6674 -122.365         1700.0   \n",
       "4      1999             0    98010  47.3107 -122.001         1560.0   \n",
       "5      2006             0    98055  47.4491 -122.188         1610.0   \n",
       "6      1979             0    98001  47.3393 -122.259         1920.0   \n",
       "7      1918             0    98106  47.5327 -122.347         1190.0   \n",
       "8      1963             0    98177  47.7641 -122.364         1850.0   \n",
       "9      1966             0    98028  47.7638 -122.270         2590.0   \n",
       "\n",
       "   sqft_lot15  \n",
       "0      5900.0  \n",
       "1      6629.0  \n",
       "2      4725.0  \n",
       "3      5000.0  \n",
       "4     12426.0  \n",
       "5      3056.0  \n",
       "6      8120.0  \n",
       "7      4200.0  \n",
       "8      8219.0  \n",
       "9     10445.0  \n",
       "\n",
       "[10 rows x 21 columns]"
      ]
     },
     "execution_count": 65,
     "metadata": {},
     "output_type": "execute_result"
    }
   ],
   "source": [
    "train_valid_shuffled[0:10] # rows 0 to 9"
   ]
  },
  {
   "cell_type": "markdown",
   "metadata": {},
   "source": [
    "Now let us extract individual segments with array slicing. Consider the scenario where we group the houses in the `train_valid_shuffled` dataframe into k=10 segments of roughly equal size, with starting and ending indices computed as above.\n",
    "Extract the fourth segment (segment 3) and assign it to a variable called `validation4`."
   ]
  },
  {
   "cell_type": "code",
   "execution_count": 70,
   "metadata": {},
   "outputs": [
    {
     "data": {
      "text/plain": [
       "536234.1"
      ]
     },
     "execution_count": 70,
     "metadata": {},
     "output_type": "execute_result"
    }
   ],
   "source": [
    "validation4= train_valid_shuffled[5818:7758]#, 7757]\n",
    "validation4['price'].mean()"
   ]
  },
  {
   "cell_type": "markdown",
   "metadata": {},
   "source": [
    "To verify that we have the right elements extracted, run the following cell, which computes the average price of the fourth segment. When rounded to nearest whole number, the average should be $536,234."
   ]
  },
  {
   "cell_type": "code",
   "execution_count": 71,
   "metadata": {},
   "outputs": [
    {
     "name": "stdout",
     "output_type": "stream",
     "text": [
      "536234\n"
     ]
    }
   ],
   "source": [
    "print int(round(validation4['price'].mean(), 0))"
   ]
  },
  {
   "cell_type": "markdown",
   "metadata": {},
   "source": [
    "After designating one of the k segments as the validation set, we train a model using the rest of the data. To choose the remainder, we slice (0:start) and (end+1:n) of the data and paste them together. SFrame has `append()` method that pastes together two disjoint sets of rows originating from a common dataset. For instance, the following cell pastes together the first and last two rows of the `train_valid_shuffled` dataframe."
   ]
  },
  {
   "cell_type": "code",
   "execution_count": 72,
   "metadata": {},
   "outputs": [
    {
     "name": "stdout",
     "output_type": "stream",
     "text": [
      "               id             date      price  bedrooms  bathrooms  \\\n",
      "0      2780400035  20140505T000000   665000.0       4.0       2.50   \n",
      "1      1703050500  20150321T000000   645000.0       3.0       2.50   \n",
      "19394  4139480190  20140916T000000  1153000.0       3.0       3.25   \n",
      "19395  7237300290  20150326T000000   338000.0       5.0       2.50   \n",
      "\n",
      "       sqft_living  sqft_lot  floors  waterfront  view  ...  grade  \\\n",
      "0           2800.0      5900     1.0           0     0  ...      8   \n",
      "1           2490.0      5978     2.0           0     0  ...      9   \n",
      "19394       3780.0     10623     1.0           0     1  ...     11   \n",
      "19395       2400.0      4496     2.0           0     0  ...      7   \n",
      "\n",
      "       sqft_above  sqft_basement  yr_built  yr_renovated  zipcode      lat  \\\n",
      "0            1660           1140      1963             0    98115  47.6809   \n",
      "1            2490              0      2003             0    98074  47.6298   \n",
      "19394        2650           1130      1999             0    98006  47.5506   \n",
      "19395        2400              0      2004             0    98042  47.3692   \n",
      "\n",
      "          long  sqft_living15  sqft_lot15  \n",
      "0     -122.286         2580.0      5900.0  \n",
      "1     -122.022         2710.0      6629.0  \n",
      "19394 -122.101         3850.0     11170.0  \n",
      "19395 -122.126         1880.0      4319.0  \n",
      "\n",
      "[4 rows x 21 columns]\n"
     ]
    }
   ],
   "source": [
    "n = len(train_valid_shuffled)\n",
    "first_two = train_valid_shuffled[0:2]\n",
    "last_two = train_valid_shuffled[n-2:n]\n",
    "print first_two.append(last_two)"
   ]
  },
  {
   "cell_type": "markdown",
   "metadata": {},
   "source": [
    "Extract the remainder of the data after *excluding* fourth segment (segment 3) and assign the subset to `train4`."
   ]
  },
  {
   "cell_type": "code",
   "execution_count": 77,
   "metadata": {},
   "outputs": [],
   "source": [
    "n=len(train_valid_shuffled)\n",
    "start = (n*i)/10\n",
    "end = (n*(i+1))/10\n",
    "i=3\n",
    "train_valid_shuffled[start:end+1]\n",
    "train4=train_valid_shuffled[0:start].append(train_valid_shuffled[end+1:n])"
   ]
  },
  {
   "cell_type": "markdown",
   "metadata": {},
   "source": [
    "To verify that we have the right elements extracted, run the following cell, which computes the average price of the data with fourth segment excluded. When rounded to nearest whole number, the average should be $539,450."
   ]
  },
  {
   "cell_type": "code",
   "execution_count": 78,
   "metadata": {},
   "outputs": [
    {
     "name": "stdout",
     "output_type": "stream",
     "text": [
      "539459\n"
     ]
    }
   ],
   "source": [
    "print int(round(train4['price'].mean(), 0))"
   ]
  },
  {
   "cell_type": "markdown",
   "metadata": {},
   "source": [
    "Now we are ready to implement k-fold cross-validation. Write a function that computes k validation errors by designating each of the k segments as the validation set. It accepts as parameters (i) `k`, (ii) `l2_penalty`, (iii) dataframe, (iv) name of output column (e.g. `price`) and (v) list of feature names. The function returns the average validation error using k segments as validation sets.\n",
    "\n",
    "* For each i in [0, 1, ..., k-1]:\n",
    "  * Compute starting and ending indices of segment i and call 'start' and 'end'\n",
    "  * Form validation set by taking a slice (start:end+1) from the data.\n",
    "  * Form training set by appending slice (end+1:n) to the end of slice (0:start).\n",
    "  * Train a linear model using training set just formed, with a given l2_penalty\n",
    "  * Compute validation error using validation set just formed"
   ]
  },
  {
   "cell_type": "code",
   "execution_count": null,
   "metadata": {},
   "outputs": [],
   "source": [
    "def k_fold_cross_validation(k, l2_penalty, data, output_name, features_list):\n",
    "    n=len(data)\n",
    "    arr=[]\n",
    "    for i in xrange(k):\n",
    "        start = (n*i)/k\n",
    "        end = (n*(i+1))/k-1\n",
    "        validation=data[start:end+1]\n",
    "        train=data[0:start].append(data[end+1:n])\n",
    "        model= linear_model.Ridge(alpha=l2_penalty, normalize=True)\n",
    "        poly_data = polynomial_sframe(train[features_list], 15)\n",
    "        fit= model.fit(poly_data,train[output_name])\n",
    "        poly_vali= polynomial_sframe(validation[features_list], 15)\n",
    "        predictions= fit.predict(poly_vali)\n",
    "        res = validation[output_name]-predictions\n",
    "        rss = sum(res*res)\n",
    "        arr.append(rss)\n",
    "        #print arr\n",
    "    return np.mean(arr)\n",
    "     "
   ]
  },
  {
   "cell_type": "raw",
   "metadata": {},
   "source": [
    "Once we have a function to compute the average validation error for a model, we can write a loop to find the model that minimizes the average validation error. Write a loop that does the following:\n",
    "* We will again be aiming to fit a 15th-order polynomial model using the `sqft_living` input\n",
    "* For `l2_penalty` in [10^1, 10^1.5, 10^2, 10^2.5, ..., 10^7] (to get this in Python, you can use this Numpy function: `np.logspace(1, 7, num=13)`.)\n",
    "    * Run 10-fold cross-validation with `l2_penalty`\n",
    "* Report which L2 penalty produced the lowest average validation error.\n",
    "\n",
    "Note: since the degree of the polynomial is now fixed to 15, to make things faster, you should generate polynomial features in advance and re-use them throughout the loop. Make sure to use `train_valid_shuffled` when generating polynomial features!"
   ]
  },
  {
   "cell_type": "code",
   "execution_count": 140,
   "metadata": {},
   "outputs": [
    {
     "data": {
      "text/plain": [
       "array([1.00000000e-02, 3.83118685e-02, 1.46779927e-01, 5.62341325e-01,\n",
       "       2.15443469e+00, 8.25404185e+00, 3.16227766e+01, 1.21152766e+02,\n",
       "       4.64158883e+02, 1.77827941e+03, 6.81292069e+03, 2.61015722e+04,\n",
       "       1.00000000e+05])"
      ]
     },
     "execution_count": 140,
     "metadata": {},
     "output_type": "execute_result"
    }
   ],
   "source": [
    "np.logspace(-2, 5, num=13)"
   ]
  },
  {
   "cell_type": "code",
   "execution_count": 153,
   "metadata": {},
   "outputs": [
    {
     "name": "stdout",
     "output_type": "stream",
     "text": [
      "[122362390587850.17]\n",
      "[122362390587850.17, 125862165309031.61]\n",
      "[122362390587850.17, 125862165309031.61, 100403068761103.84]\n",
      "[122362390587850.17, 125862165309031.61, 100403068761103.84, 136615167429070.52]\n",
      "[122362390587850.17, 125862165309031.61, 100403068761103.84, 136615167429070.52, 121703417054684.98]\n",
      "[122362390587850.17, 125862165309031.61, 100403068761103.84, 136615167429070.52, 121703417054684.98, 148419936697079.34]\n",
      "[122362390587850.17, 125862165309031.61, 100403068761103.84, 136615167429070.52, 121703417054684.98, 148419936697079.34, 150502184666827.2]\n",
      "[122362390587850.17, 125862165309031.61, 100403068761103.84, 136615167429070.52, 121703417054684.98, 148419936697079.34, 150502184666827.2, 146592383480431.2]\n",
      "[122362390587850.17, 125862165309031.61, 100403068761103.84, 136615167429070.52, 121703417054684.98, 148419936697079.34, 150502184666827.2, 146592383480431.2, 120817975959340.08]\n",
      "[122362390587850.17, 125862165309031.61, 100403068761103.84, 136615167429070.52, 121703417054684.98, 148419936697079.34, 150502184666827.2, 146592383480431.2, 120817975959340.08, 144646206126738.03]\n",
      "[160128322269714.88]\n",
      "[160128322269714.88, 165324980379493.06]\n",
      "[160128322269714.88, 165324980379493.06, 131342036319696.06]\n",
      "[160128322269714.88, 165324980379493.06, 131342036319696.06, 174589443211025.47]\n",
      "[160128322269714.88, 165324980379493.06, 131342036319696.06, 174589443211025.47, 158055207221057.38]\n",
      "[160128322269714.88, 165324980379493.06, 131342036319696.06, 174589443211025.47, 158055207221057.38, 302456072653621.25]\n",
      "[160128322269714.88, 165324980379493.06, 131342036319696.06, 174589443211025.47, 158055207221057.38, 302456072653621.25, 199942345454829.4]\n",
      "[160128322269714.88, 165324980379493.06, 131342036319696.06, 174589443211025.47, 158055207221057.38, 302456072653621.25, 199942345454829.4, 190403582873268.5]\n",
      "[160128322269714.88, 165324980379493.06, 131342036319696.06, 174589443211025.47, 158055207221057.38, 302456072653621.25, 199942345454829.4, 190403582873268.5, 150975685286703.25]\n",
      "[160128322269714.88, 165324980379493.06, 131342036319696.06, 174589443211025.47, 158055207221057.38, 302456072653621.25, 199942345454829.4, 190403582873268.5, 150975685286703.25, 189126643196178.06]\n",
      "[208189872850764.5]\n",
      "[208189872850764.5, 214466661172935.47]\n",
      "[208189872850764.5, 214466661172935.47, 176234359907512.84]\n",
      "[208189872850764.5, 214466661172935.47, 176234359907512.84, 221479458174467.6]\n",
      "[208189872850764.5, 214466661172935.47, 176234359907512.84, 221479458174467.6, 206291607849331.47]\n",
      "[208189872850764.5, 214466661172935.47, 176234359907512.84, 221479458174467.6, 206291607849331.47, 358646755197239.9]\n",
      "[208189872850764.5, 214466661172935.47, 176234359907512.84, 221479458174467.6, 206291607849331.47, 358646755197239.9, 263857260903129.88]\n",
      "[208189872850764.5, 214466661172935.47, 176234359907512.84, 221479458174467.6, 206291607849331.47, 358646755197239.9, 263857260903129.88, 244618708072786.94]\n",
      "[208189872850764.5, 214466661172935.47, 176234359907512.84, 221479458174467.6, 206291607849331.47, 358646755197239.9, 263857260903129.88, 244618708072786.94, 192958357899180.94]\n",
      "[208189872850764.5, 214466661172935.47, 176234359907512.84, 221479458174467.6, 206291607849331.47, 358646755197239.9, 263857260903129.88, 244618708072786.94, 192958357899180.94, 251807426983375.3]\n",
      "[235010588675463.72]\n",
      "[235010588675463.72, 241234778743532.0]\n",
      "[235010588675463.72, 241234778743532.0, 201994421976822.34]\n",
      "[235010588675463.72, 241234778743532.0, 201994421976822.34, 246711769176824.2]\n",
      "[235010588675463.72, 241234778743532.0, 201994421976822.34, 246711769176824.2, 232790808821725.34]\n",
      "[235010588675463.72, 241234778743532.0, 201994421976822.34, 246711769176824.2, 232790808821725.34, 287897739248325.75]\n",
      "[235010588675463.72, 241234778743532.0, 201994421976822.34, 246711769176824.2, 232790808821725.34, 287897739248325.75, 299741274372073.4]\n",
      "[235010588675463.72, 241234778743532.0, 201994421976822.34, 246711769176824.2, 232790808821725.34, 287897739248325.75, 299741274372073.4, 273775149446276.62]\n",
      "[235010588675463.72, 241234778743532.0, 201994421976822.34, 246711769176824.2, 232790808821725.34, 287897739248325.75, 299741274372073.4, 273775149446276.62, 216242738443298.44]\n",
      "[235010588675463.72, 241234778743532.0, 201994421976822.34, 246711769176824.2, 232790808821725.34, 287897739248325.75, 299741274372073.4, 273775149446276.62, 216242738443298.44, 291607399736737.25]\n",
      "[244491164760050.47]\n",
      "[244491164760050.47, 250533349968989.2]\n",
      "[244491164760050.47, 250533349968989.2, 211118102383903.38]\n",
      "[244491164760050.47, 250533349968989.2, 211118102383903.38, 255393461662823.53]\n",
      "[244491164760050.47, 250533349968989.2, 211118102383903.38, 255393461662823.53, 241957259441456.06]\n",
      "[244491164760050.47, 250533349968989.2, 211118102383903.38, 255393461662823.53, 241957259441456.06, 284325837500089.0]\n",
      "[244491164760050.47, 250533349968989.2, 211118102383903.38, 255393461662823.53, 241957259441456.06, 284325837500089.0, 312466938660816.4]\n",
      "[244491164760050.47, 250533349968989.2, 211118102383903.38, 255393461662823.53, 241957259441456.06, 284325837500089.0, 312466938660816.4, 283801148510639.6]\n",
      "[244491164760050.47, 250533349968989.2, 211118102383903.38, 255393461662823.53, 241957259441456.06, 284325837500089.0, 312466938660816.4, 283801148510639.6, 224295065829162.3]\n",
      "[244491164760050.47, 250533349968989.2, 211118102383903.38, 255393461662823.53, 241957259441456.06, 284325837500089.0, 312466938660816.4, 283801148510639.6, 224295065829162.3, 307025816894495.8]\n",
      "[247223840283346.9]\n",
      "[247223840283346.9, 253194649149851.6]\n",
      "[247223840283346.9, 253194649149851.6, 213746067798815.94]\n",
      "[247223840283346.9, 253194649149851.6, 213746067798815.94, 257868254341958.47]\n",
      "[247223840283346.9, 253194649149851.6, 213746067798815.94, 257868254341958.47, 244573768942906.84]\n",
      "[247223840283346.9, 253194649149851.6, 213746067798815.94, 257868254341958.47, 244573768942906.84, 289975879598488.5]\n",
      "[247223840283346.9, 253194649149851.6, 213746067798815.94, 257868254341958.47, 244573768942906.84, 289975879598488.5, 316139659619418.3]\n",
      "[247223840283346.9, 253194649149851.6, 213746067798815.94, 257868254341958.47, 244573768942906.84, 289975879598488.5, 316139659619418.3, 286658547616463.0]\n",
      "[247223840283346.9, 253194649149851.6, 213746067798815.94, 257868254341958.47, 244573768942906.84, 289975879598488.5, 316139659619418.3, 286658547616463.0, 226591809253127.9]\n",
      "[247223840283346.9, 253194649149851.6, 213746067798815.94, 257868254341958.47, 244573768942906.84, 289975879598488.5, 316139659619418.3, 286658547616463.0, 226591809253127.9, 311636251793231.0]\n",
      "[247957426776685.06]\n",
      "[247957426776685.06, 253907553003902.94]\n",
      "[247957426776685.06, 253907553003902.94, 214451323131874.97]\n",
      "[247957426776685.06, 253907553003902.94, 214451323131874.97, 258530388152490.8]\n",
      "[247957426776685.06, 253907553003902.94, 214451323131874.97, 258530388152490.8, 245274062952307.66]\n",
      "[247957426776685.06, 253907553003902.94, 214451323131874.97, 258530388152490.8, 245274062952307.66, 292165665832123.5]\n",
      "[247957426776685.06, 253907553003902.94, 214451323131874.97, 258530388152490.8, 245274062952307.66, 292165665832123.5, 317125977821391.4]\n",
      "[247957426776685.06, 253907553003902.94, 214451323131874.97, 258530388152490.8, 245274062952307.66, 292165665832123.5, 317125977821391.4, 287423003046297.3]\n",
      "[247957426776685.06, 253907553003902.94, 214451323131874.97, 258530388152490.8, 245274062952307.66, 292165665832123.5, 317125977821391.4, 287423003046297.3, 227206349058643.97]\n",
      "[247957426776685.06, 253907553003902.94, 214451323131874.97, 258530388152490.8, 245274062952307.66, 292165665832123.5, 317125977821391.4, 287423003046297.3, 227206349058643.97, 312887608807465.1]\n",
      "[248150346706497.97]\n",
      "[248150346706497.97, 254094925229080.44]\n",
      "[248150346706497.97, 254094925229080.44, 214636775344143.66]\n",
      "[248150346706497.97, 254094925229080.44, 214636775344143.66, 258704358624544.56]\n",
      "[248150346706497.97, 254094925229080.44, 214636775344143.66, 258704358624544.56, 245458076371778.78]\n",
      "[248150346706497.97, 254094925229080.44, 214636775344143.66, 258704358624544.56, 245458076371778.78, 292792448906109.06]\n",
      "[248150346706497.97, 254094925229080.44, 214636775344143.66, 258704358624544.56, 245458076371778.78, 292792448906109.06, 317385388476494.44]\n"
     ]
    },
    {
     "name": "stdout",
     "output_type": "stream",
     "text": [
      "[248150346706497.97, 254094925229080.44, 214636775344143.66, 258704358624544.56, 245458076371778.78, 292792448906109.06, 317385388476494.44, 287623854565244.25]\n",
      "[248150346706497.97, 254094925229080.44, 214636775344143.66, 258704358624544.56, 245458076371778.78, 292792448906109.06, 317385388476494.44, 287623854565244.25, 227367816468918.25]\n",
      "[248150346706497.97, 254094925229080.44, 214636775344143.66, 258704358624544.56, 245458076371778.78, 292792448906109.06, 317385388476494.44, 287623854565244.25, 227367816468918.25, 313217675934938.0]\n",
      "[248200801196279.6]\n",
      "[248200801196279.6, 254143921337767.97]\n",
      "[248200801196279.6, 254143921337767.97, 214685275591026.8]\n",
      "[248200801196279.6, 254143921337767.97, 214685275591026.8, 258749846303271.25]\n",
      "[248200801196279.6, 254143921337767.97, 214685275591026.8, 258749846303271.25, 245506191093538.1]\n",
      "[248200801196279.6, 254143921337767.97, 214685275591026.8, 258749846303271.25, 245506191093538.1, 292959937103308.1]\n",
      "[248200801196279.6, 254143921337767.97, 214685275591026.8, 258749846303271.25, 245506191093538.1, 292959937103308.1, 317453234187715.75]\n",
      "[248200801196279.6, 254143921337767.97, 214685275591026.8, 258749846303271.25, 245506191093538.1, 292959937103308.1, 317453234187715.75, 287676370556029.1]\n",
      "[248200801196279.6, 254143921337767.97, 214685275591026.8, 258749846303271.25, 245506191093538.1, 292959937103308.1, 317453234187715.75, 287676370556029.1, 227410035108371.78]\n",
      "[248200801196279.6, 254143921337767.97, 214685275591026.8, 258749846303271.25, 245506191093538.1, 292959937103308.1, 317453234187715.75, 287676370556029.1, 227410035108371.78, 313304066544912.0]\n",
      "[248213977399987.22]\n",
      "[248213977399987.22, 254156716173220.16]\n",
      "[248213977399987.22, 254156716173220.16, 214697941360875.0]\n",
      "[248213977399987.22, 254156716173220.16, 214697941360875.0, 258761724674807.6]\n",
      "[248213977399987.22, 254156716173220.16, 214697941360875.0, 258761724674807.6, 245518755552250.16]\n",
      "[248213977399987.22, 254156716173220.16, 214697941360875.0, 258761724674807.6, 245518755552250.16, 293003921337998.6]\n",
      "[248213977399987.22, 254156716173220.16, 214697941360875.0, 258761724674807.6, 245518755552250.16, 293003921337998.6, 317470952240321.0]\n",
      "[248213977399987.22, 254156716173220.16, 214697941360875.0, 258761724674807.6, 245518755552250.16, 293003921337998.6, 317470952240321.0, 287690084242804.2]\n",
      "[248213977399987.22, 254156716173220.16, 214697941360875.0, 258761724674807.6, 245518755552250.16, 293003921337998.6, 317470952240321.0, 287690084242804.2, 227421059830243.22]\n",
      "[248213977399987.22, 254156716173220.16, 214697941360875.0, 258761724674807.6, 245518755552250.16, 293003921337998.6, 317470952240321.0, 287690084242804.2, 227421059830243.22, 313326632120126.6]\n",
      "[248217417059161.9]\n",
      "[248217417059161.9, 254160056241000.47]\n",
      "[248217417059161.9, 254160056241000.47, 214701247765204.06]\n",
      "[248217417059161.9, 254160056241000.47, 214701247765204.06, 258764825482779.94]\n",
      "[248217417059161.9, 254160056241000.47, 214701247765204.06, 258764825482779.94, 245522035466188.53]\n",
      "[248217417059161.9, 254160056241000.47, 214701247765204.06, 258764825482779.94, 245522035466188.53, 293015420158778.9]\n",
      "[248217417059161.9, 254160056241000.47, 214701247765204.06, 258764825482779.94, 245522035466188.53, 293015420158778.9, 317475577561648.25]\n"
     ]
    },
    {
     "ename": "KeyboardInterrupt",
     "evalue": "",
     "output_type": "error",
     "traceback": [
      "\u001b[0;31m---------------------------------------------------------------------------\u001b[0m",
      "\u001b[0;31mKeyboardInterrupt\u001b[0m                         Traceback (most recent call last)",
      "\u001b[0;32m<ipython-input-153-6617d5782889>\u001b[0m in \u001b[0;36m<module>\u001b[0;34m()\u001b[0m\n\u001b[1;32m      1\u001b[0m \u001b[0marr\u001b[0m\u001b[0;34m=\u001b[0m\u001b[0;34m[\u001b[0m\u001b[0;34m]\u001b[0m\u001b[0;34m\u001b[0m\u001b[0m\n\u001b[1;32m      2\u001b[0m \u001b[0;32mfor\u001b[0m \u001b[0mi\u001b[0m \u001b[0;32min\u001b[0m \u001b[0mnp\u001b[0m\u001b[0;34m.\u001b[0m\u001b[0mlogspace\u001b[0m\u001b[0;34m(\u001b[0m\u001b[0;36m0\u001b[0m\u001b[0;34m,\u001b[0m\u001b[0;36m7\u001b[0m\u001b[0;34m,\u001b[0m \u001b[0mnum\u001b[0m\u001b[0;34m=\u001b[0m\u001b[0;36m13\u001b[0m\u001b[0;34m)\u001b[0m\u001b[0;34m:\u001b[0m\u001b[0;34m\u001b[0m\u001b[0m\n\u001b[0;32m----> 3\u001b[0;31m     \u001b[0merror\u001b[0m\u001b[0;34m=\u001b[0m \u001b[0mk_fold_cross_validation\u001b[0m\u001b[0;34m(\u001b[0m\u001b[0;36m10\u001b[0m\u001b[0;34m,\u001b[0m\u001b[0mi\u001b[0m\u001b[0;34m,\u001b[0m\u001b[0mtrain_valid_shuffled\u001b[0m\u001b[0;34m,\u001b[0m\u001b[0;34m'price'\u001b[0m\u001b[0;34m,\u001b[0m\u001b[0;34m'sqft_living'\u001b[0m\u001b[0;34m)\u001b[0m\u001b[0;34m\u001b[0m\u001b[0m\n\u001b[0m\u001b[1;32m      4\u001b[0m     \u001b[0marr\u001b[0m\u001b[0;34m.\u001b[0m\u001b[0mappend\u001b[0m\u001b[0;34m(\u001b[0m\u001b[0merror\u001b[0m\u001b[0;34m)\u001b[0m\u001b[0;34m\u001b[0m\u001b[0m\n\u001b[1;32m      5\u001b[0m \u001b[0;32mprint\u001b[0m \u001b[0marr\u001b[0m\u001b[0;34m\u001b[0m\u001b[0m\n",
      "\u001b[0;32m<ipython-input-151-7a9addb3ad64>\u001b[0m in \u001b[0;36mk_fold_cross_validation\u001b[0;34m(k, l2_penalty, data, output_name, features_list)\u001b[0m\n\u001b[1;32m      8\u001b[0m         \u001b[0mtrain\u001b[0m\u001b[0;34m=\u001b[0m\u001b[0mdata\u001b[0m\u001b[0;34m[\u001b[0m\u001b[0;36m0\u001b[0m\u001b[0;34m:\u001b[0m\u001b[0mstart\u001b[0m\u001b[0;34m]\u001b[0m\u001b[0;34m.\u001b[0m\u001b[0mappend\u001b[0m\u001b[0;34m(\u001b[0m\u001b[0mdata\u001b[0m\u001b[0;34m[\u001b[0m\u001b[0mend\u001b[0m\u001b[0;34m+\u001b[0m\u001b[0;36m1\u001b[0m\u001b[0;34m:\u001b[0m\u001b[0mn\u001b[0m\u001b[0;34m]\u001b[0m\u001b[0;34m)\u001b[0m\u001b[0;34m\u001b[0m\u001b[0m\n\u001b[1;32m      9\u001b[0m         \u001b[0mmodel\u001b[0m\u001b[0;34m=\u001b[0m \u001b[0mlinear_model\u001b[0m\u001b[0;34m.\u001b[0m\u001b[0mRidge\u001b[0m\u001b[0;34m(\u001b[0m\u001b[0malpha\u001b[0m\u001b[0;34m=\u001b[0m\u001b[0ml2_penalty\u001b[0m\u001b[0;34m,\u001b[0m \u001b[0mnormalize\u001b[0m\u001b[0;34m=\u001b[0m\u001b[0mTrue\u001b[0m\u001b[0;34m)\u001b[0m\u001b[0;34m\u001b[0m\u001b[0m\n\u001b[0;32m---> 10\u001b[0;31m         \u001b[0mpoly_data\u001b[0m \u001b[0;34m=\u001b[0m \u001b[0mpolynomial_sframe\u001b[0m\u001b[0;34m(\u001b[0m\u001b[0mtrain\u001b[0m\u001b[0;34m[\u001b[0m\u001b[0mfeatures_list\u001b[0m\u001b[0;34m]\u001b[0m\u001b[0;34m,\u001b[0m \u001b[0;36m15\u001b[0m\u001b[0;34m)\u001b[0m\u001b[0;34m\u001b[0m\u001b[0m\n\u001b[0m\u001b[1;32m     11\u001b[0m         \u001b[0mfit\u001b[0m\u001b[0;34m=\u001b[0m \u001b[0mmodel\u001b[0m\u001b[0;34m.\u001b[0m\u001b[0mfit\u001b[0m\u001b[0;34m(\u001b[0m\u001b[0mpoly_data\u001b[0m\u001b[0;34m,\u001b[0m\u001b[0mtrain\u001b[0m\u001b[0;34m[\u001b[0m\u001b[0moutput_name\u001b[0m\u001b[0;34m]\u001b[0m\u001b[0;34m)\u001b[0m\u001b[0;34m\u001b[0m\u001b[0m\n\u001b[1;32m     12\u001b[0m         \u001b[0mpoly_vali\u001b[0m\u001b[0;34m=\u001b[0m \u001b[0mpolynomial_sframe\u001b[0m\u001b[0;34m(\u001b[0m\u001b[0mvalidation\u001b[0m\u001b[0;34m[\u001b[0m\u001b[0mfeatures_list\u001b[0m\u001b[0;34m]\u001b[0m\u001b[0;34m,\u001b[0m \u001b[0;36m15\u001b[0m\u001b[0;34m)\u001b[0m\u001b[0;34m\u001b[0m\u001b[0m\n",
      "\u001b[0;32m<ipython-input-2-07f037adb7cb>\u001b[0m in \u001b[0;36mpolynomial_sframe\u001b[0;34m(feature, degree)\u001b[0m\n\u001b[1;32m     13\u001b[0m             \u001b[0mname\u001b[0m \u001b[0;34m=\u001b[0m \u001b[0;34m'power_'\u001b[0m \u001b[0;34m+\u001b[0m \u001b[0mstr\u001b[0m\u001b[0;34m(\u001b[0m\u001b[0mpower\u001b[0m\u001b[0;34m)\u001b[0m\u001b[0;34m\u001b[0m\u001b[0m\n\u001b[1;32m     14\u001b[0m             \u001b[0;31m# then assign poly_sframe[name] to the appropriate power of feature\u001b[0m\u001b[0;34m\u001b[0m\u001b[0;34m\u001b[0m\u001b[0m\n\u001b[0;32m---> 15\u001b[0;31m             \u001b[0mpoly_sframe\u001b[0m\u001b[0;34m[\u001b[0m\u001b[0mname\u001b[0m\u001b[0;34m]\u001b[0m\u001b[0;34m=\u001b[0m\u001b[0mpoly_sframe\u001b[0m\u001b[0;34m[\u001b[0m\u001b[0;34m'power_1'\u001b[0m\u001b[0;34m]\u001b[0m\u001b[0;34m.\u001b[0m\u001b[0mapply\u001b[0m\u001b[0;34m(\u001b[0m\u001b[0;32mlambda\u001b[0m \u001b[0mx\u001b[0m\u001b[0;34m:\u001b[0m \u001b[0mx\u001b[0m\u001b[0;34m**\u001b[0m\u001b[0mpower\u001b[0m\u001b[0;34m)\u001b[0m\u001b[0;34m\u001b[0m\u001b[0m\n\u001b[0m\u001b[1;32m     16\u001b[0m \u001b[0;34m\u001b[0m\u001b[0m\n\u001b[1;32m     17\u001b[0m     \u001b[0;32mreturn\u001b[0m \u001b[0mpoly_sframe\u001b[0m\u001b[0;34m\u001b[0m\u001b[0m\n",
      "\u001b[0;32m/Users/Renecheng/gl-env/lib/python2.7/site-packages/pandas/core/series.pyc\u001b[0m in \u001b[0;36mapply\u001b[0;34m(self, func, convert_dtype, args, **kwds)\u001b[0m\n\u001b[1;32m   3589\u001b[0m             \u001b[0;32melse\u001b[0m\u001b[0;34m:\u001b[0m\u001b[0;34m\u001b[0m\u001b[0m\n\u001b[1;32m   3590\u001b[0m                 \u001b[0mvalues\u001b[0m \u001b[0;34m=\u001b[0m \u001b[0mself\u001b[0m\u001b[0;34m.\u001b[0m\u001b[0mastype\u001b[0m\u001b[0;34m(\u001b[0m\u001b[0mobject\u001b[0m\u001b[0;34m)\u001b[0m\u001b[0;34m.\u001b[0m\u001b[0mvalues\u001b[0m\u001b[0;34m\u001b[0m\u001b[0m\n\u001b[0;32m-> 3591\u001b[0;31m                 \u001b[0mmapped\u001b[0m \u001b[0;34m=\u001b[0m \u001b[0mlib\u001b[0m\u001b[0;34m.\u001b[0m\u001b[0mmap_infer\u001b[0m\u001b[0;34m(\u001b[0m\u001b[0mvalues\u001b[0m\u001b[0;34m,\u001b[0m \u001b[0mf\u001b[0m\u001b[0;34m,\u001b[0m \u001b[0mconvert\u001b[0m\u001b[0;34m=\u001b[0m\u001b[0mconvert_dtype\u001b[0m\u001b[0;34m)\u001b[0m\u001b[0;34m\u001b[0m\u001b[0m\n\u001b[0m\u001b[1;32m   3592\u001b[0m \u001b[0;34m\u001b[0m\u001b[0m\n\u001b[1;32m   3593\u001b[0m         \u001b[0;32mif\u001b[0m \u001b[0mlen\u001b[0m\u001b[0;34m(\u001b[0m\u001b[0mmapped\u001b[0m\u001b[0;34m)\u001b[0m \u001b[0;32mand\u001b[0m \u001b[0misinstance\u001b[0m\u001b[0;34m(\u001b[0m\u001b[0mmapped\u001b[0m\u001b[0;34m[\u001b[0m\u001b[0;36m0\u001b[0m\u001b[0;34m]\u001b[0m\u001b[0;34m,\u001b[0m \u001b[0mSeries\u001b[0m\u001b[0;34m)\u001b[0m\u001b[0;34m:\u001b[0m\u001b[0;34m\u001b[0m\u001b[0m\n",
      "\u001b[0;32mpandas/_libs/lib.pyx\u001b[0m in \u001b[0;36mpandas._libs.lib.map_infer\u001b[0;34m()\u001b[0m\n",
      "\u001b[0;32m<ipython-input-2-07f037adb7cb>\u001b[0m in \u001b[0;36m<lambda>\u001b[0;34m(x)\u001b[0m\n\u001b[1;32m     13\u001b[0m             \u001b[0mname\u001b[0m \u001b[0;34m=\u001b[0m \u001b[0;34m'power_'\u001b[0m \u001b[0;34m+\u001b[0m \u001b[0mstr\u001b[0m\u001b[0;34m(\u001b[0m\u001b[0mpower\u001b[0m\u001b[0;34m)\u001b[0m\u001b[0;34m\u001b[0m\u001b[0m\n\u001b[1;32m     14\u001b[0m             \u001b[0;31m# then assign poly_sframe[name] to the appropriate power of feature\u001b[0m\u001b[0;34m\u001b[0m\u001b[0;34m\u001b[0m\u001b[0m\n\u001b[0;32m---> 15\u001b[0;31m             \u001b[0mpoly_sframe\u001b[0m\u001b[0;34m[\u001b[0m\u001b[0mname\u001b[0m\u001b[0;34m]\u001b[0m\u001b[0;34m=\u001b[0m\u001b[0mpoly_sframe\u001b[0m\u001b[0;34m[\u001b[0m\u001b[0;34m'power_1'\u001b[0m\u001b[0;34m]\u001b[0m\u001b[0;34m.\u001b[0m\u001b[0mapply\u001b[0m\u001b[0;34m(\u001b[0m\u001b[0;32mlambda\u001b[0m \u001b[0mx\u001b[0m\u001b[0;34m:\u001b[0m \u001b[0mx\u001b[0m\u001b[0;34m**\u001b[0m\u001b[0mpower\u001b[0m\u001b[0;34m)\u001b[0m\u001b[0;34m\u001b[0m\u001b[0m\n\u001b[0m\u001b[1;32m     16\u001b[0m \u001b[0;34m\u001b[0m\u001b[0m\n\u001b[1;32m     17\u001b[0m     \u001b[0;32mreturn\u001b[0m \u001b[0mpoly_sframe\u001b[0m\u001b[0;34m\u001b[0m\u001b[0m\n",
      "\u001b[0;31mKeyboardInterrupt\u001b[0m: "
     ]
    }
   ],
   "source": [
    "arr=[]\n",
    "for i in np.logspace(0,7, num=13):   \n",
    "    error= k_fold_cross_validation(10,i,train_valid_shuffled,'price','sqft_living')\n",
    "    arr.append(error)\n",
    "print arr\n",
    "    "
   ]
  },
  {
   "cell_type": "code",
   "execution_count": null,
   "metadata": {},
   "outputs": [
    {
     "name": "stdout",
     "output_type": "stream",
     "text": [
      "[15609169411119.357]\n",
      "[15609169411119.357, 7887391989634.732]\n",
      "[15609169411119.357, 7887391989634.732, 13674992333611.95]\n",
      "[15609169411119.357, 7887391989634.732, 13674992333611.95, 7227435563193.106]\n",
      "[15609169411119.357, 7887391989634.732, 13674992333611.95, 7227435563193.106, 15845141447329.904]\n",
      "[15609169411119.357, 7887391989634.732, 13674992333611.95, 7227435563193.106, 15845141447329.904, 9758220072639.781]\n",
      "[15609169411119.357, 7887391989634.732, 13674992333611.95, 7227435563193.106, 15845141447329.904, 9758220072639.781, 12032526440776.76]\n",
      "[15609169411119.357, 7887391989634.732, 13674992333611.95, 7227435563193.106, 15845141447329.904, 9758220072639.781, 12032526440776.76, 14269611164111.732]\n",
      "[15609169411119.357, 7887391989634.732, 13674992333611.95, 7227435563193.106, 15845141447329.904, 9758220072639.781, 12032526440776.76, 14269611164111.732, 16466328345161.473]\n",
      "[15609169411119.357, 7887391989634.732, 13674992333611.95, 7227435563193.106, 15845141447329.904, 9758220072639.781, 12032526440776.76, 14269611164111.732, 16466328345161.473, 9265203122414.865]\n",
      "[15609169411119.357, 7887391989634.732, 13674992333611.95, 7227435563193.106, 15845141447329.904, 9758220072639.781, 12032526440776.76, 14269611164111.732, 16466328345161.473, 9265203122414.865, 14314975153470.139]\n",
      "[15609169411119.357, 7887391989634.732, 13674992333611.95, 7227435563193.106, 15845141447329.904, 9758220072639.781, 12032526440776.76, 14269611164111.732, 16466328345161.473, 9265203122414.865, 14314975153470.139, 23991676509343.75]\n",
      "[15609169411119.357, 7887391989634.732, 13674992333611.95, 7227435563193.106, 15845141447329.904, 9758220072639.781, 12032526440776.76, 14269611164111.732, 16466328345161.473, 9265203122414.865, 14314975153470.139, 23991676509343.75, 8723000703264.473]\n",
      "[15609169411119.357, 7887391989634.732, 13674992333611.95, 7227435563193.106, 15845141447329.904, 9758220072639.781, 12032526440776.76, 14269611164111.732, 16466328345161.473, 9265203122414.865, 14314975153470.139, 23991676509343.75, 8723000703264.473, 9718266420847.44]\n",
      "[15609169411119.357, 7887391989634.732, 13674992333611.95, 7227435563193.106, 15845141447329.904, 9758220072639.781, 12032526440776.76, 14269611164111.732, 16466328345161.473, 9265203122414.865, 14314975153470.139, 23991676509343.75, 8723000703264.473, 9718266420847.44, 19675482198702.62]\n",
      "[15609169411119.357, 7887391989634.732, 13674992333611.95, 7227435563193.106, 15845141447329.904, 9758220072639.781, 12032526440776.76, 14269611164111.732, 16466328345161.473, 9265203122414.865, 14314975153470.139, 23991676509343.75, 8723000703264.473, 9718266420847.44, 19675482198702.62, 7745236463878.294]\n",
      "[15609169411119.357, 7887391989634.732, 13674992333611.95, 7227435563193.106, 15845141447329.904, 9758220072639.781, 12032526440776.76, 14269611164111.732, 16466328345161.473, 9265203122414.865, 14314975153470.139, 23991676509343.75, 8723000703264.473, 9718266420847.44, 19675482198702.62, 7745236463878.294, 14524684166587.04]\n",
      "[15609169411119.357, 7887391989634.732, 13674992333611.95, 7227435563193.106, 15845141447329.904, 9758220072639.781, 12032526440776.76, 14269611164111.732, 16466328345161.473, 9265203122414.865, 14314975153470.139, 23991676509343.75, 8723000703264.473, 9718266420847.44, 19675482198702.62, 7745236463878.294, 14524684166587.04, 8976991948341.062]\n",
      "[15609169411119.357, 7887391989634.732, 13674992333611.95, 7227435563193.106, 15845141447329.904, 9758220072639.781, 12032526440776.76, 14269611164111.732, 16466328345161.473, 9265203122414.865, 14314975153470.139, 23991676509343.75, 8723000703264.473, 9718266420847.44, 19675482198702.62, 7745236463878.294, 14524684166587.04, 8976991948341.062, 10767143236630.268]\n",
      "[15609169411119.357, 7887391989634.732, 13674992333611.95, 7227435563193.106, 15845141447329.904, 9758220072639.781, 12032526440776.76, 14269611164111.732, 16466328345161.473, 9265203122414.865, 14314975153470.139, 23991676509343.75, 8723000703264.473, 9718266420847.44, 19675482198702.62, 7745236463878.294, 14524684166587.04, 8976991948341.062, 10767143236630.268, 7006878571871.584]\n",
      "[15609169411119.357, 7887391989634.732, 13674992333611.95, 7227435563193.106, 15845141447329.904, 9758220072639.781, 12032526440776.76, 14269611164111.732, 16466328345161.473, 9265203122414.865, 14314975153470.139, 23991676509343.75, 8723000703264.473, 9718266420847.44, 19675482198702.62, 7745236463878.294, 14524684166587.04, 8976991948341.062, 10767143236630.268, 7006878571871.584, 13547445411926.68]\n",
      "[15609169411119.357, 7887391989634.732, 13674992333611.95, 7227435563193.106, 15845141447329.904, 9758220072639.781, 12032526440776.76, 14269611164111.732, 16466328345161.473, 9265203122414.865, 14314975153470.139, 23991676509343.75, 8723000703264.473, 9718266420847.44, 19675482198702.62, 7745236463878.294, 14524684166587.04, 8976991948341.062, 10767143236630.268, 7006878571871.584, 13547445411926.68, 12221677982583.234]\n",
      "[15609169411119.357, 7887391989634.732, 13674992333611.95, 7227435563193.106, 15845141447329.904, 9758220072639.781, 12032526440776.76, 14269611164111.732, 16466328345161.473, 9265203122414.865, 14314975153470.139, 23991676509343.75, 8723000703264.473, 9718266420847.44, 19675482198702.62, 7745236463878.294, 14524684166587.04, 8976991948341.062, 10767143236630.268, 7006878571871.584, 13547445411926.68, 12221677982583.234, 8537452695637.867]\n",
      "[15609169411119.357, 7887391989634.732, 13674992333611.95, 7227435563193.106, 15845141447329.904, 9758220072639.781, 12032526440776.76, 14269611164111.732, 16466328345161.473, 9265203122414.865, 14314975153470.139, 23991676509343.75, 8723000703264.473, 9718266420847.44, 19675482198702.62, 7745236463878.294, 14524684166587.04, 8976991948341.062, 10767143236630.268, 7006878571871.584, 13547445411926.68, 12221677982583.234, 8537452695637.867, 12423839482399.438]\n",
      "[15609169411119.357, 7887391989634.732, 13674992333611.95, 7227435563193.106, 15845141447329.904, 9758220072639.781, 12032526440776.76, 14269611164111.732, 16466328345161.473, 9265203122414.865, 14314975153470.139, 23991676509343.75, 8723000703264.473, 9718266420847.44, 19675482198702.62, 7745236463878.294, 14524684166587.04, 8976991948341.062, 10767143236630.268, 7006878571871.584, 13547445411926.68, 12221677982583.234, 8537452695637.867, 12423839482399.438, 10992331957250.723]\n",
      "[15609169411119.357, 7887391989634.732, 13674992333611.95, 7227435563193.106, 15845141447329.904, 9758220072639.781, 12032526440776.76, 14269611164111.732, 16466328345161.473, 9265203122414.865, 14314975153470.139, 23991676509343.75, 8723000703264.473, 9718266420847.44, 19675482198702.62, 7745236463878.294, 14524684166587.04, 8976991948341.062, 10767143236630.268, 7006878571871.584, 13547445411926.68, 12221677982583.234, 8537452695637.867, 12423839482399.438, 10992331957250.723, 10097120390505.36]\n",
      "[15609169411119.357, 7887391989634.732, 13674992333611.95, 7227435563193.106, 15845141447329.904, 9758220072639.781, 12032526440776.76, 14269611164111.732, 16466328345161.473, 9265203122414.865, 14314975153470.139, 23991676509343.75, 8723000703264.473, 9718266420847.44, 19675482198702.62, 7745236463878.294, 14524684166587.04, 8976991948341.062, 10767143236630.268, 7006878571871.584, 13547445411926.68, 12221677982583.234, 8537452695637.867, 12423839482399.438, 10992331957250.723, 10097120390505.36, 8472324052344.283]\n",
      "[15609169411119.357, 7887391989634.732, 13674992333611.95, 7227435563193.106, 15845141447329.904, 9758220072639.781, 12032526440776.76, 14269611164111.732, 16466328345161.473, 9265203122414.865, 14314975153470.139, 23991676509343.75, 8723000703264.473, 9718266420847.44, 19675482198702.62, 7745236463878.294, 14524684166587.04, 8976991948341.062, 10767143236630.268, 7006878571871.584, 13547445411926.68, 12221677982583.234, 8537452695637.867, 12423839482399.438, 10992331957250.723, 10097120390505.36, 8472324052344.283, 7016751495305.944]\n",
      "[15609169411119.357, 7887391989634.732, 13674992333611.95, 7227435563193.106, 15845141447329.904, 9758220072639.781, 12032526440776.76, 14269611164111.732, 16466328345161.473, 9265203122414.865, 14314975153470.139, 23991676509343.75, 8723000703264.473, 9718266420847.44, 19675482198702.62, 7745236463878.294, 14524684166587.04, 8976991948341.062, 10767143236630.268, 7006878571871.584, 13547445411926.68, 12221677982583.234, 8537452695637.867, 12423839482399.438, 10992331957250.723, 10097120390505.36, 8472324052344.283, 7016751495305.944, 9015806324430.54]\n",
      "[15609169411119.357, 7887391989634.732, 13674992333611.95, 7227435563193.106, 15845141447329.904, 9758220072639.781, 12032526440776.76, 14269611164111.732, 16466328345161.473, 9265203122414.865, 14314975153470.139, 23991676509343.75, 8723000703264.473, 9718266420847.44, 19675482198702.62, 7745236463878.294, 14524684166587.04, 8976991948341.062, 10767143236630.268, 7006878571871.584, 13547445411926.68, 12221677982583.234, 8537452695637.867, 12423839482399.438, 10992331957250.723, 10097120390505.36, 8472324052344.283, 7016751495305.944, 9015806324430.54, 8267968842464.514]\n"
     ]
    },
    {
     "name": "stdout",
     "output_type": "stream",
     "text": [
      "[15609169411119.357, 7887391989634.732, 13674992333611.95, 7227435563193.106, 15845141447329.904, 9758220072639.781, 12032526440776.76, 14269611164111.732, 16466328345161.473, 9265203122414.865, 14314975153470.139, 23991676509343.75, 8723000703264.473, 9718266420847.44, 19675482198702.62, 7745236463878.294, 14524684166587.04, 8976991948341.062, 10767143236630.268, 7006878571871.584, 13547445411926.68, 12221677982583.234, 8537452695637.867, 12423839482399.438, 10992331957250.723, 10097120390505.36, 8472324052344.283, 7016751495305.944, 9015806324430.54, 8267968842464.514, 9291529800974.645]\n",
      "[15609169411119.357, 7887391989634.732, 13674992333611.95, 7227435563193.106, 15845141447329.904, 9758220072639.781, 12032526440776.76, 14269611164111.732, 16466328345161.473, 9265203122414.865, 14314975153470.139, 23991676509343.75, 8723000703264.473, 9718266420847.44, 19675482198702.62, 7745236463878.294, 14524684166587.04, 8976991948341.062, 10767143236630.268, 7006878571871.584, 13547445411926.68, 12221677982583.234, 8537452695637.867, 12423839482399.438, 10992331957250.723, 10097120390505.36, 8472324052344.283, 7016751495305.944, 9015806324430.54, 8267968842464.514, 9291529800974.645, 15329359765164.574]\n",
      "[15609169411119.357, 7887391989634.732, 13674992333611.95, 7227435563193.106, 15845141447329.904, 9758220072639.781, 12032526440776.76, 14269611164111.732, 16466328345161.473, 9265203122414.865, 14314975153470.139, 23991676509343.75, 8723000703264.473, 9718266420847.44, 19675482198702.62, 7745236463878.294, 14524684166587.04, 8976991948341.062, 10767143236630.268, 7006878571871.584, 13547445411926.68, 12221677982583.234, 8537452695637.867, 12423839482399.438, 10992331957250.723, 10097120390505.36, 8472324052344.283, 7016751495305.944, 9015806324430.54, 8267968842464.514, 9291529800974.645, 15329359765164.574, 7666818021847.127]\n",
      "[15609169411119.357, 7887391989634.732, 13674992333611.95, 7227435563193.106, 15845141447329.904, 9758220072639.781, 12032526440776.76, 14269611164111.732, 16466328345161.473, 9265203122414.865, 14314975153470.139, 23991676509343.75, 8723000703264.473, 9718266420847.44, 19675482198702.62, 7745236463878.294, 14524684166587.04, 8976991948341.062, 10767143236630.268, 7006878571871.584, 13547445411926.68, 12221677982583.234, 8537452695637.867, 12423839482399.438, 10992331957250.723, 10097120390505.36, 8472324052344.283, 7016751495305.944, 9015806324430.54, 8267968842464.514, 9291529800974.645, 15329359765164.574, 7666818021847.127, 16377415934971.414]\n",
      "[15609169411119.357, 7887391989634.732, 13674992333611.95, 7227435563193.106, 15845141447329.904, 9758220072639.781, 12032526440776.76, 14269611164111.732, 16466328345161.473, 9265203122414.865, 14314975153470.139, 23991676509343.75, 8723000703264.473, 9718266420847.44, 19675482198702.62, 7745236463878.294, 14524684166587.04, 8976991948341.062, 10767143236630.268, 7006878571871.584, 13547445411926.68, 12221677982583.234, 8537452695637.867, 12423839482399.438, 10992331957250.723, 10097120390505.36, 8472324052344.283, 7016751495305.944, 9015806324430.54, 8267968842464.514, 9291529800974.645, 15329359765164.574, 7666818021847.127, 16377415934971.414, 13713916668353.244]\n",
      "[15609169411119.357, 7887391989634.732, 13674992333611.95, 7227435563193.106, 15845141447329.904, 9758220072639.781, 12032526440776.76, 14269611164111.732, 16466328345161.473, 9265203122414.865, 14314975153470.139, 23991676509343.75, 8723000703264.473, 9718266420847.44, 19675482198702.62, 7745236463878.294, 14524684166587.04, 8976991948341.062, 10767143236630.268, 7006878571871.584, 13547445411926.68, 12221677982583.234, 8537452695637.867, 12423839482399.438, 10992331957250.723, 10097120390505.36, 8472324052344.283, 7016751495305.944, 9015806324430.54, 8267968842464.514, 9291529800974.645, 15329359765164.574, 7666818021847.127, 16377415934971.414, 13713916668353.244, 11962551639043.648]\n",
      "[15609169411119.357, 7887391989634.732, 13674992333611.95, 7227435563193.106, 15845141447329.904, 9758220072639.781, 12032526440776.76, 14269611164111.732, 16466328345161.473, 9265203122414.865, 14314975153470.139, 23991676509343.75, 8723000703264.473, 9718266420847.44, 19675482198702.62, 7745236463878.294, 14524684166587.04, 8976991948341.062, 10767143236630.268, 7006878571871.584, 13547445411926.68, 12221677982583.234, 8537452695637.867, 12423839482399.438, 10992331957250.723, 10097120390505.36, 8472324052344.283, 7016751495305.944, 9015806324430.54, 8267968842464.514, 9291529800974.645, 15329359765164.574, 7666818021847.127, 16377415934971.414, 13713916668353.244, 11962551639043.648, 13199571747236.316]\n",
      "[15609169411119.357, 7887391989634.732, 13674992333611.95, 7227435563193.106, 15845141447329.904, 9758220072639.781, 12032526440776.76, 14269611164111.732, 16466328345161.473, 9265203122414.865, 14314975153470.139, 23991676509343.75, 8723000703264.473, 9718266420847.44, 19675482198702.62, 7745236463878.294, 14524684166587.04, 8976991948341.062, 10767143236630.268, 7006878571871.584, 13547445411926.68, 12221677982583.234, 8537452695637.867, 12423839482399.438, 10992331957250.723, 10097120390505.36, 8472324052344.283, 7016751495305.944, 9015806324430.54, 8267968842464.514, 9291529800974.645, 15329359765164.574, 7666818021847.127, 16377415934971.414, 13713916668353.244, 11962551639043.648, 13199571747236.316, 12471369731724.9]\n",
      "[15609169411119.357, 7887391989634.732, 13674992333611.95, 7227435563193.106, 15845141447329.904, 9758220072639.781, 12032526440776.76, 14269611164111.732, 16466328345161.473, 9265203122414.865, 14314975153470.139, 23991676509343.75, 8723000703264.473, 9718266420847.44, 19675482198702.62, 7745236463878.294, 14524684166587.04, 8976991948341.062, 10767143236630.268, 7006878571871.584, 13547445411926.68, 12221677982583.234, 8537452695637.867, 12423839482399.438, 10992331957250.723, 10097120390505.36, 8472324052344.283, 7016751495305.944, 9015806324430.54, 8267968842464.514, 9291529800974.645, 15329359765164.574, 7666818021847.127, 16377415934971.414, 13713916668353.244, 11962551639043.648, 13199571747236.316, 12471369731724.9, 19507076597556.883]\n",
      "[15609169411119.357, 7887391989634.732, 13674992333611.95, 7227435563193.106, 15845141447329.904, 9758220072639.781, 12032526440776.76, 14269611164111.732, 16466328345161.473, 9265203122414.865, 14314975153470.139, 23991676509343.75, 8723000703264.473, 9718266420847.44, 19675482198702.62, 7745236463878.294, 14524684166587.04, 8976991948341.062, 10767143236630.268, 7006878571871.584, 13547445411926.68, 12221677982583.234, 8537452695637.867, 12423839482399.438, 10992331957250.723, 10097120390505.36, 8472324052344.283, 7016751495305.944, 9015806324430.54, 8267968842464.514, 9291529800974.645, 15329359765164.574, 7666818021847.127, 16377415934971.414, 13713916668353.244, 11962551639043.648, 13199571747236.316, 12471369731724.9, 19507076597556.883, 16725307263609.809]\n",
      "[15609169411119.357, 7887391989634.732, 13674992333611.95, 7227435563193.106, 15845141447329.904, 9758220072639.781, 12032526440776.76, 14269611164111.732, 16466328345161.473, 9265203122414.865, 14314975153470.139, 23991676509343.75, 8723000703264.473, 9718266420847.44, 19675482198702.62, 7745236463878.294, 14524684166587.04, 8976991948341.062, 10767143236630.268, 7006878571871.584, 13547445411926.68, 12221677982583.234, 8537452695637.867, 12423839482399.438, 10992331957250.723, 10097120390505.36, 8472324052344.283, 7016751495305.944, 9015806324430.54, 8267968842464.514, 9291529800974.645, 15329359765164.574, 7666818021847.127, 16377415934971.414, 13713916668353.244, 11962551639043.648, 13199571747236.316, 12471369731724.9, 19507076597556.883, 16725307263609.809, 10630573127447.178]\n",
      "[15609169411119.357, 7887391989634.732, 13674992333611.95, 7227435563193.106, 15845141447329.904, 9758220072639.781, 12032526440776.76, 14269611164111.732, 16466328345161.473, 9265203122414.865, 14314975153470.139, 23991676509343.75, 8723000703264.473, 9718266420847.44, 19675482198702.62, 7745236463878.294, 14524684166587.04, 8976991948341.062, 10767143236630.268, 7006878571871.584, 13547445411926.68, 12221677982583.234, 8537452695637.867, 12423839482399.438, 10992331957250.723, 10097120390505.36, 8472324052344.283, 7016751495305.944, 9015806324430.54, 8267968842464.514, 9291529800974.645, 15329359765164.574, 7666818021847.127, 16377415934971.414, 13713916668353.244, 11962551639043.648, 13199571747236.316, 12471369731724.9, 19507076597556.883, 16725307263609.809, 10630573127447.178, 12870529875663.916]\n"
     ]
    },
    {
     "name": "stdout",
     "output_type": "stream",
     "text": [
      "[15609169411119.357, 7887391989634.732, 13674992333611.95, 7227435563193.106, 15845141447329.904, 9758220072639.781, 12032526440776.76, 14269611164111.732, 16466328345161.473, 9265203122414.865, 14314975153470.139, 23991676509343.75, 8723000703264.473, 9718266420847.44, 19675482198702.62, 7745236463878.294, 14524684166587.04, 8976991948341.062, 10767143236630.268, 7006878571871.584, 13547445411926.68, 12221677982583.234, 8537452695637.867, 12423839482399.438, 10992331957250.723, 10097120390505.36, 8472324052344.283, 7016751495305.944, 9015806324430.54, 8267968842464.514, 9291529800974.645, 15329359765164.574, 7666818021847.127, 16377415934971.414, 13713916668353.244, 11962551639043.648, 13199571747236.316, 12471369731724.9, 19507076597556.883, 16725307263609.809, 10630573127447.178, 12870529875663.916, 13024579437497.97]\n",
      "[15609169411119.357, 7887391989634.732, 13674992333611.95, 7227435563193.106, 15845141447329.904, 9758220072639.781, 12032526440776.76, 14269611164111.732, 16466328345161.473, 9265203122414.865, 14314975153470.139, 23991676509343.75, 8723000703264.473, 9718266420847.44, 19675482198702.62, 7745236463878.294, 14524684166587.04, 8976991948341.062, 10767143236630.268, 7006878571871.584, 13547445411926.68, 12221677982583.234, 8537452695637.867, 12423839482399.438, 10992331957250.723, 10097120390505.36, 8472324052344.283, 7016751495305.944, 9015806324430.54, 8267968842464.514, 9291529800974.645, 15329359765164.574, 7666818021847.127, 16377415934971.414, 13713916668353.244, 11962551639043.648, 13199571747236.316, 12471369731724.9, 19507076597556.883, 16725307263609.809, 10630573127447.178, 12870529875663.916, 13024579437497.97, 17311586209588.254]\n",
      "[15609169411119.357, 7887391989634.732, 13674992333611.95, 7227435563193.106, 15845141447329.904, 9758220072639.781, 12032526440776.76, 14269611164111.732, 16466328345161.473, 9265203122414.865, 14314975153470.139, 23991676509343.75, 8723000703264.473, 9718266420847.44, 19675482198702.62, 7745236463878.294, 14524684166587.04, 8976991948341.062, 10767143236630.268, 7006878571871.584, 13547445411926.68, 12221677982583.234, 8537452695637.867, 12423839482399.438, 10992331957250.723, 10097120390505.36, 8472324052344.283, 7016751495305.944, 9015806324430.54, 8267968842464.514, 9291529800974.645, 15329359765164.574, 7666818021847.127, 16377415934971.414, 13713916668353.244, 11962551639043.648, 13199571747236.316, 12471369731724.9, 19507076597556.883, 16725307263609.809, 10630573127447.178, 12870529875663.916, 13024579437497.97, 17311586209588.254, 10198424171148.922]\n",
      "[15609169411119.357, 7887391989634.732, 13674992333611.95, 7227435563193.106, 15845141447329.904, 9758220072639.781, 12032526440776.76, 14269611164111.732, 16466328345161.473, 9265203122414.865, 14314975153470.139, 23991676509343.75, 8723000703264.473, 9718266420847.44, 19675482198702.62, 7745236463878.294, 14524684166587.04, 8976991948341.062, 10767143236630.268, 7006878571871.584, 13547445411926.68, 12221677982583.234, 8537452695637.867, 12423839482399.438, 10992331957250.723, 10097120390505.36, 8472324052344.283, 7016751495305.944, 9015806324430.54, 8267968842464.514, 9291529800974.645, 15329359765164.574, 7666818021847.127, 16377415934971.414, 13713916668353.244, 11962551639043.648, 13199571747236.316, 12471369731724.9, 19507076597556.883, 16725307263609.809, 10630573127447.178, 12870529875663.916, 13024579437497.97, 17311586209588.254, 10198424171148.922, 15217688772923.582]\n",
      "[15609169411119.357, 7887391989634.732, 13674992333611.95, 7227435563193.106, 15845141447329.904, 9758220072639.781, 12032526440776.76, 14269611164111.732, 16466328345161.473, 9265203122414.865, 14314975153470.139, 23991676509343.75, 8723000703264.473, 9718266420847.44, 19675482198702.62, 7745236463878.294, 14524684166587.04, 8976991948341.062, 10767143236630.268, 7006878571871.584, 13547445411926.68, 12221677982583.234, 8537452695637.867, 12423839482399.438, 10992331957250.723, 10097120390505.36, 8472324052344.283, 7016751495305.944, 9015806324430.54, 8267968842464.514, 9291529800974.645, 15329359765164.574, 7666818021847.127, 16377415934971.414, 13713916668353.244, 11962551639043.648, 13199571747236.316, 12471369731724.9, 19507076597556.883, 16725307263609.809, 10630573127447.178, 12870529875663.916, 13024579437497.97, 17311586209588.254, 10198424171148.922, 15217688772923.582, 9102288648085.338]\n",
      "[15609169411119.357, 7887391989634.732, 13674992333611.95, 7227435563193.106, 15845141447329.904, 9758220072639.781, 12032526440776.76, 14269611164111.732, 16466328345161.473, 9265203122414.865, 14314975153470.139, 23991676509343.75, 8723000703264.473, 9718266420847.44, 19675482198702.62, 7745236463878.294, 14524684166587.04, 8976991948341.062, 10767143236630.268, 7006878571871.584, 13547445411926.68, 12221677982583.234, 8537452695637.867, 12423839482399.438, 10992331957250.723, 10097120390505.36, 8472324052344.283, 7016751495305.944, 9015806324430.54, 8267968842464.514, 9291529800974.645, 15329359765164.574, 7666818021847.127, 16377415934971.414, 13713916668353.244, 11962551639043.648, 13199571747236.316, 12471369731724.9, 19507076597556.883, 16725307263609.809, 10630573127447.178, 12870529875663.916, 13024579437497.97, 17311586209588.254, 10198424171148.922, 15217688772923.582, 9102288648085.338, 7645874373378.86]\n",
      "[15609169411119.357, 7887391989634.732, 13674992333611.95, 7227435563193.106, 15845141447329.904, 9758220072639.781, 12032526440776.76, 14269611164111.732, 16466328345161.473, 9265203122414.865, 14314975153470.139, 23991676509343.75, 8723000703264.473, 9718266420847.44, 19675482198702.62, 7745236463878.294, 14524684166587.04, 8976991948341.062, 10767143236630.268, 7006878571871.584, 13547445411926.68, 12221677982583.234, 8537452695637.867, 12423839482399.438, 10992331957250.723, 10097120390505.36, 8472324052344.283, 7016751495305.944, 9015806324430.54, 8267968842464.514, 9291529800974.645, 15329359765164.574, 7666818021847.127, 16377415934971.414, 13713916668353.244, 11962551639043.648, 13199571747236.316, 12471369731724.9, 19507076597556.883, 16725307263609.809, 10630573127447.178, 12870529875663.916, 13024579437497.97, 17311586209588.254, 10198424171148.922, 15217688772923.582, 9102288648085.338, 7645874373378.86, 13338188131539.021]\n",
      "[15609169411119.357, 7887391989634.732, 13674992333611.95, 7227435563193.106, 15845141447329.904, 9758220072639.781, 12032526440776.76, 14269611164111.732, 16466328345161.473, 9265203122414.865, 14314975153470.139, 23991676509343.75, 8723000703264.473, 9718266420847.44, 19675482198702.62, 7745236463878.294, 14524684166587.04, 8976991948341.062, 10767143236630.268, 7006878571871.584, 13547445411926.68, 12221677982583.234, 8537452695637.867, 12423839482399.438, 10992331957250.723, 10097120390505.36, 8472324052344.283, 7016751495305.944, 9015806324430.54, 8267968842464.514, 9291529800974.645, 15329359765164.574, 7666818021847.127, 16377415934971.414, 13713916668353.244, 11962551639043.648, 13199571747236.316, 12471369731724.9, 19507076597556.883, 16725307263609.809, 10630573127447.178, 12870529875663.916, 13024579437497.97, 17311586209588.254, 10198424171148.922, 15217688772923.582, 9102288648085.338, 7645874373378.86, 13338188131539.021, 12392780041862.428]\n",
      "[15609169411119.357, 7887391989634.732, 13674992333611.95, 7227435563193.106, 15845141447329.904, 9758220072639.781, 12032526440776.76, 14269611164111.732, 16466328345161.473, 9265203122414.865, 14314975153470.139, 23991676509343.75, 8723000703264.473, 9718266420847.44, 19675482198702.62, 7745236463878.294, 14524684166587.04, 8976991948341.062, 10767143236630.268, 7006878571871.584, 13547445411926.68, 12221677982583.234, 8537452695637.867, 12423839482399.438, 10992331957250.723, 10097120390505.36, 8472324052344.283, 7016751495305.944, 9015806324430.54, 8267968842464.514, 9291529800974.645, 15329359765164.574, 7666818021847.127, 16377415934971.414, 13713916668353.244, 11962551639043.648, 13199571747236.316, 12471369731724.9, 19507076597556.883, 16725307263609.809, 10630573127447.178, 12870529875663.916, 13024579437497.97, 17311586209588.254, 10198424171148.922, 15217688772923.582, 9102288648085.338, 7645874373378.86, 13338188131539.021, 12392780041862.428, 20716236180207.734]\n",
      "[15609169411119.357, 7887391989634.732, 13674992333611.95, 7227435563193.106, 15845141447329.904, 9758220072639.781, 12032526440776.76, 14269611164111.732, 16466328345161.473, 9265203122414.865, 14314975153470.139, 23991676509343.75, 8723000703264.473, 9718266420847.44, 19675482198702.62, 7745236463878.294, 14524684166587.04, 8976991948341.062, 10767143236630.268, 7006878571871.584, 13547445411926.68, 12221677982583.234, 8537452695637.867, 12423839482399.438, 10992331957250.723, 10097120390505.36, 8472324052344.283, 7016751495305.944, 9015806324430.54, 8267968842464.514, 9291529800974.645, 15329359765164.574, 7666818021847.127, 16377415934971.414, 13713916668353.244, 11962551639043.648, 13199571747236.316, 12471369731724.9, 19507076597556.883, 16725307263609.809, 10630573127447.178, 12870529875663.916, 13024579437497.97, 17311586209588.254, 10198424171148.922, 15217688772923.582, 9102288648085.338, 7645874373378.86, 13338188131539.021, 12392780041862.428, 20716236180207.734, 21594401591621.223]\n"
     ]
    },
    {
     "name": "stdout",
     "output_type": "stream",
     "text": [
      "[15609169411119.357, 7887391989634.732, 13674992333611.95, 7227435563193.106, 15845141447329.904, 9758220072639.781, 12032526440776.76, 14269611164111.732, 16466328345161.473, 9265203122414.865, 14314975153470.139, 23991676509343.75, 8723000703264.473, 9718266420847.44, 19675482198702.62, 7745236463878.294, 14524684166587.04, 8976991948341.062, 10767143236630.268, 7006878571871.584, 13547445411926.68, 12221677982583.234, 8537452695637.867, 12423839482399.438, 10992331957250.723, 10097120390505.36, 8472324052344.283, 7016751495305.944, 9015806324430.54, 8267968842464.514, 9291529800974.645, 15329359765164.574, 7666818021847.127, 16377415934971.414, 13713916668353.244, 11962551639043.648, 13199571747236.316, 12471369731724.9, 19507076597556.883, 16725307263609.809, 10630573127447.178, 12870529875663.916, 13024579437497.97, 17311586209588.254, 10198424171148.922, 15217688772923.582, 9102288648085.338, 7645874373378.86, 13338188131539.021, 12392780041862.428, 20716236180207.734, 21594401591621.223, 7677078971368.314]\n",
      "[15609169411119.357, 7887391989634.732, 13674992333611.95, 7227435563193.106, 15845141447329.904, 9758220072639.781, 12032526440776.76, 14269611164111.732, 16466328345161.473, 9265203122414.865, 14314975153470.139, 23991676509343.75, 8723000703264.473, 9718266420847.44, 19675482198702.62, 7745236463878.294, 14524684166587.04, 8976991948341.062, 10767143236630.268, 7006878571871.584, 13547445411926.68, 12221677982583.234, 8537452695637.867, 12423839482399.438, 10992331957250.723, 10097120390505.36, 8472324052344.283, 7016751495305.944, 9015806324430.54, 8267968842464.514, 9291529800974.645, 15329359765164.574, 7666818021847.127, 16377415934971.414, 13713916668353.244, 11962551639043.648, 13199571747236.316, 12471369731724.9, 19507076597556.883, 16725307263609.809, 10630573127447.178, 12870529875663.916, 13024579437497.97, 17311586209588.254, 10198424171148.922, 15217688772923.582, 9102288648085.338, 7645874373378.86, 13338188131539.021, 12392780041862.428, 20716236180207.734, 21594401591621.223, 7677078971368.314, 22343152168819.535]\n",
      "[15609169411119.357, 7887391989634.732, 13674992333611.95, 7227435563193.106, 15845141447329.904, 9758220072639.781, 12032526440776.76, 14269611164111.732, 16466328345161.473, 9265203122414.865, 14314975153470.139, 23991676509343.75, 8723000703264.473, 9718266420847.44, 19675482198702.62, 7745236463878.294, 14524684166587.04, 8976991948341.062, 10767143236630.268, 7006878571871.584, 13547445411926.68, 12221677982583.234, 8537452695637.867, 12423839482399.438, 10992331957250.723, 10097120390505.36, 8472324052344.283, 7016751495305.944, 9015806324430.54, 8267968842464.514, 9291529800974.645, 15329359765164.574, 7666818021847.127, 16377415934971.414, 13713916668353.244, 11962551639043.648, 13199571747236.316, 12471369731724.9, 19507076597556.883, 16725307263609.809, 10630573127447.178, 12870529875663.916, 13024579437497.97, 17311586209588.254, 10198424171148.922, 15217688772923.582, 9102288648085.338, 7645874373378.86, 13338188131539.021, 12392780041862.428, 20716236180207.734, 21594401591621.223, 7677078971368.314, 22343152168819.535, 7744644939469.718]\n",
      "[15609169411119.357, 7887391989634.732, 13674992333611.95, 7227435563193.106, 15845141447329.904, 9758220072639.781, 12032526440776.76, 14269611164111.732, 16466328345161.473, 9265203122414.865, 14314975153470.139, 23991676509343.75, 8723000703264.473, 9718266420847.44, 19675482198702.62, 7745236463878.294, 14524684166587.04, 8976991948341.062, 10767143236630.268, 7006878571871.584, 13547445411926.68, 12221677982583.234, 8537452695637.867, 12423839482399.438, 10992331957250.723, 10097120390505.36, 8472324052344.283, 7016751495305.944, 9015806324430.54, 8267968842464.514, 9291529800974.645, 15329359765164.574, 7666818021847.127, 16377415934971.414, 13713916668353.244, 11962551639043.648, 13199571747236.316, 12471369731724.9, 19507076597556.883, 16725307263609.809, 10630573127447.178, 12870529875663.916, 13024579437497.97, 17311586209588.254, 10198424171148.922, 15217688772923.582, 9102288648085.338, 7645874373378.86, 13338188131539.021, 12392780041862.428, 20716236180207.734, 21594401591621.223, 7677078971368.314, 22343152168819.535, 7744644939469.718, 6788450069609.243]\n",
      "[15609169411119.357, 7887391989634.732, 13674992333611.95, 7227435563193.106, 15845141447329.904, 9758220072639.781, 12032526440776.76, 14269611164111.732, 16466328345161.473, 9265203122414.865, 14314975153470.139, 23991676509343.75, 8723000703264.473, 9718266420847.44, 19675482198702.62, 7745236463878.294, 14524684166587.04, 8976991948341.062, 10767143236630.268, 7006878571871.584, 13547445411926.68, 12221677982583.234, 8537452695637.867, 12423839482399.438, 10992331957250.723, 10097120390505.36, 8472324052344.283, 7016751495305.944, 9015806324430.54, 8267968842464.514, 9291529800974.645, 15329359765164.574, 7666818021847.127, 16377415934971.414, 13713916668353.244, 11962551639043.648, 13199571747236.316, 12471369731724.9, 19507076597556.883, 16725307263609.809, 10630573127447.178, 12870529875663.916, 13024579437497.97, 17311586209588.254, 10198424171148.922, 15217688772923.582, 9102288648085.338, 7645874373378.86, 13338188131539.021, 12392780041862.428, 20716236180207.734, 21594401591621.223, 7677078971368.314, 22343152168819.535, 7744644939469.718, 6788450069609.243, 8251749008938.094]\n",
      "[15609169411119.357, 7887391989634.732, 13674992333611.95, 7227435563193.106, 15845141447329.904, 9758220072639.781, 12032526440776.76, 14269611164111.732, 16466328345161.473, 9265203122414.865, 14314975153470.139, 23991676509343.75, 8723000703264.473, 9718266420847.44, 19675482198702.62, 7745236463878.294, 14524684166587.04, 8976991948341.062, 10767143236630.268, 7006878571871.584, 13547445411926.68, 12221677982583.234, 8537452695637.867, 12423839482399.438, 10992331957250.723, 10097120390505.36, 8472324052344.283, 7016751495305.944, 9015806324430.54, 8267968842464.514, 9291529800974.645, 15329359765164.574, 7666818021847.127, 16377415934971.414, 13713916668353.244, 11962551639043.648, 13199571747236.316, 12471369731724.9, 19507076597556.883, 16725307263609.809, 10630573127447.178, 12870529875663.916, 13024579437497.97, 17311586209588.254, 10198424171148.922, 15217688772923.582, 9102288648085.338, 7645874373378.86, 13338188131539.021, 12392780041862.428, 20716236180207.734, 21594401591621.223, 7677078971368.314, 22343152168819.535, 7744644939469.718, 6788450069609.243, 8251749008938.094, 14564829297073.936]\n",
      "[15609169411119.357, 7887391989634.732, 13674992333611.95, 7227435563193.106, 15845141447329.904, 9758220072639.781, 12032526440776.76, 14269611164111.732, 16466328345161.473, 9265203122414.865, 14314975153470.139, 23991676509343.75, 8723000703264.473, 9718266420847.44, 19675482198702.62, 7745236463878.294, 14524684166587.04, 8976991948341.062, 10767143236630.268, 7006878571871.584, 13547445411926.68, 12221677982583.234, 8537452695637.867, 12423839482399.438, 10992331957250.723, 10097120390505.36, 8472324052344.283, 7016751495305.944, 9015806324430.54, 8267968842464.514, 9291529800974.645, 15329359765164.574, 7666818021847.127, 16377415934971.414, 13713916668353.244, 11962551639043.648, 13199571747236.316, 12471369731724.9, 19507076597556.883, 16725307263609.809, 10630573127447.178, 12870529875663.916, 13024579437497.97, 17311586209588.254, 10198424171148.922, 15217688772923.582, 9102288648085.338, 7645874373378.86, 13338188131539.021, 12392780041862.428, 20716236180207.734, 21594401591621.223, 7677078971368.314, 22343152168819.535, 7744644939469.718, 6788450069609.243, 8251749008938.094, 14564829297073.936, 16288147140483.59]\n",
      "[15609169411119.357, 7887391989634.732, 13674992333611.95, 7227435563193.106, 15845141447329.904, 9758220072639.781, 12032526440776.76, 14269611164111.732, 16466328345161.473, 9265203122414.865, 14314975153470.139, 23991676509343.75, 8723000703264.473, 9718266420847.44, 19675482198702.62, 7745236463878.294, 14524684166587.04, 8976991948341.062, 10767143236630.268, 7006878571871.584, 13547445411926.68, 12221677982583.234, 8537452695637.867, 12423839482399.438, 10992331957250.723, 10097120390505.36, 8472324052344.283, 7016751495305.944, 9015806324430.54, 8267968842464.514, 9291529800974.645, 15329359765164.574, 7666818021847.127, 16377415934971.414, 13713916668353.244, 11962551639043.648, 13199571747236.316, 12471369731724.9, 19507076597556.883, 16725307263609.809, 10630573127447.178, 12870529875663.916, 13024579437497.97, 17311586209588.254, 10198424171148.922, 15217688772923.582, 9102288648085.338, 7645874373378.86, 13338188131539.021, 12392780041862.428, 20716236180207.734, 21594401591621.223, 7677078971368.314, 22343152168819.535, 7744644939469.718, 6788450069609.243, 8251749008938.094, 14564829297073.936, 16288147140483.59, 23294960815680.266]\n"
     ]
    },
    {
     "name": "stdout",
     "output_type": "stream",
     "text": [
      "[15609169411119.357, 7887391989634.732, 13674992333611.95, 7227435563193.106, 15845141447329.904, 9758220072639.781, 12032526440776.76, 14269611164111.732, 16466328345161.473, 9265203122414.865, 14314975153470.139, 23991676509343.75, 8723000703264.473, 9718266420847.44, 19675482198702.62, 7745236463878.294, 14524684166587.04, 8976991948341.062, 10767143236630.268, 7006878571871.584, 13547445411926.68, 12221677982583.234, 8537452695637.867, 12423839482399.438, 10992331957250.723, 10097120390505.36, 8472324052344.283, 7016751495305.944, 9015806324430.54, 8267968842464.514, 9291529800974.645, 15329359765164.574, 7666818021847.127, 16377415934971.414, 13713916668353.244, 11962551639043.648, 13199571747236.316, 12471369731724.9, 19507076597556.883, 16725307263609.809, 10630573127447.178, 12870529875663.916, 13024579437497.97, 17311586209588.254, 10198424171148.922, 15217688772923.582, 9102288648085.338, 7645874373378.86, 13338188131539.021, 12392780041862.428, 20716236180207.734, 21594401591621.223, 7677078971368.314, 22343152168819.535, 7744644939469.718, 6788450069609.243, 8251749008938.094, 14564829297073.936, 16288147140483.59, 23294960815680.266, 15021583126583.297]\n",
      "[15609169411119.357, 7887391989634.732, 13674992333611.95, 7227435563193.106, 15845141447329.904, 9758220072639.781, 12032526440776.76, 14269611164111.732, 16466328345161.473, 9265203122414.865, 14314975153470.139, 23991676509343.75, 8723000703264.473, 9718266420847.44, 19675482198702.62, 7745236463878.294, 14524684166587.04, 8976991948341.062, 10767143236630.268, 7006878571871.584, 13547445411926.68, 12221677982583.234, 8537452695637.867, 12423839482399.438, 10992331957250.723, 10097120390505.36, 8472324052344.283, 7016751495305.944, 9015806324430.54, 8267968842464.514, 9291529800974.645, 15329359765164.574, 7666818021847.127, 16377415934971.414, 13713916668353.244, 11962551639043.648, 13199571747236.316, 12471369731724.9, 19507076597556.883, 16725307263609.809, 10630573127447.178, 12870529875663.916, 13024579437497.97, 17311586209588.254, 10198424171148.922, 15217688772923.582, 9102288648085.338, 7645874373378.86, 13338188131539.021, 12392780041862.428, 20716236180207.734, 21594401591621.223, 7677078971368.314, 22343152168819.535, 7744644939469.718, 6788450069609.243, 8251749008938.094, 14564829297073.936, 16288147140483.59, 23294960815680.266, 15021583126583.297, 14319078776451.504]\n",
      "[15609169411119.357, 7887391989634.732, 13674992333611.95, 7227435563193.106, 15845141447329.904, 9758220072639.781, 12032526440776.76, 14269611164111.732, 16466328345161.473, 9265203122414.865, 14314975153470.139, 23991676509343.75, 8723000703264.473, 9718266420847.44, 19675482198702.62, 7745236463878.294, 14524684166587.04, 8976991948341.062, 10767143236630.268, 7006878571871.584, 13547445411926.68, 12221677982583.234, 8537452695637.867, 12423839482399.438, 10992331957250.723, 10097120390505.36, 8472324052344.283, 7016751495305.944, 9015806324430.54, 8267968842464.514, 9291529800974.645, 15329359765164.574, 7666818021847.127, 16377415934971.414, 13713916668353.244, 11962551639043.648, 13199571747236.316, 12471369731724.9, 19507076597556.883, 16725307263609.809, 10630573127447.178, 12870529875663.916, 13024579437497.97, 17311586209588.254, 10198424171148.922, 15217688772923.582, 9102288648085.338, 7645874373378.86, 13338188131539.021, 12392780041862.428, 20716236180207.734, 21594401591621.223, 7677078971368.314, 22343152168819.535, 7744644939469.718, 6788450069609.243, 8251749008938.094, 14564829297073.936, 16288147140483.59, 23294960815680.266, 15021583126583.297, 14319078776451.504, 11321224096748.564]\n",
      "[15609169411119.357, 7887391989634.732, 13674992333611.95, 7227435563193.106, 15845141447329.904, 9758220072639.781, 12032526440776.76, 14269611164111.732, 16466328345161.473, 9265203122414.865, 14314975153470.139, 23991676509343.75, 8723000703264.473, 9718266420847.44, 19675482198702.62, 7745236463878.294, 14524684166587.04, 8976991948341.062, 10767143236630.268, 7006878571871.584, 13547445411926.68, 12221677982583.234, 8537452695637.867, 12423839482399.438, 10992331957250.723, 10097120390505.36, 8472324052344.283, 7016751495305.944, 9015806324430.54, 8267968842464.514, 9291529800974.645, 15329359765164.574, 7666818021847.127, 16377415934971.414, 13713916668353.244, 11962551639043.648, 13199571747236.316, 12471369731724.9, 19507076597556.883, 16725307263609.809, 10630573127447.178, 12870529875663.916, 13024579437497.97, 17311586209588.254, 10198424171148.922, 15217688772923.582, 9102288648085.338, 7645874373378.86, 13338188131539.021, 12392780041862.428, 20716236180207.734, 21594401591621.223, 7677078971368.314, 22343152168819.535, 7744644939469.718, 6788450069609.243, 8251749008938.094, 14564829297073.936, 16288147140483.59, 23294960815680.266, 15021583126583.297, 14319078776451.504, 11321224096748.564, 16248606233204.154]\n",
      "[15609169411119.357, 7887391989634.732, 13674992333611.95, 7227435563193.106, 15845141447329.904, 9758220072639.781, 12032526440776.76, 14269611164111.732, 16466328345161.473, 9265203122414.865, 14314975153470.139, 23991676509343.75, 8723000703264.473, 9718266420847.44, 19675482198702.62, 7745236463878.294, 14524684166587.04, 8976991948341.062, 10767143236630.268, 7006878571871.584, 13547445411926.68, 12221677982583.234, 8537452695637.867, 12423839482399.438, 10992331957250.723, 10097120390505.36, 8472324052344.283, 7016751495305.944, 9015806324430.54, 8267968842464.514, 9291529800974.645, 15329359765164.574, 7666818021847.127, 16377415934971.414, 13713916668353.244, 11962551639043.648, 13199571747236.316, 12471369731724.9, 19507076597556.883, 16725307263609.809, 10630573127447.178, 12870529875663.916, 13024579437497.97, 17311586209588.254, 10198424171148.922, 15217688772923.582, 9102288648085.338, 7645874373378.86, 13338188131539.021, 12392780041862.428, 20716236180207.734, 21594401591621.223, 7677078971368.314, 22343152168819.535, 7744644939469.718, 6788450069609.243, 8251749008938.094, 14564829297073.936, 16288147140483.59, 23294960815680.266, 15021583126583.297, 14319078776451.504, 11321224096748.564, 16248606233204.154, 24221860301372.984]\n",
      "[15609169411119.357, 7887391989634.732, 13674992333611.95, 7227435563193.106, 15845141447329.904, 9758220072639.781, 12032526440776.76, 14269611164111.732, 16466328345161.473, 9265203122414.865, 14314975153470.139, 23991676509343.75, 8723000703264.473, 9718266420847.44, 19675482198702.62, 7745236463878.294, 14524684166587.04, 8976991948341.062, 10767143236630.268, 7006878571871.584, 13547445411926.68, 12221677982583.234, 8537452695637.867, 12423839482399.438, 10992331957250.723, 10097120390505.36, 8472324052344.283, 7016751495305.944, 9015806324430.54, 8267968842464.514, 9291529800974.645, 15329359765164.574, 7666818021847.127, 16377415934971.414, 13713916668353.244, 11962551639043.648, 13199571747236.316, 12471369731724.9, 19507076597556.883, 16725307263609.809, 10630573127447.178, 12870529875663.916, 13024579437497.97, 17311586209588.254, 10198424171148.922, 15217688772923.582, 9102288648085.338, 7645874373378.86, 13338188131539.021, 12392780041862.428, 20716236180207.734, 21594401591621.223, 7677078971368.314, 22343152168819.535, 7744644939469.718, 6788450069609.243, 8251749008938.094, 14564829297073.936, 16288147140483.59, 23294960815680.266, 15021583126583.297, 14319078776451.504, 11321224096748.564, 16248606233204.154, 24221860301372.984, 25167367389132.043]\n",
      "[15609169411119.357, 7887391989634.732, 13674992333611.95, 7227435563193.106, 15845141447329.904, 9758220072639.781, 12032526440776.76, 14269611164111.732, 16466328345161.473, 9265203122414.865, 14314975153470.139, 23991676509343.75, 8723000703264.473, 9718266420847.44, 19675482198702.62, 7745236463878.294, 14524684166587.04, 8976991948341.062, 10767143236630.268, 7006878571871.584, 13547445411926.68, 12221677982583.234, 8537452695637.867, 12423839482399.438, 10992331957250.723, 10097120390505.36, 8472324052344.283, 7016751495305.944, 9015806324430.54, 8267968842464.514, 9291529800974.645, 15329359765164.574, 7666818021847.127, 16377415934971.414, 13713916668353.244, 11962551639043.648, 13199571747236.316, 12471369731724.9, 19507076597556.883, 16725307263609.809, 10630573127447.178, 12870529875663.916, 13024579437497.97, 17311586209588.254, 10198424171148.922, 15217688772923.582, 9102288648085.338, 7645874373378.86, 13338188131539.021, 12392780041862.428, 20716236180207.734, 21594401591621.223, 7677078971368.314, 22343152168819.535, 7744644939469.718, 6788450069609.243, 8251749008938.094, 14564829297073.936, 16288147140483.59, 23294960815680.266, 15021583126583.297, 14319078776451.504, 11321224096748.564, 16248606233204.154, 24221860301372.984, 25167367389132.043, 14030042642234.654]\n",
      "[15609169411119.357, 7887391989634.732, 13674992333611.95, 7227435563193.106, 15845141447329.904, 9758220072639.781, 12032526440776.76, 14269611164111.732, 16466328345161.473, 9265203122414.865, 14314975153470.139, 23991676509343.75, 8723000703264.473, 9718266420847.44, 19675482198702.62, 7745236463878.294, 14524684166587.04, 8976991948341.062, 10767143236630.268, 7006878571871.584, 13547445411926.68, 12221677982583.234, 8537452695637.867, 12423839482399.438, 10992331957250.723, 10097120390505.36, 8472324052344.283, 7016751495305.944, 9015806324430.54, 8267968842464.514, 9291529800974.645, 15329359765164.574, 7666818021847.127, 16377415934971.414, 13713916668353.244, 11962551639043.648, 13199571747236.316, 12471369731724.9, 19507076597556.883, 16725307263609.809, 10630573127447.178, 12870529875663.916, 13024579437497.97, 17311586209588.254, 10198424171148.922, 15217688772923.582, 9102288648085.338, 7645874373378.86, 13338188131539.021, 12392780041862.428, 20716236180207.734, 21594401591621.223, 7677078971368.314, 22343152168819.535, 7744644939469.718, 6788450069609.243, 8251749008938.094, 14564829297073.936, 16288147140483.59, 23294960815680.266, 15021583126583.297, 14319078776451.504, 11321224096748.564, 16248606233204.154, 24221860301372.984, 25167367389132.043, 14030042642234.654, 11746742836680.865]\n"
     ]
    },
    {
     "name": "stdout",
     "output_type": "stream",
     "text": [
      "[15609169411119.357, 7887391989634.732, 13674992333611.95, 7227435563193.106, 15845141447329.904, 9758220072639.781, 12032526440776.76, 14269611164111.732, 16466328345161.473, 9265203122414.865, 14314975153470.139, 23991676509343.75, 8723000703264.473, 9718266420847.44, 19675482198702.62, 7745236463878.294, 14524684166587.04, 8976991948341.062, 10767143236630.268, 7006878571871.584, 13547445411926.68, 12221677982583.234, 8537452695637.867, 12423839482399.438, 10992331957250.723, 10097120390505.36, 8472324052344.283, 7016751495305.944, 9015806324430.54, 8267968842464.514, 9291529800974.645, 15329359765164.574, 7666818021847.127, 16377415934971.414, 13713916668353.244, 11962551639043.648, 13199571747236.316, 12471369731724.9, 19507076597556.883, 16725307263609.809, 10630573127447.178, 12870529875663.916, 13024579437497.97, 17311586209588.254, 10198424171148.922, 15217688772923.582, 9102288648085.338, 7645874373378.86, 13338188131539.021, 12392780041862.428, 20716236180207.734, 21594401591621.223, 7677078971368.314, 22343152168819.535, 7744644939469.718, 6788450069609.243, 8251749008938.094, 14564829297073.936, 16288147140483.59, 23294960815680.266, 15021583126583.297, 14319078776451.504, 11321224096748.564, 16248606233204.154, 24221860301372.984, 25167367389132.043, 14030042642234.654, 11746742836680.865, 10147042843789.312]\n",
      "[15609169411119.357, 7887391989634.732, 13674992333611.95, 7227435563193.106, 15845141447329.904, 9758220072639.781, 12032526440776.76, 14269611164111.732, 16466328345161.473, 9265203122414.865, 14314975153470.139, 23991676509343.75, 8723000703264.473, 9718266420847.44, 19675482198702.62, 7745236463878.294, 14524684166587.04, 8976991948341.062, 10767143236630.268, 7006878571871.584, 13547445411926.68, 12221677982583.234, 8537452695637.867, 12423839482399.438, 10992331957250.723, 10097120390505.36, 8472324052344.283, 7016751495305.944, 9015806324430.54, 8267968842464.514, 9291529800974.645, 15329359765164.574, 7666818021847.127, 16377415934971.414, 13713916668353.244, 11962551639043.648, 13199571747236.316, 12471369731724.9, 19507076597556.883, 16725307263609.809, 10630573127447.178, 12870529875663.916, 13024579437497.97, 17311586209588.254, 10198424171148.922, 15217688772923.582, 9102288648085.338, 7645874373378.86, 13338188131539.021, 12392780041862.428, 20716236180207.734, 21594401591621.223, 7677078971368.314, 22343152168819.535, 7744644939469.718, 6788450069609.243, 8251749008938.094, 14564829297073.936, 16288147140483.59, 23294960815680.266, 15021583126583.297, 14319078776451.504, 11321224096748.564, 16248606233204.154, 24221860301372.984, 25167367389132.043, 14030042642234.654, 11746742836680.865, 10147042843789.312, 7592914189704.371]\n",
      "[15609169411119.357, 7887391989634.732, 13674992333611.95, 7227435563193.106, 15845141447329.904, 9758220072639.781, 12032526440776.76, 14269611164111.732, 16466328345161.473, 9265203122414.865, 14314975153470.139, 23991676509343.75, 8723000703264.473, 9718266420847.44, 19675482198702.62, 7745236463878.294, 14524684166587.04, 8976991948341.062, 10767143236630.268, 7006878571871.584, 13547445411926.68, 12221677982583.234, 8537452695637.867, 12423839482399.438, 10992331957250.723, 10097120390505.36, 8472324052344.283, 7016751495305.944, 9015806324430.54, 8267968842464.514, 9291529800974.645, 15329359765164.574, 7666818021847.127, 16377415934971.414, 13713916668353.244, 11962551639043.648, 13199571747236.316, 12471369731724.9, 19507076597556.883, 16725307263609.809, 10630573127447.178, 12870529875663.916, 13024579437497.97, 17311586209588.254, 10198424171148.922, 15217688772923.582, 9102288648085.338, 7645874373378.86, 13338188131539.021, 12392780041862.428, 20716236180207.734, 21594401591621.223, 7677078971368.314, 22343152168819.535, 7744644939469.718, 6788450069609.243, 8251749008938.094, 14564829297073.936, 16288147140483.59, 23294960815680.266, 15021583126583.297, 14319078776451.504, 11321224096748.564, 16248606233204.154, 24221860301372.984, 25167367389132.043, 14030042642234.654, 11746742836680.865, 10147042843789.312, 7592914189704.371, 9967542548095.646]\n",
      "[15609169411119.357, 7887391989634.732, 13674992333611.95, 7227435563193.106, 15845141447329.904, 9758220072639.781, 12032526440776.76, 14269611164111.732, 16466328345161.473, 9265203122414.865, 14314975153470.139, 23991676509343.75, 8723000703264.473, 9718266420847.44, 19675482198702.62, 7745236463878.294, 14524684166587.04, 8976991948341.062, 10767143236630.268, 7006878571871.584, 13547445411926.68, 12221677982583.234, 8537452695637.867, 12423839482399.438, 10992331957250.723, 10097120390505.36, 8472324052344.283, 7016751495305.944, 9015806324430.54, 8267968842464.514, 9291529800974.645, 15329359765164.574, 7666818021847.127, 16377415934971.414, 13713916668353.244, 11962551639043.648, 13199571747236.316, 12471369731724.9, 19507076597556.883, 16725307263609.809, 10630573127447.178, 12870529875663.916, 13024579437497.97, 17311586209588.254, 10198424171148.922, 15217688772923.582, 9102288648085.338, 7645874373378.86, 13338188131539.021, 12392780041862.428, 20716236180207.734, 21594401591621.223, 7677078971368.314, 22343152168819.535, 7744644939469.718, 6788450069609.243, 8251749008938.094, 14564829297073.936, 16288147140483.59, 23294960815680.266, 15021583126583.297, 14319078776451.504, 11321224096748.564, 16248606233204.154, 24221860301372.984, 25167367389132.043, 14030042642234.654, 11746742836680.865, 10147042843789.312, 7592914189704.371, 9967542548095.646, 10791282753665.973]\n",
      "[15609169411119.357, 7887391989634.732, 13674992333611.95, 7227435563193.106, 15845141447329.904, 9758220072639.781, 12032526440776.76, 14269611164111.732, 16466328345161.473, 9265203122414.865, 14314975153470.139, 23991676509343.75, 8723000703264.473, 9718266420847.44, 19675482198702.62, 7745236463878.294, 14524684166587.04, 8976991948341.062, 10767143236630.268, 7006878571871.584, 13547445411926.68, 12221677982583.234, 8537452695637.867, 12423839482399.438, 10992331957250.723, 10097120390505.36, 8472324052344.283, 7016751495305.944, 9015806324430.54, 8267968842464.514, 9291529800974.645, 15329359765164.574, 7666818021847.127, 16377415934971.414, 13713916668353.244, 11962551639043.648, 13199571747236.316, 12471369731724.9, 19507076597556.883, 16725307263609.809, 10630573127447.178, 12870529875663.916, 13024579437497.97, 17311586209588.254, 10198424171148.922, 15217688772923.582, 9102288648085.338, 7645874373378.86, 13338188131539.021, 12392780041862.428, 20716236180207.734, 21594401591621.223, 7677078971368.314, 22343152168819.535, 7744644939469.718, 6788450069609.243, 8251749008938.094, 14564829297073.936, 16288147140483.59, 23294960815680.266, 15021583126583.297, 14319078776451.504, 11321224096748.564, 16248606233204.154, 24221860301372.984, 25167367389132.043, 14030042642234.654, 11746742836680.865, 10147042843789.312, 7592914189704.371, 9967542548095.646, 10791282753665.973, 13171911955113.38]\n",
      "[15609169411119.357, 7887391989634.732, 13674992333611.95, 7227435563193.106, 15845141447329.904, 9758220072639.781, 12032526440776.76, 14269611164111.732, 16466328345161.473, 9265203122414.865, 14314975153470.139, 23991676509343.75, 8723000703264.473, 9718266420847.44, 19675482198702.62, 7745236463878.294, 14524684166587.04, 8976991948341.062, 10767143236630.268, 7006878571871.584, 13547445411926.68, 12221677982583.234, 8537452695637.867, 12423839482399.438, 10992331957250.723, 10097120390505.36, 8472324052344.283, 7016751495305.944, 9015806324430.54, 8267968842464.514, 9291529800974.645, 15329359765164.574, 7666818021847.127, 16377415934971.414, 13713916668353.244, 11962551639043.648, 13199571747236.316, 12471369731724.9, 19507076597556.883, 16725307263609.809, 10630573127447.178, 12870529875663.916, 13024579437497.97, 17311586209588.254, 10198424171148.922, 15217688772923.582, 9102288648085.338, 7645874373378.86, 13338188131539.021, 12392780041862.428, 20716236180207.734, 21594401591621.223, 7677078971368.314, 22343152168819.535, 7744644939469.718, 6788450069609.243, 8251749008938.094, 14564829297073.936, 16288147140483.59, 23294960815680.266, 15021583126583.297, 14319078776451.504, 11321224096748.564, 16248606233204.154, 24221860301372.984, 25167367389132.043, 14030042642234.654, 11746742836680.865, 10147042843789.312, 7592914189704.371, 9967542548095.646, 10791282753665.973, 13171911955113.38, 14146503808666.133]\n"
     ]
    },
    {
     "name": "stdout",
     "output_type": "stream",
     "text": [
      "[15609169411119.357, 7887391989634.732, 13674992333611.95, 7227435563193.106, 15845141447329.904, 9758220072639.781, 12032526440776.76, 14269611164111.732, 16466328345161.473, 9265203122414.865, 14314975153470.139, 23991676509343.75, 8723000703264.473, 9718266420847.44, 19675482198702.62, 7745236463878.294, 14524684166587.04, 8976991948341.062, 10767143236630.268, 7006878571871.584, 13547445411926.68, 12221677982583.234, 8537452695637.867, 12423839482399.438, 10992331957250.723, 10097120390505.36, 8472324052344.283, 7016751495305.944, 9015806324430.54, 8267968842464.514, 9291529800974.645, 15329359765164.574, 7666818021847.127, 16377415934971.414, 13713916668353.244, 11962551639043.648, 13199571747236.316, 12471369731724.9, 19507076597556.883, 16725307263609.809, 10630573127447.178, 12870529875663.916, 13024579437497.97, 17311586209588.254, 10198424171148.922, 15217688772923.582, 9102288648085.338, 7645874373378.86, 13338188131539.021, 12392780041862.428, 20716236180207.734, 21594401591621.223, 7677078971368.314, 22343152168819.535, 7744644939469.718, 6788450069609.243, 8251749008938.094, 14564829297073.936, 16288147140483.59, 23294960815680.266, 15021583126583.297, 14319078776451.504, 11321224096748.564, 16248606233204.154, 24221860301372.984, 25167367389132.043, 14030042642234.654, 11746742836680.865, 10147042843789.312, 7592914189704.371, 9967542548095.646, 10791282753665.973, 13171911955113.38, 14146503808666.133, 11370572261813.61]\n",
      "[15609169411119.357, 7887391989634.732, 13674992333611.95, 7227435563193.106, 15845141447329.904, 9758220072639.781, 12032526440776.76, 14269611164111.732, 16466328345161.473, 9265203122414.865, 14314975153470.139, 23991676509343.75, 8723000703264.473, 9718266420847.44, 19675482198702.62, 7745236463878.294, 14524684166587.04, 8976991948341.062, 10767143236630.268, 7006878571871.584, 13547445411926.68, 12221677982583.234, 8537452695637.867, 12423839482399.438, 10992331957250.723, 10097120390505.36, 8472324052344.283, 7016751495305.944, 9015806324430.54, 8267968842464.514, 9291529800974.645, 15329359765164.574, 7666818021847.127, 16377415934971.414, 13713916668353.244, 11962551639043.648, 13199571747236.316, 12471369731724.9, 19507076597556.883, 16725307263609.809, 10630573127447.178, 12870529875663.916, 13024579437497.97, 17311586209588.254, 10198424171148.922, 15217688772923.582, 9102288648085.338, 7645874373378.86, 13338188131539.021, 12392780041862.428, 20716236180207.734, 21594401591621.223, 7677078971368.314, 22343152168819.535, 7744644939469.718, 6788450069609.243, 8251749008938.094, 14564829297073.936, 16288147140483.59, 23294960815680.266, 15021583126583.297, 14319078776451.504, 11321224096748.564, 16248606233204.154, 24221860301372.984, 25167367389132.043, 14030042642234.654, 11746742836680.865, 10147042843789.312, 7592914189704.371, 9967542548095.646, 10791282753665.973, 13171911955113.38, 14146503808666.133, 11370572261813.61, 21608778920272.934]\n",
      "[15609169411119.357, 7887391989634.732, 13674992333611.95, 7227435563193.106, 15845141447329.904, 9758220072639.781, 12032526440776.76, 14269611164111.732, 16466328345161.473, 9265203122414.865, 14314975153470.139, 23991676509343.75, 8723000703264.473, 9718266420847.44, 19675482198702.62, 7745236463878.294, 14524684166587.04, 8976991948341.062, 10767143236630.268, 7006878571871.584, 13547445411926.68, 12221677982583.234, 8537452695637.867, 12423839482399.438, 10992331957250.723, 10097120390505.36, 8472324052344.283, 7016751495305.944, 9015806324430.54, 8267968842464.514, 9291529800974.645, 15329359765164.574, 7666818021847.127, 16377415934971.414, 13713916668353.244, 11962551639043.648, 13199571747236.316, 12471369731724.9, 19507076597556.883, 16725307263609.809, 10630573127447.178, 12870529875663.916, 13024579437497.97, 17311586209588.254, 10198424171148.922, 15217688772923.582, 9102288648085.338, 7645874373378.86, 13338188131539.021, 12392780041862.428, 20716236180207.734, 21594401591621.223, 7677078971368.314, 22343152168819.535, 7744644939469.718, 6788450069609.243, 8251749008938.094, 14564829297073.936, 16288147140483.59, 23294960815680.266, 15021583126583.297, 14319078776451.504, 11321224096748.564, 16248606233204.154, 24221860301372.984, 25167367389132.043, 14030042642234.654, 11746742836680.865, 10147042843789.312, 7592914189704.371, 9967542548095.646, 10791282753665.973, 13171911955113.38, 14146503808666.133, 11370572261813.61, 21608778920272.934, 23416620189191.008]\n",
      "[15609169411119.357, 7887391989634.732, 13674992333611.95, 7227435563193.106, 15845141447329.904, 9758220072639.781, 12032526440776.76, 14269611164111.732, 16466328345161.473, 9265203122414.865, 14314975153470.139, 23991676509343.75, 8723000703264.473, 9718266420847.44, 19675482198702.62, 7745236463878.294, 14524684166587.04, 8976991948341.062, 10767143236630.268, 7006878571871.584, 13547445411926.68, 12221677982583.234, 8537452695637.867, 12423839482399.438, 10992331957250.723, 10097120390505.36, 8472324052344.283, 7016751495305.944, 9015806324430.54, 8267968842464.514, 9291529800974.645, 15329359765164.574, 7666818021847.127, 16377415934971.414, 13713916668353.244, 11962551639043.648, 13199571747236.316, 12471369731724.9, 19507076597556.883, 16725307263609.809, 10630573127447.178, 12870529875663.916, 13024579437497.97, 17311586209588.254, 10198424171148.922, 15217688772923.582, 9102288648085.338, 7645874373378.86, 13338188131539.021, 12392780041862.428, 20716236180207.734, 21594401591621.223, 7677078971368.314, 22343152168819.535, 7744644939469.718, 6788450069609.243, 8251749008938.094, 14564829297073.936, 16288147140483.59, 23294960815680.266, 15021583126583.297, 14319078776451.504, 11321224096748.564, 16248606233204.154, 24221860301372.984, 25167367389132.043, 14030042642234.654, 11746742836680.865, 10147042843789.312, 7592914189704.371, 9967542548095.646, 10791282753665.973, 13171911955113.38, 14146503808666.133, 11370572261813.61, 21608778920272.934, 23416620189191.008, 12563647207066.312]\n",
      "[15609169411119.357, 7887391989634.732, 13674992333611.95, 7227435563193.106, 15845141447329.904, 9758220072639.781, 12032526440776.76, 14269611164111.732, 16466328345161.473, 9265203122414.865, 14314975153470.139, 23991676509343.75, 8723000703264.473, 9718266420847.44, 19675482198702.62, 7745236463878.294, 14524684166587.04, 8976991948341.062, 10767143236630.268, 7006878571871.584, 13547445411926.68, 12221677982583.234, 8537452695637.867, 12423839482399.438, 10992331957250.723, 10097120390505.36, 8472324052344.283, 7016751495305.944, 9015806324430.54, 8267968842464.514, 9291529800974.645, 15329359765164.574, 7666818021847.127, 16377415934971.414, 13713916668353.244, 11962551639043.648, 13199571747236.316, 12471369731724.9, 19507076597556.883, 16725307263609.809, 10630573127447.178, 12870529875663.916, 13024579437497.97, 17311586209588.254, 10198424171148.922, 15217688772923.582, 9102288648085.338, 7645874373378.86, 13338188131539.021, 12392780041862.428, 20716236180207.734, 21594401591621.223, 7677078971368.314, 22343152168819.535, 7744644939469.718, 6788450069609.243, 8251749008938.094, 14564829297073.936, 16288147140483.59, 23294960815680.266, 15021583126583.297, 14319078776451.504, 11321224096748.564, 16248606233204.154, 24221860301372.984, 25167367389132.043, 14030042642234.654, 11746742836680.865, 10147042843789.312, 7592914189704.371, 9967542548095.646, 10791282753665.973, 13171911955113.38, 14146503808666.133, 11370572261813.61, 21608778920272.934, 23416620189191.008, 12563647207066.312, 14147385926320.838]\n",
      "[15609169411119.357, 7887391989634.732, 13674992333611.95, 7227435563193.106, 15845141447329.904, 9758220072639.781, 12032526440776.76, 14269611164111.732, 16466328345161.473, 9265203122414.865, 14314975153470.139, 23991676509343.75, 8723000703264.473, 9718266420847.44, 19675482198702.62, 7745236463878.294, 14524684166587.04, 8976991948341.062, 10767143236630.268, 7006878571871.584, 13547445411926.68, 12221677982583.234, 8537452695637.867, 12423839482399.438, 10992331957250.723, 10097120390505.36, 8472324052344.283, 7016751495305.944, 9015806324430.54, 8267968842464.514, 9291529800974.645, 15329359765164.574, 7666818021847.127, 16377415934971.414, 13713916668353.244, 11962551639043.648, 13199571747236.316, 12471369731724.9, 19507076597556.883, 16725307263609.809, 10630573127447.178, 12870529875663.916, 13024579437497.97, 17311586209588.254, 10198424171148.922, 15217688772923.582, 9102288648085.338, 7645874373378.86, 13338188131539.021, 12392780041862.428, 20716236180207.734, 21594401591621.223, 7677078971368.314, 22343152168819.535, 7744644939469.718, 6788450069609.243, 8251749008938.094, 14564829297073.936, 16288147140483.59, 23294960815680.266, 15021583126583.297, 14319078776451.504, 11321224096748.564, 16248606233204.154, 24221860301372.984, 25167367389132.043, 14030042642234.654, 11746742836680.865, 10147042843789.312, 7592914189704.371, 9967542548095.646, 10791282753665.973, 13171911955113.38, 14146503808666.133, 11370572261813.61, 21608778920272.934, 23416620189191.008, 12563647207066.312, 14147385926320.838, 14908670140246.297]\n",
      "[15609169411119.357, 7887391989634.732, 13674992333611.95, 7227435563193.106, 15845141447329.904, 9758220072639.781, 12032526440776.76, 14269611164111.732, 16466328345161.473, 9265203122414.865, 14314975153470.139, 23991676509343.75, 8723000703264.473, 9718266420847.44, 19675482198702.62, 7745236463878.294, 14524684166587.04, 8976991948341.062, 10767143236630.268, 7006878571871.584, 13547445411926.68, 12221677982583.234, 8537452695637.867, 12423839482399.438, 10992331957250.723, 10097120390505.36, 8472324052344.283, 7016751495305.944, 9015806324430.54, 8267968842464.514, 9291529800974.645, 15329359765164.574, 7666818021847.127, 16377415934971.414, 13713916668353.244, 11962551639043.648, 13199571747236.316, 12471369731724.9, 19507076597556.883, 16725307263609.809, 10630573127447.178, 12870529875663.916, 13024579437497.97, 17311586209588.254, 10198424171148.922, 15217688772923.582, 9102288648085.338, 7645874373378.86, 13338188131539.021, 12392780041862.428, 20716236180207.734, 21594401591621.223, 7677078971368.314, 22343152168819.535, 7744644939469.718, 6788450069609.243, 8251749008938.094, 14564829297073.936, 16288147140483.59, 23294960815680.266, 15021583126583.297, 14319078776451.504, 11321224096748.564, 16248606233204.154, 24221860301372.984, 25167367389132.043, 14030042642234.654, 11746742836680.865, 10147042843789.312, 7592914189704.371, 9967542548095.646, 10791282753665.973, 13171911955113.38, 14146503808666.133, 11370572261813.61, 21608778920272.934, 23416620189191.008, 12563647207066.312, 14147385926320.838, 14908670140246.297, 7810322766850.521]\n"
     ]
    },
    {
     "name": "stdout",
     "output_type": "stream",
     "text": [
      "[15609169411119.357, 7887391989634.732, 13674992333611.95, 7227435563193.106, 15845141447329.904, 9758220072639.781, 12032526440776.76, 14269611164111.732, 16466328345161.473, 9265203122414.865, 14314975153470.139, 23991676509343.75, 8723000703264.473, 9718266420847.44, 19675482198702.62, 7745236463878.294, 14524684166587.04, 8976991948341.062, 10767143236630.268, 7006878571871.584, 13547445411926.68, 12221677982583.234, 8537452695637.867, 12423839482399.438, 10992331957250.723, 10097120390505.36, 8472324052344.283, 7016751495305.944, 9015806324430.54, 8267968842464.514, 9291529800974.645, 15329359765164.574, 7666818021847.127, 16377415934971.414, 13713916668353.244, 11962551639043.648, 13199571747236.316, 12471369731724.9, 19507076597556.883, 16725307263609.809, 10630573127447.178, 12870529875663.916, 13024579437497.97, 17311586209588.254, 10198424171148.922, 15217688772923.582, 9102288648085.338, 7645874373378.86, 13338188131539.021, 12392780041862.428, 20716236180207.734, 21594401591621.223, 7677078971368.314, 22343152168819.535, 7744644939469.718, 6788450069609.243, 8251749008938.094, 14564829297073.936, 16288147140483.59, 23294960815680.266, 15021583126583.297, 14319078776451.504, 11321224096748.564, 16248606233204.154, 24221860301372.984, 25167367389132.043, 14030042642234.654, 11746742836680.865, 10147042843789.312, 7592914189704.371, 9967542548095.646, 10791282753665.973, 13171911955113.38, 14146503808666.133, 11370572261813.61, 21608778920272.934, 23416620189191.008, 12563647207066.312, 14147385926320.838, 14908670140246.297, 7810322766850.521, 8335021831892.959]\n",
      "[15609169411119.357, 7887391989634.732, 13674992333611.95, 7227435563193.106, 15845141447329.904, 9758220072639.781, 12032526440776.76, 14269611164111.732, 16466328345161.473, 9265203122414.865, 14314975153470.139, 23991676509343.75, 8723000703264.473, 9718266420847.44, 19675482198702.62, 7745236463878.294, 14524684166587.04, 8976991948341.062, 10767143236630.268, 7006878571871.584, 13547445411926.68, 12221677982583.234, 8537452695637.867, 12423839482399.438, 10992331957250.723, 10097120390505.36, 8472324052344.283, 7016751495305.944, 9015806324430.54, 8267968842464.514, 9291529800974.645, 15329359765164.574, 7666818021847.127, 16377415934971.414, 13713916668353.244, 11962551639043.648, 13199571747236.316, 12471369731724.9, 19507076597556.883, 16725307263609.809, 10630573127447.178, 12870529875663.916, 13024579437497.97, 17311586209588.254, 10198424171148.922, 15217688772923.582, 9102288648085.338, 7645874373378.86, 13338188131539.021, 12392780041862.428, 20716236180207.734, 21594401591621.223, 7677078971368.314, 22343152168819.535, 7744644939469.718, 6788450069609.243, 8251749008938.094, 14564829297073.936, 16288147140483.59, 23294960815680.266, 15021583126583.297, 14319078776451.504, 11321224096748.564, 16248606233204.154, 24221860301372.984, 25167367389132.043, 14030042642234.654, 11746742836680.865, 10147042843789.312, 7592914189704.371, 9967542548095.646, 10791282753665.973, 13171911955113.38, 14146503808666.133, 11370572261813.61, 21608778920272.934, 23416620189191.008, 12563647207066.312, 14147385926320.838, 14908670140246.297, 7810322766850.521, 8335021831892.959, 18990094403009.336]\n",
      "[15609169411119.357, 7887391989634.732, 13674992333611.95, 7227435563193.106, 15845141447329.904, 9758220072639.781, 12032526440776.76, 14269611164111.732, 16466328345161.473, 9265203122414.865, 14314975153470.139, 23991676509343.75, 8723000703264.473, 9718266420847.44, 19675482198702.62, 7745236463878.294, 14524684166587.04, 8976991948341.062, 10767143236630.268, 7006878571871.584, 13547445411926.68, 12221677982583.234, 8537452695637.867, 12423839482399.438, 10992331957250.723, 10097120390505.36, 8472324052344.283, 7016751495305.944, 9015806324430.54, 8267968842464.514, 9291529800974.645, 15329359765164.574, 7666818021847.127, 16377415934971.414, 13713916668353.244, 11962551639043.648, 13199571747236.316, 12471369731724.9, 19507076597556.883, 16725307263609.809, 10630573127447.178, 12870529875663.916, 13024579437497.97, 17311586209588.254, 10198424171148.922, 15217688772923.582, 9102288648085.338, 7645874373378.86, 13338188131539.021, 12392780041862.428, 20716236180207.734, 21594401591621.223, 7677078971368.314, 22343152168819.535, 7744644939469.718, 6788450069609.243, 8251749008938.094, 14564829297073.936, 16288147140483.59, 23294960815680.266, 15021583126583.297, 14319078776451.504, 11321224096748.564, 16248606233204.154, 24221860301372.984, 25167367389132.043, 14030042642234.654, 11746742836680.865, 10147042843789.312, 7592914189704.371, 9967542548095.646, 10791282753665.973, 13171911955113.38, 14146503808666.133, 11370572261813.61, 21608778920272.934, 23416620189191.008, 12563647207066.312, 14147385926320.838, 14908670140246.297, 7810322766850.521, 8335021831892.959, 18990094403009.336, 13455647687584.348]\n",
      "[15609169411119.357, 7887391989634.732, 13674992333611.95, 7227435563193.106, 15845141447329.904, 9758220072639.781, 12032526440776.76, 14269611164111.732, 16466328345161.473, 9265203122414.865, 14314975153470.139, 23991676509343.75, 8723000703264.473, 9718266420847.44, 19675482198702.62, 7745236463878.294, 14524684166587.04, 8976991948341.062, 10767143236630.268, 7006878571871.584, 13547445411926.68, 12221677982583.234, 8537452695637.867, 12423839482399.438, 10992331957250.723, 10097120390505.36, 8472324052344.283, 7016751495305.944, 9015806324430.54, 8267968842464.514, 9291529800974.645, 15329359765164.574, 7666818021847.127, 16377415934971.414, 13713916668353.244, 11962551639043.648, 13199571747236.316, 12471369731724.9, 19507076597556.883, 16725307263609.809, 10630573127447.178, 12870529875663.916, 13024579437497.97, 17311586209588.254, 10198424171148.922, 15217688772923.582, 9102288648085.338, 7645874373378.86, 13338188131539.021, 12392780041862.428, 20716236180207.734, 21594401591621.223, 7677078971368.314, 22343152168819.535, 7744644939469.718, 6788450069609.243, 8251749008938.094, 14564829297073.936, 16288147140483.59, 23294960815680.266, 15021583126583.297, 14319078776451.504, 11321224096748.564, 16248606233204.154, 24221860301372.984, 25167367389132.043, 14030042642234.654, 11746742836680.865, 10147042843789.312, 7592914189704.371, 9967542548095.646, 10791282753665.973, 13171911955113.38, 14146503808666.133, 11370572261813.61, 21608778920272.934, 23416620189191.008, 12563647207066.312, 14147385926320.838, 14908670140246.297, 7810322766850.521, 8335021831892.959, 18990094403009.336, 13455647687584.348, 8375347578072.271]\n",
      "[15609169411119.357, 7887391989634.732, 13674992333611.95, 7227435563193.106, 15845141447329.904, 9758220072639.781, 12032526440776.76, 14269611164111.732, 16466328345161.473, 9265203122414.865, 14314975153470.139, 23991676509343.75, 8723000703264.473, 9718266420847.44, 19675482198702.62, 7745236463878.294, 14524684166587.04, 8976991948341.062, 10767143236630.268, 7006878571871.584, 13547445411926.68, 12221677982583.234, 8537452695637.867, 12423839482399.438, 10992331957250.723, 10097120390505.36, 8472324052344.283, 7016751495305.944, 9015806324430.54, 8267968842464.514, 9291529800974.645, 15329359765164.574, 7666818021847.127, 16377415934971.414, 13713916668353.244, 11962551639043.648, 13199571747236.316, 12471369731724.9, 19507076597556.883, 16725307263609.809, 10630573127447.178, 12870529875663.916, 13024579437497.97, 17311586209588.254, 10198424171148.922, 15217688772923.582, 9102288648085.338, 7645874373378.86, 13338188131539.021, 12392780041862.428, 20716236180207.734, 21594401591621.223, 7677078971368.314, 22343152168819.535, 7744644939469.718, 6788450069609.243, 8251749008938.094, 14564829297073.936, 16288147140483.59, 23294960815680.266, 15021583126583.297, 14319078776451.504, 11321224096748.564, 16248606233204.154, 24221860301372.984, 25167367389132.043, 14030042642234.654, 11746742836680.865, 10147042843789.312, 7592914189704.371, 9967542548095.646, 10791282753665.973, 13171911955113.38, 14146503808666.133, 11370572261813.61, 21608778920272.934, 23416620189191.008, 12563647207066.312, 14147385926320.838, 14908670140246.297, 7810322766850.521, 8335021831892.959, 18990094403009.336, 13455647687584.348, 8375347578072.271, 10617852708939.494]\n",
      "[15609169411119.357, 7887391989634.732, 13674992333611.95, 7227435563193.106, 15845141447329.904, 9758220072639.781, 12032526440776.76, 14269611164111.732, 16466328345161.473, 9265203122414.865, 14314975153470.139, 23991676509343.75, 8723000703264.473, 9718266420847.44, 19675482198702.62, 7745236463878.294, 14524684166587.04, 8976991948341.062, 10767143236630.268, 7006878571871.584, 13547445411926.68, 12221677982583.234, 8537452695637.867, 12423839482399.438, 10992331957250.723, 10097120390505.36, 8472324052344.283, 7016751495305.944, 9015806324430.54, 8267968842464.514, 9291529800974.645, 15329359765164.574, 7666818021847.127, 16377415934971.414, 13713916668353.244, 11962551639043.648, 13199571747236.316, 12471369731724.9, 19507076597556.883, 16725307263609.809, 10630573127447.178, 12870529875663.916, 13024579437497.97, 17311586209588.254, 10198424171148.922, 15217688772923.582, 9102288648085.338, 7645874373378.86, 13338188131539.021, 12392780041862.428, 20716236180207.734, 21594401591621.223, 7677078971368.314, 22343152168819.535, 7744644939469.718, 6788450069609.243, 8251749008938.094, 14564829297073.936, 16288147140483.59, 23294960815680.266, 15021583126583.297, 14319078776451.504, 11321224096748.564, 16248606233204.154, 24221860301372.984, 25167367389132.043, 14030042642234.654, 11746742836680.865, 10147042843789.312, 7592914189704.371, 9967542548095.646, 10791282753665.973, 13171911955113.38, 14146503808666.133, 11370572261813.61, 21608778920272.934, 23416620189191.008, 12563647207066.312, 14147385926320.838, 14908670140246.297, 7810322766850.521, 8335021831892.959, 18990094403009.336, 13455647687584.348, 8375347578072.271, 10617852708939.494, 10635213903303.879]\n"
     ]
    },
    {
     "name": "stdout",
     "output_type": "stream",
     "text": [
      "[15609169411119.357, 7887391989634.732, 13674992333611.95, 7227435563193.106, 15845141447329.904, 9758220072639.781, 12032526440776.76, 14269611164111.732, 16466328345161.473, 9265203122414.865, 14314975153470.139, 23991676509343.75, 8723000703264.473, 9718266420847.44, 19675482198702.62, 7745236463878.294, 14524684166587.04, 8976991948341.062, 10767143236630.268, 7006878571871.584, 13547445411926.68, 12221677982583.234, 8537452695637.867, 12423839482399.438, 10992331957250.723, 10097120390505.36, 8472324052344.283, 7016751495305.944, 9015806324430.54, 8267968842464.514, 9291529800974.645, 15329359765164.574, 7666818021847.127, 16377415934971.414, 13713916668353.244, 11962551639043.648, 13199571747236.316, 12471369731724.9, 19507076597556.883, 16725307263609.809, 10630573127447.178, 12870529875663.916, 13024579437497.97, 17311586209588.254, 10198424171148.922, 15217688772923.582, 9102288648085.338, 7645874373378.86, 13338188131539.021, 12392780041862.428, 20716236180207.734, 21594401591621.223, 7677078971368.314, 22343152168819.535, 7744644939469.718, 6788450069609.243, 8251749008938.094, 14564829297073.936, 16288147140483.59, 23294960815680.266, 15021583126583.297, 14319078776451.504, 11321224096748.564, 16248606233204.154, 24221860301372.984, 25167367389132.043, 14030042642234.654, 11746742836680.865, 10147042843789.312, 7592914189704.371, 9967542548095.646, 10791282753665.973, 13171911955113.38, 14146503808666.133, 11370572261813.61, 21608778920272.934, 23416620189191.008, 12563647207066.312, 14147385926320.838, 14908670140246.297, 7810322766850.521, 8335021831892.959, 18990094403009.336, 13455647687584.348, 8375347578072.271, 10617852708939.494, 10635213903303.879, 16783308681251.2]\n",
      "[15609169411119.357, 7887391989634.732, 13674992333611.95, 7227435563193.106, 15845141447329.904, 9758220072639.781, 12032526440776.76, 14269611164111.732, 16466328345161.473, 9265203122414.865, 14314975153470.139, 23991676509343.75, 8723000703264.473, 9718266420847.44, 19675482198702.62, 7745236463878.294, 14524684166587.04, 8976991948341.062, 10767143236630.268, 7006878571871.584, 13547445411926.68, 12221677982583.234, 8537452695637.867, 12423839482399.438, 10992331957250.723, 10097120390505.36, 8472324052344.283, 7016751495305.944, 9015806324430.54, 8267968842464.514, 9291529800974.645, 15329359765164.574, 7666818021847.127, 16377415934971.414, 13713916668353.244, 11962551639043.648, 13199571747236.316, 12471369731724.9, 19507076597556.883, 16725307263609.809, 10630573127447.178, 12870529875663.916, 13024579437497.97, 17311586209588.254, 10198424171148.922, 15217688772923.582, 9102288648085.338, 7645874373378.86, 13338188131539.021, 12392780041862.428, 20716236180207.734, 21594401591621.223, 7677078971368.314, 22343152168819.535, 7744644939469.718, 6788450069609.243, 8251749008938.094, 14564829297073.936, 16288147140483.59, 23294960815680.266, 15021583126583.297, 14319078776451.504, 11321224096748.564, 16248606233204.154, 24221860301372.984, 25167367389132.043, 14030042642234.654, 11746742836680.865, 10147042843789.312, 7592914189704.371, 9967542548095.646, 10791282753665.973, 13171911955113.38, 14146503808666.133, 11370572261813.61, 21608778920272.934, 23416620189191.008, 12563647207066.312, 14147385926320.838, 14908670140246.297, 7810322766850.521, 8335021831892.959, 18990094403009.336, 13455647687584.348, 8375347578072.271, 10617852708939.494, 10635213903303.879, 16783308681251.2, 15388728663211.154]\n",
      "[15609169411119.357, 7887391989634.732, 13674992333611.95, 7227435563193.106, 15845141447329.904, 9758220072639.781, 12032526440776.76, 14269611164111.732, 16466328345161.473, 9265203122414.865, 14314975153470.139, 23991676509343.75, 8723000703264.473, 9718266420847.44, 19675482198702.62, 7745236463878.294, 14524684166587.04, 8976991948341.062, 10767143236630.268, 7006878571871.584, 13547445411926.68, 12221677982583.234, 8537452695637.867, 12423839482399.438, 10992331957250.723, 10097120390505.36, 8472324052344.283, 7016751495305.944, 9015806324430.54, 8267968842464.514, 9291529800974.645, 15329359765164.574, 7666818021847.127, 16377415934971.414, 13713916668353.244, 11962551639043.648, 13199571747236.316, 12471369731724.9, 19507076597556.883, 16725307263609.809, 10630573127447.178, 12870529875663.916, 13024579437497.97, 17311586209588.254, 10198424171148.922, 15217688772923.582, 9102288648085.338, 7645874373378.86, 13338188131539.021, 12392780041862.428, 20716236180207.734, 21594401591621.223, 7677078971368.314, 22343152168819.535, 7744644939469.718, 6788450069609.243, 8251749008938.094, 14564829297073.936, 16288147140483.59, 23294960815680.266, 15021583126583.297, 14319078776451.504, 11321224096748.564, 16248606233204.154, 24221860301372.984, 25167367389132.043, 14030042642234.654, 11746742836680.865, 10147042843789.312, 7592914189704.371, 9967542548095.646, 10791282753665.973, 13171911955113.38, 14146503808666.133, 11370572261813.61, 21608778920272.934, 23416620189191.008, 12563647207066.312, 14147385926320.838, 14908670140246.297, 7810322766850.521, 8335021831892.959, 18990094403009.336, 13455647687584.348, 8375347578072.271, 10617852708939.494, 10635213903303.879, 16783308681251.2, 15388728663211.154, 10687388147333.9]\n",
      "[15609169411119.357, 7887391989634.732, 13674992333611.95, 7227435563193.106, 15845141447329.904, 9758220072639.781, 12032526440776.76, 14269611164111.732, 16466328345161.473, 9265203122414.865, 14314975153470.139, 23991676509343.75, 8723000703264.473, 9718266420847.44, 19675482198702.62, 7745236463878.294, 14524684166587.04, 8976991948341.062, 10767143236630.268, 7006878571871.584, 13547445411926.68, 12221677982583.234, 8537452695637.867, 12423839482399.438, 10992331957250.723, 10097120390505.36, 8472324052344.283, 7016751495305.944, 9015806324430.54, 8267968842464.514, 9291529800974.645, 15329359765164.574, 7666818021847.127, 16377415934971.414, 13713916668353.244, 11962551639043.648, 13199571747236.316, 12471369731724.9, 19507076597556.883, 16725307263609.809, 10630573127447.178, 12870529875663.916, 13024579437497.97, 17311586209588.254, 10198424171148.922, 15217688772923.582, 9102288648085.338, 7645874373378.86, 13338188131539.021, 12392780041862.428, 20716236180207.734, 21594401591621.223, 7677078971368.314, 22343152168819.535, 7744644939469.718, 6788450069609.243, 8251749008938.094, 14564829297073.936, 16288147140483.59, 23294960815680.266, 15021583126583.297, 14319078776451.504, 11321224096748.564, 16248606233204.154, 24221860301372.984, 25167367389132.043, 14030042642234.654, 11746742836680.865, 10147042843789.312, 7592914189704.371, 9967542548095.646, 10791282753665.973, 13171911955113.38, 14146503808666.133, 11370572261813.61, 21608778920272.934, 23416620189191.008, 12563647207066.312, 14147385926320.838, 14908670140246.297, 7810322766850.521, 8335021831892.959, 18990094403009.336, 13455647687584.348, 8375347578072.271, 10617852708939.494, 10635213903303.879, 16783308681251.2, 15388728663211.154, 10687388147333.9, 10856642019563.549]\n",
      "[15609169411119.357, 7887391989634.732, 13674992333611.95, 7227435563193.106, 15845141447329.904, 9758220072639.781, 12032526440776.76, 14269611164111.732, 16466328345161.473, 9265203122414.865, 14314975153470.139, 23991676509343.75, 8723000703264.473, 9718266420847.44, 19675482198702.62, 7745236463878.294, 14524684166587.04, 8976991948341.062, 10767143236630.268, 7006878571871.584, 13547445411926.68, 12221677982583.234, 8537452695637.867, 12423839482399.438, 10992331957250.723, 10097120390505.36, 8472324052344.283, 7016751495305.944, 9015806324430.54, 8267968842464.514, 9291529800974.645, 15329359765164.574, 7666818021847.127, 16377415934971.414, 13713916668353.244, 11962551639043.648, 13199571747236.316, 12471369731724.9, 19507076597556.883, 16725307263609.809, 10630573127447.178, 12870529875663.916, 13024579437497.97, 17311586209588.254, 10198424171148.922, 15217688772923.582, 9102288648085.338, 7645874373378.86, 13338188131539.021, 12392780041862.428, 20716236180207.734, 21594401591621.223, 7677078971368.314, 22343152168819.535, 7744644939469.718, 6788450069609.243, 8251749008938.094, 14564829297073.936, 16288147140483.59, 23294960815680.266, 15021583126583.297, 14319078776451.504, 11321224096748.564, 16248606233204.154, 24221860301372.984, 25167367389132.043, 14030042642234.654, 11746742836680.865, 10147042843789.312, 7592914189704.371, 9967542548095.646, 10791282753665.973, 13171911955113.38, 14146503808666.133, 11370572261813.61, 21608778920272.934, 23416620189191.008, 12563647207066.312, 14147385926320.838, 14908670140246.297, 7810322766850.521, 8335021831892.959, 18990094403009.336, 13455647687584.348, 8375347578072.271, 10617852708939.494, 10635213903303.879, 16783308681251.2, 15388728663211.154, 10687388147333.9, 10856642019563.549, 12219040150967.195]\n",
      "[15609169411119.357, 7887391989634.732, 13674992333611.95, 7227435563193.106, 15845141447329.904, 9758220072639.781, 12032526440776.76, 14269611164111.732, 16466328345161.473, 9265203122414.865, 14314975153470.139, 23991676509343.75, 8723000703264.473, 9718266420847.44, 19675482198702.62, 7745236463878.294, 14524684166587.04, 8976991948341.062, 10767143236630.268, 7006878571871.584, 13547445411926.68, 12221677982583.234, 8537452695637.867, 12423839482399.438, 10992331957250.723, 10097120390505.36, 8472324052344.283, 7016751495305.944, 9015806324430.54, 8267968842464.514, 9291529800974.645, 15329359765164.574, 7666818021847.127, 16377415934971.414, 13713916668353.244, 11962551639043.648, 13199571747236.316, 12471369731724.9, 19507076597556.883, 16725307263609.809, 10630573127447.178, 12870529875663.916, 13024579437497.97, 17311586209588.254, 10198424171148.922, 15217688772923.582, 9102288648085.338, 7645874373378.86, 13338188131539.021, 12392780041862.428, 20716236180207.734, 21594401591621.223, 7677078971368.314, 22343152168819.535, 7744644939469.718, 6788450069609.243, 8251749008938.094, 14564829297073.936, 16288147140483.59, 23294960815680.266, 15021583126583.297, 14319078776451.504, 11321224096748.564, 16248606233204.154, 24221860301372.984, 25167367389132.043, 14030042642234.654, 11746742836680.865, 10147042843789.312, 7592914189704.371, 9967542548095.646, 10791282753665.973, 13171911955113.38, 14146503808666.133, 11370572261813.61, 21608778920272.934, 23416620189191.008, 12563647207066.312, 14147385926320.838, 14908670140246.297, 7810322766850.521, 8335021831892.959, 18990094403009.336, 13455647687584.348, 8375347578072.271, 10617852708939.494, 10635213903303.879, 16783308681251.2, 15388728663211.154, 10687388147333.9, 10856642019563.549, 12219040150967.195, 16539787381173.219]\n"
     ]
    },
    {
     "name": "stdout",
     "output_type": "stream",
     "text": [
      "[15609169411119.357, 7887391989634.732, 13674992333611.95, 7227435563193.106, 15845141447329.904, 9758220072639.781, 12032526440776.76, 14269611164111.732, 16466328345161.473, 9265203122414.865, 14314975153470.139, 23991676509343.75, 8723000703264.473, 9718266420847.44, 19675482198702.62, 7745236463878.294, 14524684166587.04, 8976991948341.062, 10767143236630.268, 7006878571871.584, 13547445411926.68, 12221677982583.234, 8537452695637.867, 12423839482399.438, 10992331957250.723, 10097120390505.36, 8472324052344.283, 7016751495305.944, 9015806324430.54, 8267968842464.514, 9291529800974.645, 15329359765164.574, 7666818021847.127, 16377415934971.414, 13713916668353.244, 11962551639043.648, 13199571747236.316, 12471369731724.9, 19507076597556.883, 16725307263609.809, 10630573127447.178, 12870529875663.916, 13024579437497.97, 17311586209588.254, 10198424171148.922, 15217688772923.582, 9102288648085.338, 7645874373378.86, 13338188131539.021, 12392780041862.428, 20716236180207.734, 21594401591621.223, 7677078971368.314, 22343152168819.535, 7744644939469.718, 6788450069609.243, 8251749008938.094, 14564829297073.936, 16288147140483.59, 23294960815680.266, 15021583126583.297, 14319078776451.504, 11321224096748.564, 16248606233204.154, 24221860301372.984, 25167367389132.043, 14030042642234.654, 11746742836680.865, 10147042843789.312, 7592914189704.371, 9967542548095.646, 10791282753665.973, 13171911955113.38, 14146503808666.133, 11370572261813.61, 21608778920272.934, 23416620189191.008, 12563647207066.312, 14147385926320.838, 14908670140246.297, 7810322766850.521, 8335021831892.959, 18990094403009.336, 13455647687584.348, 8375347578072.271, 10617852708939.494, 10635213903303.879, 16783308681251.2, 15388728663211.154, 10687388147333.9, 10856642019563.549, 12219040150967.195, 16539787381173.219, 10603024027914.174]\n",
      "[15609169411119.357, 7887391989634.732, 13674992333611.95, 7227435563193.106, 15845141447329.904, 9758220072639.781, 12032526440776.76, 14269611164111.732, 16466328345161.473, 9265203122414.865, 14314975153470.139, 23991676509343.75, 8723000703264.473, 9718266420847.44, 19675482198702.62, 7745236463878.294, 14524684166587.04, 8976991948341.062, 10767143236630.268, 7006878571871.584, 13547445411926.68, 12221677982583.234, 8537452695637.867, 12423839482399.438, 10992331957250.723, 10097120390505.36, 8472324052344.283, 7016751495305.944, 9015806324430.54, 8267968842464.514, 9291529800974.645, 15329359765164.574, 7666818021847.127, 16377415934971.414, 13713916668353.244, 11962551639043.648, 13199571747236.316, 12471369731724.9, 19507076597556.883, 16725307263609.809, 10630573127447.178, 12870529875663.916, 13024579437497.97, 17311586209588.254, 10198424171148.922, 15217688772923.582, 9102288648085.338, 7645874373378.86, 13338188131539.021, 12392780041862.428, 20716236180207.734, 21594401591621.223, 7677078971368.314, 22343152168819.535, 7744644939469.718, 6788450069609.243, 8251749008938.094, 14564829297073.936, 16288147140483.59, 23294960815680.266, 15021583126583.297, 14319078776451.504, 11321224096748.564, 16248606233204.154, 24221860301372.984, 25167367389132.043, 14030042642234.654, 11746742836680.865, 10147042843789.312, 7592914189704.371, 9967542548095.646, 10791282753665.973, 13171911955113.38, 14146503808666.133, 11370572261813.61, 21608778920272.934, 23416620189191.008, 12563647207066.312, 14147385926320.838, 14908670140246.297, 7810322766850.521, 8335021831892.959, 18990094403009.336, 13455647687584.348, 8375347578072.271, 10617852708939.494, 10635213903303.879, 16783308681251.2, 15388728663211.154, 10687388147333.9, 10856642019563.549, 12219040150967.195, 16539787381173.219, 10603024027914.174, 21530664712350.715]\n",
      "[15609169411119.357, 7887391989634.732, 13674992333611.95, 7227435563193.106, 15845141447329.904, 9758220072639.781, 12032526440776.76, 14269611164111.732, 16466328345161.473, 9265203122414.865, 14314975153470.139, 23991676509343.75, 8723000703264.473, 9718266420847.44, 19675482198702.62, 7745236463878.294, 14524684166587.04, 8976991948341.062, 10767143236630.268, 7006878571871.584, 13547445411926.68, 12221677982583.234, 8537452695637.867, 12423839482399.438, 10992331957250.723, 10097120390505.36, 8472324052344.283, 7016751495305.944, 9015806324430.54, 8267968842464.514, 9291529800974.645, 15329359765164.574, 7666818021847.127, 16377415934971.414, 13713916668353.244, 11962551639043.648, 13199571747236.316, 12471369731724.9, 19507076597556.883, 16725307263609.809, 10630573127447.178, 12870529875663.916, 13024579437497.97, 17311586209588.254, 10198424171148.922, 15217688772923.582, 9102288648085.338, 7645874373378.86, 13338188131539.021, 12392780041862.428, 20716236180207.734, 21594401591621.223, 7677078971368.314, 22343152168819.535, 7744644939469.718, 6788450069609.243, 8251749008938.094, 14564829297073.936, 16288147140483.59, 23294960815680.266, 15021583126583.297, 14319078776451.504, 11321224096748.564, 16248606233204.154, 24221860301372.984, 25167367389132.043, 14030042642234.654, 11746742836680.865, 10147042843789.312, 7592914189704.371, 9967542548095.646, 10791282753665.973, 13171911955113.38, 14146503808666.133, 11370572261813.61, 21608778920272.934, 23416620189191.008, 12563647207066.312, 14147385926320.838, 14908670140246.297, 7810322766850.521, 8335021831892.959, 18990094403009.336, 13455647687584.348, 8375347578072.271, 10617852708939.494, 10635213903303.879, 16783308681251.2, 15388728663211.154, 10687388147333.9, 10856642019563.549, 12219040150967.195, 16539787381173.219, 10603024027914.174, 21530664712350.715, 10771253878082.719]\n",
      "[15609169411119.357, 7887391989634.732, 13674992333611.95, 7227435563193.106, 15845141447329.904, 9758220072639.781, 12032526440776.76, 14269611164111.732, 16466328345161.473, 9265203122414.865, 14314975153470.139, 23991676509343.75, 8723000703264.473, 9718266420847.44, 19675482198702.62, 7745236463878.294, 14524684166587.04, 8976991948341.062, 10767143236630.268, 7006878571871.584, 13547445411926.68, 12221677982583.234, 8537452695637.867, 12423839482399.438, 10992331957250.723, 10097120390505.36, 8472324052344.283, 7016751495305.944, 9015806324430.54, 8267968842464.514, 9291529800974.645, 15329359765164.574, 7666818021847.127, 16377415934971.414, 13713916668353.244, 11962551639043.648, 13199571747236.316, 12471369731724.9, 19507076597556.883, 16725307263609.809, 10630573127447.178, 12870529875663.916, 13024579437497.97, 17311586209588.254, 10198424171148.922, 15217688772923.582, 9102288648085.338, 7645874373378.86, 13338188131539.021, 12392780041862.428, 20716236180207.734, 21594401591621.223, 7677078971368.314, 22343152168819.535, 7744644939469.718, 6788450069609.243, 8251749008938.094, 14564829297073.936, 16288147140483.59, 23294960815680.266, 15021583126583.297, 14319078776451.504, 11321224096748.564, 16248606233204.154, 24221860301372.984, 25167367389132.043, 14030042642234.654, 11746742836680.865, 10147042843789.312, 7592914189704.371, 9967542548095.646, 10791282753665.973, 13171911955113.38, 14146503808666.133, 11370572261813.61, 21608778920272.934, 23416620189191.008, 12563647207066.312, 14147385926320.838, 14908670140246.297, 7810322766850.521, 8335021831892.959, 18990094403009.336, 13455647687584.348, 8375347578072.271, 10617852708939.494, 10635213903303.879, 16783308681251.2, 15388728663211.154, 10687388147333.9, 10856642019563.549, 12219040150967.195, 16539787381173.219, 10603024027914.174, 21530664712350.715, 10771253878082.719, 10404536349234.744]\n"
     ]
    }
   ],
   "source": [
    "k_fold_cross_validation(100,1,train_valid_shuffled,'price','sqft_living')"
   ]
  },
  {
   "cell_type": "markdown",
   "metadata": {},
   "source": [
    "***QUIZ QUESTIONS:  What is the best value for the L2 penalty according to 10-fold validation?***"
   ]
  },
  {
   "cell_type": "markdown",
   "metadata": {},
   "source": [
    "You may find it useful to plot the k-fold cross-validation errors you have obtained to better understand the behavior of the method.  "
   ]
  },
  {
   "cell_type": "code",
   "execution_count": 146,
   "metadata": {},
   "outputs": [
    {
     "data": {
      "text/plain": [
       "[<matplotlib.lines.Line2D at 0x122d15a10>]"
      ]
     },
     "execution_count": 146,
     "metadata": {},
     "output_type": "execute_result"
    },
    {
     "data": {
      "image/png": "[encoded data removed]",
      "text/plain": [
       "<Figure size 432x288 with 1 Axes>"
      ]
     },
     "metadata": {
      "needs_background": "light"
     },
     "output_type": "display_data"
    }
   ],
   "source": [
    "# Plot the l2_penalty values in the x axis and the cross-validation error in the y axis.\n",
    "# Using plt.xscale('log') will make your plot more intuitive.\n",
    "plt.xscale('log')\n",
    "plt.plot(np.logspace(0, 7, num=13),arr,'.')    "
   ]
  },
  {
   "cell_type": "markdown",
   "metadata": {},
   "source": [
    "Once you found the best value for the L2 penalty using cross-validation, it is important to retrain a final model on all of the training data using this value of `l2_penalty`. This way, your final model will be trained on the entire dataset."
   ]
  },
  {
   "cell_type": "markdown",
   "metadata": {},
   "source": [
    "***QUIZ QUESTION: Using the best L2 penalty found above, train a model using all training data. What is the RSS on the TEST data of the model you learn with this L2 penalty? ***"
   ]
  },
  {
   "cell_type": "code",
   "execution_count": 149,
   "metadata": {},
   "outputs": [],
   "source": [
    "poly=polynomial_sframe(train_valid_shuffled['sqft_living'], 15)\n",
    "bestmodel= linear_model.Ridge(alpha=100, normalize=True)\n",
    "fit= bestmodel.fit(poly,train_valid_shuffled['price'])\n",
    "poly_test=polynomial_sframe(test['sqft_living'], 15)\n",
    "predictions= fit.predict(poly_test)\n",
    "res = test['price']-predictions\n",
    "error = sum(res*res)\n"
   ]
  },
  {
   "cell_type": "code",
   "execution_count": 150,
   "metadata": {},
   "outputs": [
    {
     "data": {
      "text/plain": [
       "(14.442201282031792, 276822433432558.9)"
      ]
     },
     "execution_count": 150,
     "metadata": {},
     "output_type": "execute_result"
    }
   ],
   "source": [
    "np.log10(error), error"
   ]
  },
  {
   "cell_type": "code",
   "execution_count": 128,
   "metadata": {},
   "outputs": [
    {
     "data": {
      "text/plain": [
       "10.0"
      ]
     },
     "execution_count": 128,
     "metadata": {},
     "output_type": "execute_result"
    }
   ],
   "source": [
    "1.00000000e+01"
   ]
  },
  {
   "cell_type": "code",
   "execution_count": null,
   "metadata": {},
   "outputs": [],
   "source": []
  }
 ],
 "metadata": {
  "kernelspec": {
   "display_name": "gl-env",
   "language": "python",
   "name": "gl-env"
  },
  "language_info": {
   "codemirror_mode": {
    "name": "ipython",
    "version": 2
   },
   "file_extension": ".py",
   "mimetype": "text/x-python",
   "name": "python",
   "nbconvert_exporter": "python",
   "pygments_lexer": "ipython2",
   "version": "2.7.15"
  }
 },
 "nbformat": 4,
 "nbformat_minor": 1
}
