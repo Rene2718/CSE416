{
 "cells": [
  {
   "cell_type": "markdown",
   "metadata": {},
   "source": [
    "# Regression Week 4: Ridge Regression (gradient descent)"
   ]
  },
  {
   "cell_type": "markdown",
   "metadata": {},
   "source": [
    "In this notebook, you will implement ridge regression via gradient descent. You will:\n",
    "* Convert an SFrame into a Numpy array\n",
    "* Write a Numpy function to compute the derivative of the regression weights with respect to a single feature\n",
    "* Write gradient descent function to compute the regression weights given an initial weight vector, step size, tolerance, and L2 penalty"
   ]
  },
  {
   "cell_type": "markdown",
   "metadata": {},
   "source": [
    "# Fire up graphlab create"
   ]
  },
  {
   "cell_type": "markdown",
   "metadata": {},
   "source": [
    "Make sure you have the latest version of GraphLab Create (>= 1.7)"
   ]
  },
  {
   "cell_type": "code",
   "execution_count": 1,
   "metadata": {},
   "outputs": [],
   "source": [
    "import graphlab\n",
    "import pandas as pd"
   ]
  },
  {
   "cell_type": "markdown",
   "metadata": {},
   "source": [
    "# Load in house sales data\n",
    "\n",
    "Dataset is from house sales in King County, the region where the city of Seattle, WA is located."
   ]
  },
  {
   "cell_type": "code",
   "execution_count": 2,
   "metadata": {},
   "outputs": [
    {
     "name": "stdout",
     "output_type": "stream",
     "text": [
      "This non-commercial license of GraphLab Create for academic use is assigned to rene2718@uw.edu and will expire on September 03, 2020.\n"
     ]
    },
    {
     "name": "stderr",
     "output_type": "stream",
     "text": [
      "[INFO] graphlab.cython.cy_server: GraphLab Create v2.1 started. Logging: /tmp/graphlab_server_1571198255.log\n"
     ]
    }
   ],
   "source": [
    "sales = graphlab.SFrame('kc_house_data.gl/')\n",
    "sales.save('sales_pd.csv',format=\"csv\") \n",
    "sales=pd.read_csv('sales_pd.csv')"
   ]
  },
  {
   "cell_type": "markdown",
   "metadata": {},
   "source": [
    "If we want to do any \"feature engineering\" like creating new features or adjusting existing ones we should do this directly using the SFrames as seen in the first notebook of Week 2. For this notebook, however, we will work with the existing features."
   ]
  },
  {
   "cell_type": "markdown",
   "metadata": {},
   "source": [
    "# Import useful functions from previous notebook"
   ]
  },
  {
   "cell_type": "markdown",
   "metadata": {},
   "source": [
    "As in Week 2, we convert the SFrame into a 2D Numpy array. Copy and paste `get_numpy_data()` from the second notebook of Week 2."
   ]
  },
  {
   "cell_type": "code",
   "execution_count": 3,
   "metadata": {},
   "outputs": [],
   "source": [
    "import numpy as np # note this allows us to refer to numpy as np instead "
   ]
  },
  {
   "cell_type": "code",
   "execution_count": 4,
   "metadata": {},
   "outputs": [],
   "source": [
    "def get_numpy_data(data_sframe, features, output):\n",
    "    data_sframe['constant'] = 1 # add a constant column to an SFrame\n",
    "    # prepend variable 'constant' to the features list\n",
    "    #features = ['constant'] + features\n",
    "    df=pd.concat([data_sframe['constant'],data_sframe[features]],axis=1)\n",
    "    # select the columns of data_SFrame given by the ‘features’ list into the SFrame ‘features_sframe’\n",
    "    features_matrix = df.values#[['constant',features]].values\n",
    "    # this will convert the features_sframe into a numpy matrix with GraphLab Create >= 1.7!!\n",
    "    #features_matrix = features_sframe.to_numpy()\n",
    "    # assign the column of data_sframe associated with the target to the variable ‘output_sarray’\n",
    "    output_sarray = data_sframe[output]\n",
    "    # this will convert the SArray into a numpy array:\n",
    "    output_array = output_sarray.to_numpy() # GraphLab Create>= 1.7!!\n",
    "    return(features_matrix, output_array)\n"
   ]
  },
  {
   "cell_type": "markdown",
   "metadata": {},
   "source": [
    "Also, copy and paste the `predict_output()` function to compute the predictions for an entire matrix of features given the matrix and the weights:"
   ]
  },
  {
   "cell_type": "code",
   "execution_count": 5,
   "metadata": {},
   "outputs": [],
   "source": [
    "def predict_output(feature_matrix, weights):\n",
    "    predictions= np.dot(feature_matrix, weights)\n",
    "    return(predictions)\n"
   ]
  },
  {
   "cell_type": "markdown",
   "metadata": {},
   "source": [
    "# Computing the Derivative"
   ]
  },
  {
   "cell_type": "markdown",
   "metadata": {},
   "source": [
    "We are now going to move to computing the derivative of the regression cost function. Recall that the cost function is the sum over the data points of the squared difference between an observed output and a predicted output, plus the L2 penalty term.\n",
    "```\n",
    "Cost(w)\n",
    "= SUM[ (prediction - output)^2 ]\n",
    "+ l2_penalty*(w[0]^2 + w[1]^2 + ... + w[k]^2).\n",
    "```\n",
    "\n",
    "Since the derivative of a sum is the sum of the derivatives, we can take the derivative of the first part (the RSS) as we did in the notebook for the unregularized case in Week 2 and add the derivative of the regularization part.  As we saw, the derivative of the RSS with respect to `w[i]` can be written as: \n",
    "```\n",
    "2*SUM[ error*[feature_i] ].\n",
    "```\n",
    "The derivative of the regularization term with respect to `w[i]` is:\n",
    "```\n",
    "2*l2_penalty*w[i].\n",
    "```\n",
    "Summing both, we get\n",
    "```\n",
    "2*SUM[ error*[feature_i] ] + 2*l2_penalty*w[i].\n",
    "```\n",
    "That is, the derivative for the weight for feature i is the sum (over data points) of 2 times the product of the error and the feature itself, plus `2*l2_penalty*w[i]`. \n",
    "\n",
    "**We will not regularize the constant.**  Thus, in the case of the constant, the derivative is just twice the sum of the errors (without the `2*l2_penalty*w[0]` term).\n",
    "\n",
    "Recall that twice the sum of the product of two vectors is just twice the dot product of the two vectors. Therefore the derivative for the weight for feature_i is just two times the dot product between the values of feature_i and the current errors, plus `2*l2_penalty*w[i]`.\n",
    "\n",
    "With this in mind complete the following derivative function which computes the derivative of the weight given the value of the feature (over all data points) and the errors (over all data points).  To decide when to we are dealing with the constant (so we don't regularize it) we added the extra parameter to the call `feature_is_constant` which you should set to `True` when computing the derivative of the constant and `False` otherwise."
   ]
  },
  {
   "cell_type": "code",
   "execution_count": 6,
   "metadata": {},
   "outputs": [],
   "source": [
    "def feature_derivative_ridge(errors, feature, weight, l2_penalty, feature_is_constant):\n",
    "    # If feature_is_constant is True, derivative is twice the dot product of errors and feature\n",
    "    if feature_is_constant==True:\n",
    "        derivative = 2*np.dot(errors,feature)\n",
    "    # Otherwise, derivative is twice the dot product plus 2*l2_penalty*weight\n",
    "    else:\n",
    "        derivative = 2*np.dot(errors,feature) + 2*l2_penalty*weight\n",
    "    return derivative"
   ]
  },
  {
   "cell_type": "markdown",
   "metadata": {},
   "source": [
    "To test your feature derivartive run the following:"
   ]
  },
  {
   "cell_type": "code",
   "execution_count": 7,
   "metadata": {},
   "outputs": [
    {
     "name": "stdout",
     "output_type": "stream",
     "text": [
      "-56554166815950.0\n",
      "-56554166815950.0\n",
      "\n",
      "-22446749330.0\n",
      "-22446749330.0\n"
     ]
    }
   ],
   "source": [
    "(example_features, example_output) = get_numpy_data(sales, ['sqft_living'], 'price') \n",
    "my_weights = np.array([1., 10.])\n",
    "test_predictions = predict_output(example_features, my_weights) \n",
    "errors = test_predictions - example_output # prediction errors\n",
    "\n",
    "# next two lines should print the same values\n",
    "print feature_derivative_ridge(errors, example_features[:,1], my_weights[1], 1, False)\n",
    "print np.sum(errors*example_features[:,1])*2+20.\n",
    "print ''\n",
    "\n",
    "# next two lines should print the same values\n",
    "print feature_derivative_ridge(errors, example_features[:,0], my_weights[0], 1, True)\n",
    "print np.sum(errors)*2."
   ]
  },
  {
   "cell_type": "code",
   "execution_count": 8,
   "metadata": {},
   "outputs": [
    {
     "data": {
      "text/plain": [
       "array([[   1, 1180],\n",
       "       [   1, 2570],\n",
       "       [   1,  770],\n",
       "       ...,\n",
       "       [   1, 1020],\n",
       "       [   1, 1600],\n",
       "       [   1, 1020]])"
      ]
     },
     "execution_count": 8,
     "metadata": {},
     "output_type": "execute_result"
    }
   ],
   "source": [
    "example_features\n"
   ]
  },
  {
   "cell_type": "markdown",
   "metadata": {},
   "source": [
    "# Gradient Descent"
   ]
  },
  {
   "cell_type": "markdown",
   "metadata": {},
   "source": [
    "Now we will write a function that performs a gradient descent. The basic premise is simple. Given a starting point we update the current weights by moving in the negative gradient direction. Recall that the gradient is the direction of *increase* and therefore the negative gradient is the direction of *decrease* and we're trying to *minimize* a cost function. \n",
    "\n",
    "The amount by which we move in the negative gradient *direction*  is called the 'step size'. We stop when we are 'sufficiently close' to the optimum. Unlike in Week 2, this time we will set a **maximum number of iterations** and take gradient steps until we reach this maximum number. If no maximum number is supplied, the maximum should be set 100 by default. (Use default parameter values in Python.)\n",
    "\n",
    "With this in mind, complete the following gradient descent function below using your derivative function above. For each step in the gradient descent, we update the weight for each feature before computing our stopping criteria."
   ]
  },
  {
   "cell_type": "code",
   "execution_count": 9,
   "metadata": {},
   "outputs": [],
   "source": [
    "def ridge_regression_gradient_descent(feature_matrix, output, initial_weights, step_size, l2_penalty, max_iterations):\n",
    "    print 'Starting gradient descent with l2_penalty = ' + str(l2_penalty)\n",
    "    \n",
    "    weights = np.array(initial_weights) # make sure it's a numpy array\n",
    "    iteration = 0 # iteration counter\n",
    "    print_frequency = 1  # for adjusting frequency of debugging output\n",
    "    \n",
    "    #while not reached maximum number of iterations:\n",
    "    while iteration <= max_iterations:\n",
    "        iteration += 1  # increment iteration counter\n",
    "        ### === code section for adjusting frequency of debugging output. ===\n",
    "        if iteration == 10:\n",
    "            print_frequency = 10\n",
    "        if iteration == 100:\n",
    "            print_frequency = 100\n",
    "        if iteration%print_frequency==0:\n",
    "            print('Iteration = ' + str(iteration))\n",
    "        ### === end code section ===\n",
    "        \n",
    "        # compute the predictions based on feature_matrix and weights using your predict_output() function\n",
    "        predictions = predict_output(feature_matrix, weights)\n",
    "        # compute the errors as predictions - output\n",
    "        errors = predictions - output\n",
    "        # from time to time, print the value of the cost function\n",
    "        if iteration%print_frequency==0:\n",
    "            print 'Cost function = ', str(np.dot(errors,errors) + l2_penalty*(np.dot(weights,weights) - weights[0]**2))\n",
    "        \n",
    "        for i in xrange(len(weights)): # loop over each weight\n",
    "            # Recall that feature_matrix[:,i] is the feature column associated with weights[i]\n",
    "            # compute the derivative for weight[i].\n",
    "            #(Remember: when i=0, you are computing the derivative of the constant!)\n",
    "            if i == 0:\n",
    "                derivative =  feature_derivative_ridge(errors, feature_matrix[:,0], weights[0], l2_penalty, True)\n",
    "            # Otherwise, derivative is twice the dot product plus 2*l2_penalty*weight\n",
    "            else:\n",
    "                derivative =  feature_derivative_ridge(errors, feature_matrix[:,i], weights[i], l2_penalty, False)\n",
    "            # subtract the step size times the derivative from the current weight\n",
    "            weights[i] = weights[i]-step_size*derivative\n",
    "    print 'Done with gradient descent at iteration ', iteration\n",
    "    print 'Learned weights = ', str(weights)\n",
    "    return weights"
   ]
  },
  {
   "cell_type": "markdown",
   "metadata": {},
   "source": [
    "# Visualizing effect of L2 penalty"
   ]
  },
  {
   "cell_type": "markdown",
   "metadata": {},
   "source": [
    "The L2 penalty gets its name because it causes weights to have small L2 norms than otherwise. Let's see how large weights get penalized. Let us consider a simple model with 1 feature:"
   ]
  },
  {
   "cell_type": "code",
   "execution_count": 10,
   "metadata": {},
   "outputs": [],
   "source": [
    "simple_features = ['sqft_living']\n",
    "my_output = 'price'"
   ]
  },
  {
   "cell_type": "markdown",
   "metadata": {},
   "source": [
    "Let us split the dataset into training set and test set. Make sure to use `seed=0`:"
   ]
  },
  {
   "cell_type": "code",
   "execution_count": 11,
   "metadata": {},
   "outputs": [],
   "source": [
    "sales = graphlab.SFrame('kc_house_data.gl/')\n",
    "\n",
    "train_data,test_data = sales.random_split(.8,seed=0)\n",
    "train_data.save('train_pd.csv',format= \"csv\")\n",
    "test_data.save('test_pd.csv')\n",
    "train_data= pd.read_csv('train_pd.csv')\n",
    "test_data=pd.read_csv('test_pd.csv')\n"
   ]
  },
  {
   "cell_type": "markdown",
   "metadata": {},
   "source": [
    "In this part, we will only use `'sqft_living'` to predict `'price'`. Use the `get_numpy_data` function to get a Numpy versions of your data with only this feature, for both the `train_data` and the `test_data`. "
   ]
  },
  {
   "cell_type": "code",
   "execution_count": 14,
   "metadata": {},
   "outputs": [],
   "source": [
    "(simple_feature_matrix, output) = get_numpy_data(train_data, simple_features, my_output)\n",
    "(simple_test_feature_matrix, test_output) = get_numpy_data(test_data, simple_features, my_output)"
   ]
  },
  {
   "cell_type": "markdown",
   "metadata": {},
   "source": [
    "Let's set the parameters for our optimization:"
   ]
  },
  {
   "cell_type": "code",
   "execution_count": 25,
   "metadata": {},
   "outputs": [],
   "source": [
    "initial_weights = np.array([0., 0.])\n",
    "step_size = 1e-11\n",
    "max_iterations=1000"
   ]
  },
  {
   "cell_type": "markdown",
   "metadata": {},
   "source": [
    "First, let's consider no regularization.  Set the `l2_penalty` to `0.0` and run your ridge regression algorithm to learn the weights of your model.  Call your weights:\n",
    "\n",
    "`simple_weights_0_penalty`\n",
    "\n",
    "we'll use them later."
   ]
  },
  {
   "cell_type": "code",
   "execution_count": 26,
   "metadata": {},
   "outputs": [
    {
     "name": "stdout",
     "output_type": "stream",
     "text": [
      "Starting gradient descent with l2_penalty = 0.0\n",
      "Iteration = 1\n",
      "Cost function =  7433051852335772.0\n",
      "Iteration = 2\n",
      "Cost function =  7211030957458482.0\n",
      "Iteration = 3\n",
      "Cost function =  6996928914936931.0\n",
      "Iteration = 4\n",
      "Cost function =  6790463281883624.0\n",
      "Iteration = 5\n",
      "Cost function =  6591361689343636.0\n",
      "Iteration = 6\n",
      "Cost function =  6399361482986162.0\n",
      "Iteration = 7\n",
      "Cost function =  6214209376611568.0\n",
      "Iteration = 8\n",
      "Cost function =  6035661118016868.0\n",
      "Iteration = 9\n",
      "Cost function =  5863481166778808.0\n",
      "Iteration = 10\n",
      "Cost function =  5697442383529525.0\n",
      "Iteration = 20\n",
      "Cost function =  4330285827215105.5\n",
      "Iteration = 30\n",
      "Cost function =  3379488688269981.0\n",
      "Iteration = 40\n",
      "Cost function =  2718251176545323.0\n",
      "Iteration = 50\n",
      "Cost function =  2258389625633119.5\n",
      "Iteration = 60\n",
      "Cost function =  1938576181504340.0\n",
      "Iteration = 70\n",
      "Cost function =  1716160024194154.5\n",
      "Iteration = 80\n",
      "Cost function =  1561479387895285.5\n",
      "Iteration = 90\n",
      "Cost function =  1453905821583076.5\n",
      "Iteration = 100\n",
      "Cost function =  1379093146596372.5\n",
      "Iteration = 200\n",
      "Cost function =  1212772728143733.0\n",
      "Iteration = 300\n",
      "Cost function =  1208370811589800.5\n",
      "Iteration = 400\n",
      "Cost function =  1208254307654584.5\n",
      "Iteration = 500\n",
      "Cost function =  1208251223502144.0\n",
      "Iteration = 600\n",
      "Cost function =  1208251141171994.5\n",
      "Iteration = 700\n",
      "Cost function =  1208251138289511.0\n",
      "Iteration = 800\n",
      "Cost function =  1208251137509728.0\n",
      "Iteration = 900\n",
      "Cost function =  1208251136785596.5\n",
      "Iteration = 1000\n",
      "Cost function =  1208251136062938.0\n",
      "Done with gradient descent at iteration  1001\n",
      "Learned weights =  [7.87930880e-02 2.63024268e+02]\n",
      "[7.87930880e-02 2.63024268e+02]\n"
     ]
    }
   ],
   "source": [
    "l2_penalty = 0.0\n",
    "simple_weights_0_penalty = ridge_regression_gradient_descent(simple_feature_matrix, output, initial_weights, step_size, \n",
    "                                                             l2_penalty, max_iterations)\n",
    "print simple_weights_0_penalty\n"
   ]
  },
  {
   "cell_type": "markdown",
   "metadata": {},
   "source": [
    "Next, let's consider high regularization.  Set the `l2_penalty` to `1e11` and run your ridge regression algorithm to learn the weights of your model.  Call your weights:\n",
    "\n",
    "`simple_weights_high_penalty`\n",
    "\n",
    "we'll use them later."
   ]
  },
  {
   "cell_type": "code",
   "execution_count": 62,
   "metadata": {},
   "outputs": [
    {
     "name": "stdout",
     "output_type": "stream",
     "text": [
      "Starting gradient descent with l2_penalty = 1e+11\n",
      "Iteration = 1\n",
      "Cost function =  7433051852335772.0\n",
      "Iteration = 2\n",
      "Cost function =  5618303898910948.0\n",
      "Iteration = 3\n",
      "Cost function =  4920613278301801.0\n",
      "Iteration = 4\n",
      "Cost function =  4652381942678797.0\n",
      "Iteration = 5\n",
      "Cost function =  4549258764034560.0\n",
      "Iteration = 6\n",
      "Cost function =  4509612390884944.0\n",
      "Iteration = 7\n",
      "Cost function =  4494370050276984.0\n",
      "Iteration = 8\n",
      "Cost function =  4488509984023467.5\n",
      "Iteration = 9\n",
      "Cost function =  4486256988524010.0\n",
      "Iteration = 10\n",
      "Cost function =  4485390752666539.5\n",
      "Iteration = 20\n",
      "Cost function =  4484848868025912.0\n",
      "Iteration = 30\n",
      "Cost function =  4484847880470641.5\n",
      "Iteration = 40\n",
      "Cost function =  4484846931073275.0\n",
      "Iteration = 50\n",
      "Cost function =  4484845981678999.5\n",
      "Iteration = 60\n",
      "Cost function =  4484845032285122.0\n",
      "Iteration = 70\n",
      "Cost function =  4484844082891644.0\n",
      "Iteration = 80\n",
      "Cost function =  4484843133498563.5\n",
      "Iteration = 90\n",
      "Cost function =  4484842184105884.0\n",
      "Iteration = 100\n",
      "Cost function =  4484841234713601.5\n",
      "Done with gradient descent at iteration  100\n",
      "Learned weights =  [  0.99807924 124.57384476]\n",
      "[  0.99807924 124.57384476]\n"
     ]
    }
   ],
   "source": [
    "l2_penalty =1e11 \n",
    "simple_weights_high_penalty = ridge_regression_gradient_descent(simple_feature_matrix, output, initial_weights, step_size, \n",
    "                                                             l2_penalty, max_iterations)\n",
    "print simple_weights_high_penalty\n"
   ]
  },
  {
   "cell_type": "markdown",
   "metadata": {},
   "source": [
    "This code will plot the two learned models.  (The blue line is for the model with no regularization and the red line is for the one with high regularization.)"
   ]
  },
  {
   "cell_type": "code",
   "execution_count": 63,
   "metadata": {},
   "outputs": [
    {
     "data": {
      "text/plain": [
       "[<matplotlib.lines.Line2D at 0x128b97850>,\n",
       " <matplotlib.lines.Line2D at 0x128b978d0>,\n",
       " <matplotlib.lines.Line2D at 0x128b94150>,\n",
       " <matplotlib.lines.Line2D at 0x128b941d0>,\n",
       " <matplotlib.lines.Line2D at 0x128b94950>,\n",
       " <matplotlib.lines.Line2D at 0x128b949d0>]"
      ]
     },
     "execution_count": 63,
     "metadata": {},
     "output_type": "execute_result"
    },
    {
     "data": {
      "image/png": "[encoded data removed]",
      "text/plain": [
       "<Figure size 432x288 with 1 Axes>"
      ]
     },
     "metadata": {
      "needs_background": "light"
     },
     "output_type": "display_data"
    }
   ],
   "source": [
    "import matplotlib.pyplot as plt\n",
    "%matplotlib inline\n",
    "plt.plot(simple_feature_matrix,output,'k.',\n",
    "         simple_feature_matrix,predict_output(simple_feature_matrix, simple_weights_0_penalty),'b-',\n",
    "        simple_feature_matrix,predict_output(simple_feature_matrix, simple_weights_high_penalty),'r-')"
   ]
  },
  {
   "cell_type": "markdown",
   "metadata": {},
   "source": [
    "Compute the RSS on the TEST data for the following three sets of weights:\n",
    "1. The initial weights (all zeros)\n",
    "2. The weights learned with no regularization\n",
    "3. The weights learned with high regularization\n",
    "\n",
    "Which weights perform best?"
   ]
  },
  {
   "cell_type": "code",
   "execution_count": 64,
   "metadata": {},
   "outputs": [
    {
     "data": {
      "text/plain": [
       "(15.25146137334238, 1784273286136298.0)"
      ]
     },
     "execution_count": 64,
     "metadata": {},
     "output_type": "execute_result"
    }
   ],
   "source": [
    "(test_feature_matrix, output) = get_numpy_data(test_data, simple_features, my_output)\n",
    "predictions = predict_output(test_feature_matrix, initial_weights)\n",
    "        # compute the errors as predictions - output\n",
    "errors = predictions - output\n",
    "errorsquare = errors**2\n",
    "RSS = np.sum(errorsquare)\n",
    "np.log10(RSS),RSS"
   ]
  },
  {
   "cell_type": "code",
   "execution_count": 65,
   "metadata": {},
   "outputs": [
    {
     "data": {
      "text/plain": [
       "(14.44047400560392, 275723641492717.78)"
      ]
     },
     "execution_count": 65,
     "metadata": {},
     "output_type": "execute_result"
    }
   ],
   "source": [
    "predictions = predict_output(test_feature_matrix, np.array([7.88199705e-02, 2.63024271e+02]))\n",
    "        # compute the errors as predictions - output\n",
    "errors = predictions - output\n",
    "errorsquare = errors**2\n",
    "RSS = np.sum(errorsquare)\n",
    "np.log10(RSS),RSS"
   ]
  },
  {
   "cell_type": "code",
   "execution_count": 66,
   "metadata": {},
   "outputs": [
    {
     "data": {
      "text/plain": [
       "(14.841767972172896, 694653090420226.8)"
      ]
     },
     "execution_count": 66,
     "metadata": {},
     "output_type": "execute_result"
    }
   ],
   "source": [
    "predictions = predict_output(test_feature_matrix, np.array([0.99807924, 124.57384476]))\n",
    "        # compute the errors as predictions - output\n",
    "errors = predictions - output\n",
    "errorsquare = errors**2\n",
    "RSS = np.sum(errorsquare)\n",
    "np.log10(RSS),RSS"
   ]
  },
  {
   "cell_type": "markdown",
   "metadata": {},
   "source": [
    "***QUIZ QUESTIONS***\n",
    "1. What is the value of the coefficient for `sqft_living` that you learned with no regularization, rounded to 1 decimal place?  What about the one with high regularization?\n",
    "2. Comparing the lines you fit with the with no regularization versus high regularization, which one is steeper?\n",
    "3. What are the RSS on the test data for each of the set of weights above (initial, no regularization, high regularization)? \n"
   ]
  },
  {
   "cell_type": "markdown",
   "metadata": {},
   "source": [
    "# Running a multiple regression with L2 penalty"
   ]
  },
  {
   "cell_type": "markdown",
   "metadata": {},
   "source": [
    "Let us now consider a model with 2 features: `['sqft_living', 'sqft_living15']`."
   ]
  },
  {
   "cell_type": "markdown",
   "metadata": {},
   "source": [
    "First, create Numpy versions of your training and test data with these two features. "
   ]
  },
  {
   "cell_type": "code",
   "execution_count": 68,
   "metadata": {},
   "outputs": [],
   "source": [
    "model_features = ['sqft_living', 'sqft_living15'] # sqft_living15 is the average squarefeet for the nearest 15 neighbors. \n",
    "my_output = 'price'\n",
    "(feature_matrix, output) = get_numpy_data(train_data, model_features, my_output)\n",
    "(test_feature_matrix, test_output) = get_numpy_data(test_data, model_features, my_output)"
   ]
  },
  {
   "cell_type": "markdown",
   "metadata": {},
   "source": [
    "We need to re-inialize the weights, since we have one extra parameter. Let us also set the step size and maximum number of iterations."
   ]
  },
  {
   "cell_type": "code",
   "execution_count": 72,
   "metadata": {},
   "outputs": [],
   "source": [
    "initial_weights = np.array([0.0,0.0,0.0])\n",
    "step_size = 1e-12\n",
    "max_iterations = 1000"
   ]
  },
  {
   "cell_type": "markdown",
   "metadata": {},
   "source": [
    "First, let's consider no regularization.  Set the `l2_penalty` to `0.0` and run your ridge regression algorithm to learn the weights of your model.  Call your weights:\n",
    "\n",
    "`multiple_weights_0_penalty`"
   ]
  },
  {
   "cell_type": "code",
   "execution_count": 73,
   "metadata": {},
   "outputs": [
    {
     "name": "stdout",
     "output_type": "stream",
     "text": [
      "Starting gradient descent with l2_penalty = 0.0\n",
      "Iteration = 1\n",
      "Cost function =  7433051852335772.0\n",
      "Iteration = 2\n",
      "Cost function =  4056752332045942.0\n",
      "Iteration = 3\n",
      "Cost function =  2529565114525310.0\n",
      "Iteration = 4\n",
      "Cost function =  1838556694300506.8\n",
      "Iteration = 5\n",
      "Cost function =  1525675575150296.5\n",
      "Iteration = 6\n",
      "Cost function =  1383789498571783.5\n",
      "Iteration = 7\n",
      "Cost function =  1319232606146273.5\n",
      "Iteration = 8\n",
      "Cost function =  1289648871879140.5\n",
      "Iteration = 9\n",
      "Cost function =  1275884723913736.5\n",
      "Iteration = 10\n",
      "Cost function =  1269278807397619.5\n",
      "Iteration = 20\n",
      "Cost function =  1257812386017016.0\n",
      "Iteration = 30\n",
      "Cost function =  1251954570861556.0\n",
      "Iteration = 40\n",
      "Cost function =  1246755422656425.8\n",
      "Iteration = 50\n",
      "Cost function =  1242139508166548.0\n",
      "Iteration = 60\n",
      "Cost function =  1238041400480994.0\n",
      "Iteration = 70\n",
      "Cost function =  1234403012742170.5\n",
      "Iteration = 80\n",
      "Cost function =  1231172774196731.5\n",
      "Iteration = 90\n",
      "Cost function =  1228304899227735.5\n",
      "Iteration = 100\n",
      "Cost function =  1225758738385979.0\n",
      "Iteration = 200\n",
      "Cost function =  1211738880290897.0\n",
      "Iteration = 300\n",
      "Cost function =  1207473079755049.5\n",
      "Iteration = 400\n",
      "Cost function =  1206175124539964.8\n",
      "Iteration = 500\n",
      "Cost function =  1205780188995876.2\n",
      "Iteration = 600\n",
      "Cost function =  1205660013231388.5\n",
      "Iteration = 700\n",
      "Cost function =  1205623438011734.2\n",
      "Iteration = 800\n",
      "Cost function =  1205612299743252.0\n",
      "Iteration = 900\n",
      "Cost function =  1205608901119130.5\n",
      "Iteration = 1000\n",
      "Cost function =  1205607857419329.5\n",
      "Done with gradient descent at iteration  1001\n",
      "Learned weights =  [ -0.35780714 243.05572642  22.41312485]\n"
     ]
    }
   ],
   "source": [
    "l2_penalty=0.0\n",
    "multiple_weights_0_penalty=ridge_regression_gradient_descent(feature_matrix, output, initial_weights, step_size, \n",
    "                                                             l2_penalty, max_iterations)"
   ]
  },
  {
   "cell_type": "markdown",
   "metadata": {},
   "source": [
    "Next, let's consider high regularization.  Set the `l2_penalty` to `1e11` and run your ridge regression algorithm to learn the weights of your model.  Call your weights:\n",
    "\n",
    "`multiple_weights_high_penalty`"
   ]
  },
  {
   "cell_type": "code",
   "execution_count": 74,
   "metadata": {},
   "outputs": [
    {
     "name": "stdout",
     "output_type": "stream",
     "text": [
      "Starting gradient descent with l2_penalty = 1e+11\n",
      "Iteration = 1\n",
      "Cost function =  7433051852335772.0\n",
      "Iteration = 2\n",
      "Cost function =  4460489790922030.0\n",
      "Iteration = 3\n",
      "Cost function =  3796674469325300.5\n",
      "Iteration = 4\n",
      "Cost function =  3648319530880127.0\n",
      "Iteration = 5\n",
      "Cost function =  3615091103648369.0\n",
      "Iteration = 6\n",
      "Cost function =  3607602742943372.5\n",
      "Iteration = 7\n",
      "Cost function =  3605886322588677.5\n",
      "Iteration = 8\n",
      "Cost function =  3605474874959446.5\n",
      "Iteration = 9\n",
      "Cost function =  3605365168191211.0\n",
      "Iteration = 10\n",
      "Cost function =  3605329402609966.0\n",
      "Iteration = 20\n",
      "Cost function =  3605294281447483.0\n",
      "Iteration = 30\n",
      "Cost function =  3605293537691883.0\n",
      "Iteration = 40\n",
      "Cost function =  3605293083174690.0\n",
      "Iteration = 50\n",
      "Cost function =  3605292631531144.0\n",
      "Iteration = 60\n",
      "Cost function =  3605292179916288.0\n",
      "Iteration = 70\n",
      "Cost function =  3605291728301859.5\n",
      "Iteration = 80\n",
      "Cost function =  3605291276687575.0\n",
      "Iteration = 90\n",
      "Cost function =  3605290825073435.0\n",
      "Iteration = 100\n",
      "Cost function =  3605290373459437.0\n",
      "Iteration = 200\n",
      "Cost function =  3605285857327310.0\n",
      "Iteration = 300\n",
      "Cost function =  3605281341209459.0\n",
      "Iteration = 400\n",
      "Cost function =  3605276825105885.0\n",
      "Iteration = 500\n",
      "Cost function =  3605272309016589.0\n",
      "Iteration = 600\n",
      "Cost function =  3605267792941569.5\n",
      "Iteration = 700\n",
      "Cost function =  3605263276880826.0\n",
      "Iteration = 800\n",
      "Cost function =  3605258760834361.0\n",
      "Iteration = 900\n",
      "Cost function =  3605254244802172.0\n",
      "Iteration = 1000\n",
      "Cost function =  3605249728784259.0\n",
      "Done with gradient descent at iteration  1001\n",
      "Learned weights =  [ 6.74968592 91.48927275 78.43658676]\n"
     ]
    }
   ],
   "source": [
    "l2_penalty = 1e11\n",
    "multiple_weights_high_penalty=ridge_regression_gradient_descent(feature_matrix, output, initial_weights, step_size, \n",
    "                                                             l2_penalty, max_iterations)\n",
    "\n"
   ]
  },
  {
   "cell_type": "markdown",
   "metadata": {},
   "source": [
    "Compute the RSS on the TEST data for the following three sets of weights:\n",
    "1. The initial weights (all zeros)\n",
    "2. The weights learned with no regularization\n",
    "3. The weights learned with high regularization\n",
    "\n",
    "Which weights perform best?"
   ]
  },
  {
   "cell_type": "code",
   "execution_count": 75,
   "metadata": {},
   "outputs": [
    {
     "data": {
      "text/plain": [
       "(15.25146137334238, 1784273286136298.0)"
      ]
     },
     "execution_count": 75,
     "metadata": {},
     "output_type": "execute_result"
    }
   ],
   "source": [
    "(test_feature_matrix, output) = get_numpy_data(test_data, model_features, my_output)\n",
    "predictions = predict_output(test_feature_matrix, initial_weights)\n",
    "        # compute the errors as predictions - output\n",
    "errors = predictions - output\n",
    "errorsquare = errors**2\n",
    "RSS = np.sum(errorsquare)\n",
    "np.log10(RSS),RSS"
   ]
  },
  {
   "cell_type": "code",
   "execution_count": 76,
   "metadata": {},
   "outputs": [
    {
     "data": {
      "text/plain": [
       "(77464.69321329583, 14.437857842462368, 274067691978516.38)"
      ]
     },
     "execution_count": 76,
     "metadata": {},
     "output_type": "execute_result"
    }
   ],
   "source": [
    "predictions = predict_output(test_feature_matrix, multiple_weights_0_penalty)\n",
    "        # compute the errors as predictions - output\n",
    "errors = predictions - output\n",
    "errorsquare = errors**2\n",
    "RSS = np.sum(errorsquare)\n",
    "\n",
    "errors[0],np.log10(RSS),RSS\n"
   ]
  },
  {
   "cell_type": "code",
   "execution_count": 77,
   "metadata": {},
   "outputs": [
    {
     "data": {
      "text/plain": [
       "(-39546.465853187314, 14.699321464100526, 500404796779316.3)"
      ]
     },
     "execution_count": 77,
     "metadata": {},
     "output_type": "execute_result"
    }
   ],
   "source": [
    "predictions = predict_output(test_feature_matrix, multiple_weights_high_penalty)\n",
    "        # compute the errors as predictions - output\n",
    "errors = predictions - output\n",
    "errorsquare = errors**2\n",
    "RSS = np.sum(errorsquare)\n",
    "errors[0],np.log10(RSS),RSS"
   ]
  },
  {
   "cell_type": "markdown",
   "metadata": {},
   "source": [
    "Predict the house price for the 1st house in the test set using the no regularization and high regularization models. (Remember that python starts indexing from 0.) How far is the prediction from the actual price?  Which weights perform best for the 1st house?"
   ]
  },
  {
   "cell_type": "markdown",
   "metadata": {
    "collapsed": true
   },
   "source": [
    "***QUIZ QUESTIONS***\n",
    "1. What is the value of the coefficient for `sqft_living` that you learned with no regularization, rounded to 1 decimal place?  What about the one with high regularization?\n",
    "2. What are the RSS on the test data for each of the set of weights above (initial, no regularization, high regularization)? \n",
    "3. We make prediction for the first house in the test set using two sets of weights (no regularization vs high regularization). Which weights make better prediction <u>for that particular house</u>?"
   ]
  },
  {
   "cell_type": "code",
   "execution_count": null,
   "metadata": {
    "collapsed": true
   },
   "outputs": [],
   "source": []
  }
 ],
 "metadata": {
  "kernelspec": {
   "display_name": "gl-env",
   "language": "python",
   "name": "gl-env"
  },
  "language_info": {
   "codemirror_mode": {
    "name": "ipython",
    "version": 2
   },
   "file_extension": ".py",
   "mimetype": "text/x-python",
   "name": "python",
   "nbconvert_exporter": "python",
   "pygments_lexer": "ipython2",
   "version": "2.7.15"
  }
 },
 "nbformat": 4,
 "nbformat_minor": 1
}
